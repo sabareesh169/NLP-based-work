{
 "cells": [
  {
   "cell_type": "markdown",
   "metadata": {},
   "source": [
    "<img src=\"https://m.files.bbci.co.uk/modules/bbc-morph-news-waf-page-meta/2.5.2/bbc_news_logo.png\"/>\n",
    "\n",
    "# BBC Article topic and theme identification\n",
    "***\n",
    "\n",
    "The target of this program is to identify the G20 countries discussed about in each article. This may be directly talking about the country or indirect references. For example, if the article mentions White House, we should identify that the article is referencing USA. \n",
    "\n",
    "The next step is to further identify and group the articles into themes.\n",
    "\n",
    "### Useful information\n",
    "\n",
    "The G20 is made up of 19 countries and the European Union. The 19 countries are Argentina, Australia, Brazil, Canada, China, Germany, France, India, Indonesia, Italy, Japan, Mexico, the Russian Federation, Saudi Arabia, South Africa, South Korea, Turkey, the UK and the US."
   ]
  },
  {
   "cell_type": "markdown",
   "metadata": {},
   "source": [
    "# Table of Content\n",
    "***\n",
    "### Getting started:\n",
    "- Define the objective\n",
    "\n",
    "- Import necessary packages\n",
    "\n",
    "- Read in the necessary data\n",
    "\n",
    "### Text Processing:\n",
    "\n",
    "- Normalizing Words (Removing punctuation, stop words)\n",
    "\n",
    "### Extraction information from Text:\n",
    "\n",
    "- Extracting entities using Spacy\n",
    "\n",
    "- Capturing direct references of G20 conutries\n",
    "\n",
    "- Capturing indirect references using DBPedia\n",
    "\n",
    "- Consolidating the information\n",
    "\n",
    "### Topic Modeling\n",
    "\n",
    "- Vectorize the data (TF-IDF)\n",
    "\n",
    "- LDA model exploration to find best fit\n",
    "\n",
    "- NMF model \n",
    "\n",
    "- Inference of top n categories\n",
    "\n"
   ]
  },
  {
   "cell_type": "markdown",
   "metadata": {},
   "source": [
    "## Importing Relavant Packages"
   ]
  },
  {
   "cell_type": "code",
   "execution_count": 1,
   "metadata": {},
   "outputs": [
    {
     "name": "stderr",
     "output_type": "stream",
     "text": [
      "unable to import 'smart_open.gcs', disabling that module\n"
     ]
    }
   ],
   "source": [
    "# General Packages\n",
    "import numpy as np\n",
    "import pandas as pd\n",
    "import re\n",
    "import itertools\n",
    "from matplotlib import pyplot as plt\n",
    "import wikipedia\n",
    "from bs4 import BeautifulSoup\n",
    "import requests\n",
    "\n",
    "# NLP packages\n",
    "from nltk.corpus import stopwords\n",
    "import spacy\n",
    "import en_core_web_sm\n",
    "nlp = en_core_web_sm.load()\n",
    "from nltk.tokenize import word_tokenize\n",
    "import nltk\n",
    "from sklearn.feature_extraction.text import TfidfVectorizer\n",
    "from spacy import displacy\n",
    "\n",
    "# Model building packages\n",
    "import warnings\n",
    "warnings.filterwarnings(\"ignore\")\n",
    "from tqdm import tqdm, tqdm_notebook\n",
    "from sklearn.cluster import MiniBatchKMeans, KMeans\n",
    "from sklearn.metrics import silhouette_score\n",
    "from sklearn.preprocessing import Normalizer\n",
    "from scipy.sparse import hstack\n",
    "\n",
    "# LDA modules\n",
    "warnings.filterwarnings(action='ignore', category=UserWarning, module='gensim')\n",
    "import gensim\n",
    "import gensim.corpora as corpora\n",
    "from gensim import matutils\n",
    "from gensim.models import CoherenceModel"
   ]
  },
  {
   "cell_type": "markdown",
   "metadata": {},
   "source": [
    "## Read in the datafiles"
   ]
  },
  {
   "cell_type": "code",
   "execution_count": 2,
   "metadata": {},
   "outputs": [],
   "source": [
    "n = 0\n",
    "business={}\n",
    "while True:\n",
    "    try:\n",
    "        n=n+1\n",
    "        file = open('business/'+str(n).zfill(3)+'.txt', \"r\")\n",
    "        business[n] = file.read()\n",
    "    except: break\n",
    "       "
   ]
  },
  {
   "cell_type": "markdown",
   "metadata": {},
   "source": [
    "### Check the data and it's type"
   ]
  },
  {
   "cell_type": "code",
   "execution_count": 3,
   "metadata": {},
   "outputs": [
    {
     "name": "stdout",
     "output_type": "stream",
     "text": [
      "Court rejects $280bn tobacco case\n",
      "\n",
      "A US government claim accusing the country's biggest tobacco companies of covering up the effects of smoking has been thrown out by an appeal court.\n",
      "\n",
      "The demand for $280bn (Â£155bn) - filed by the Clinton administration in 1999 - was rejected in a 2-1 decision. The court in Washington found that the case could not be brought under federal anti-racketeering laws. Among the accused were Altria Group, RJ Reynolds Tobacco, Lorillard Tobacco, Liggett Group and Brown and Williamson. In its case, the government claimed tobacco firms manipulated nicotine levels to increase addiction, targeted teenagers with multi-billion dollar advertising campaigns, lied about the dangers of smoking and ignored research to the contrary.\n",
      "\n",
      "Prosecutors wanted the cigarette firms to surrender $280bn in profits accumulated over the past 50 years and impose tougher rules on marketing their products. But the Court of Appeals for the District of Columbia ruled that the US government could not sue the firms under legislation drawn up to counteract Mafia infiltration of business. The tobacco companies deny that they illegally conspired to promote smoking and defraud the public. They also say they have already met many of the government's demands in a landmark $206bn settlement reached with 46 states in 1998. Shares of tobacco companies closed higher after the ruling, with Altria rising 5% and Reynolds showing gains of 4.5%.\n",
      "\n"
     ]
    }
   ],
   "source": [
    "print(business[10])"
   ]
  },
  {
   "cell_type": "markdown",
   "metadata": {},
   "source": [
    "### Store the data in a DataFrame for easier manipulation"
   ]
  },
  {
   "cell_type": "code",
   "execution_count": 4,
   "metadata": {},
   "outputs": [
    {
     "data": {
      "text/html": [
       "<div>\n",
       "<style scoped>\n",
       "    .dataframe tbody tr th:only-of-type {\n",
       "        vertical-align: middle;\n",
       "    }\n",
       "\n",
       "    .dataframe tbody tr th {\n",
       "        vertical-align: top;\n",
       "    }\n",
       "\n",
       "    .dataframe thead th {\n",
       "        text-align: right;\n",
       "    }\n",
       "</style>\n",
       "<table border=\"1\" class=\"dataframe\">\n",
       "  <thead>\n",
       "    <tr style=\"text-align: right;\">\n",
       "      <th></th>\n",
       "      <th>article</th>\n",
       "    </tr>\n",
       "  </thead>\n",
       "  <tbody>\n",
       "    <tr>\n",
       "      <th>1</th>\n",
       "      <td>Ad sales boost Time Warner profit\\n\\nQuarterly...</td>\n",
       "    </tr>\n",
       "    <tr>\n",
       "      <th>2</th>\n",
       "      <td>Dollar gains on Greenspan speech\\n\\nThe dollar...</td>\n",
       "    </tr>\n",
       "    <tr>\n",
       "      <th>3</th>\n",
       "      <td>Yukos unit buyer faces loan claim\\n\\nThe owner...</td>\n",
       "    </tr>\n",
       "    <tr>\n",
       "      <th>4</th>\n",
       "      <td>High fuel prices hit BA's profits\\n\\nBritish A...</td>\n",
       "    </tr>\n",
       "    <tr>\n",
       "      <th>5</th>\n",
       "      <td>Pernod takeover talk lifts Domecq\\n\\nShares in...</td>\n",
       "    </tr>\n",
       "  </tbody>\n",
       "</table>\n",
       "</div>"
      ],
      "text/plain": [
       "                                             article\n",
       "1  Ad sales boost Time Warner profit\\n\\nQuarterly...\n",
       "2  Dollar gains on Greenspan speech\\n\\nThe dollar...\n",
       "3  Yukos unit buyer faces loan claim\\n\\nThe owner...\n",
       "4  High fuel prices hit BA's profits\\n\\nBritish A...\n",
       "5  Pernod takeover talk lifts Domecq\\n\\nShares in..."
      ]
     },
     "execution_count": 4,
     "metadata": {},
     "output_type": "execute_result"
    }
   ],
   "source": [
    "article_df = pd.DataFrame.from_dict(business, orient = 'index', columns=['article'])\n",
    "article_df.head(5)"
   ]
  },
  {
   "cell_type": "markdown",
   "metadata": {},
   "source": [
    "# Text Preprocessing\n",
    "## Cleaning"
   ]
  },
  {
   "cell_type": "code",
   "execution_count": 5,
   "metadata": {
    "scrolled": true
   },
   "outputs": [],
   "source": [
    "# Removing any special characters and keep only letters and numbers\n",
    "article_df[\"article\"] = article_df[\"article\"].apply(lambda x: re.sub(\"[^a-zA-Z]+\",\" \",x))"
   ]
  },
  {
   "cell_type": "code",
   "execution_count": 6,
   "metadata": {},
   "outputs": [
    {
     "name": "stderr",
     "output_type": "stream",
     "text": [
      "[nltk_data] Downloading package stopwords to\n",
      "[nltk_data]     C:\\Users\\ramya\\AppData\\Roaming\\nltk_data...\n",
      "[nltk_data]   Package stopwords is already up-to-date!\n"
     ]
    }
   ],
   "source": [
    "# Remove any stopwords\n",
    "nltk.download('stopwords')\n",
    "stop = stopwords.words('english')\n",
    "stop.extend(['said', 'The', 'Mr', 'also', 'year', 'But', 'It', 'In', 'bn', 'mn', 'last', 'would', \\\n",
    "             'could', 'mr', 'A', 'say', 'many', 'They', 'Those', 'That', 'Ask', 'Its'])\n",
    "\n",
    "# The usual method to remove stopwords would be to make them all smaller but in our case, \n",
    "# we cannot do that. This is because converting to lowercase would make 'US' as 'us' which\n",
    "# are obviously two different words.\n",
    "\n",
    "def remove_stop(x:pd.Series)-> str:\n",
    "    '''\n",
    "    Takes in a Series object and returns a string with necessary modifications done\n",
    "    '''\n",
    "    article = x['article']\n",
    "    tokens = word_tokenize(article)\n",
    "    rx = re.compile('\\w{2,}')\n",
    "    tokens_without_sw= [word for word in tokens if word not in stop and rx.match(word)]\n",
    "\n",
    "    return (\" \".join(tokens_without_sw))\n",
    "\n",
    "article_df[\"article\"] = article_df.apply(remove_stop, axis=1)"
   ]
  },
  {
   "cell_type": "code",
   "execution_count": 7,
   "metadata": {},
   "outputs": [
    {
     "data": {
      "text/plain": [
       "'Jeeves tips online ad revival Jeeves become third leading online search firm week thank revival internet advertising improving fortunes firm revenue nearly tripled fourth quarter exceeding Jeeves among best known names web relatively modest player profit quarter dwarfed announced rival Google earlier week During quarter Yahoo earned tipping resurgence online advertising trend taken hold relatively quickly Late marketing company Doubleclick one leading providers online advertising warned business put sale Thursday announced sharp turnaround brought unexpected increase profits Neither Jeeves Doubleclick thrilled investors profit news however cases shares fell Analysts attributed falls excessive expectations quarters fuelled dramatic outperformance Google Tuesday'"
      ]
     },
     "execution_count": 7,
     "metadata": {},
     "output_type": "execute_result"
    }
   ],
   "source": [
    "article_df[\"article\"][11]"
   ]
  },
  {
   "cell_type": "markdown",
   "metadata": {},
   "source": [
    "## Extracting Information from Text"
   ]
  },
  {
   "cell_type": "markdown",
   "metadata": {},
   "source": [
    "### Listing G20 Countries"
   ]
  },
  {
   "cell_type": "code",
   "execution_count": 8,
   "metadata": {},
   "outputs": [],
   "source": [
    "# All the roots of the G19 countries\n",
    "g19_countries_root = [\"Argenti\", \"Aussie\", \"Australia\", \"Brazil\", \"Canad\", \"Chin\", \"German\", \\\n",
    "     \"France\", \"French\", \"India\", \"Indonesia\", \"Japan\", \"Mexic\", \"Russia\", \"Arabia\", \"Ital\",\\\n",
    "     \"South Africa\", \"Korea\", \"Turk\", \"US\", \"United States\", \"America\"]\n",
    "\n",
    "# All the roots and European countries\n",
    "european_union_root = ['Austria', 'Belgi', 'Latvia', 'Bulgaria','Lithuania', 'Croatia', 'Luxembourg',\\\n",
    "'Cyprus', 'Malta', 'Czechia', 'Netherland', 'Dutch' 'Denmark', 'Pol', 'Estonia', 'Portug',\\\n",
    "'Fin', 'Romania', 'French', 'France', 'Slovakia', 'Slovenia', 'Gree', 'Spanish', 'Spain', 'Hungar', 'Swed']\n",
    "\n",
    "# All the roots of United Kingdom countries\n",
    "uk=[\"UK\", \"United Kingdom\", \"England\", \"Scottish\", \"Scotland\", \"Wales\", \"Ireland\", \"Irish\"]\n",
    "\n",
    "# Matching the root words with the countries\n",
    "matching_dict={\"Chin\":\"China\", \"Arabia\":'Saudi Arabia', \"Argenti\":\"Argentina\", 'Hungar': 'Hungary',\\\n",
    "                  'Swed': 'Sweden', \"Aussie\":\"Australia\", \"Canad\":\"Canada\", \"Mexic\":\"Mexico\", \\\n",
    "                  \"French\": 'France', \"America\":\"US\", \"Turk\":\"Turkey\", \"German\":\"Germany\",\"Ital\":\"Italy\",\\\n",
    "                  \"United States\":\"US\", \"uk\":\"UK\"}"
   ]
  },
  {
   "cell_type": "markdown",
   "metadata": {},
   "source": [
    "### Extracting Entities\n",
    "\n",
    "We use the Spacy NLP package to extract the entities. We will use the Spacy display package to visualize this. Looking at this example articles, we might want to capture all entities of type 'ORG', 'NORP' and 'GPE'. "
   ]
  },
  {
   "cell_type": "code",
   "execution_count": 9,
   "metadata": {},
   "outputs": [
    {
     "data": {
      "text/html": [
       "<div class=\"entities\" style=\"line-height: 2.5\">Court rejects tobacco case \n",
       "<mark class=\"entity\" style=\"background: #feca74; padding: 0.45em 0.6em; margin: 0 0.25em; line-height: 1; border-radius: 0.35em; box-decoration-break: clone; -webkit-box-decoration-break: clone\">\n",
       "    US\n",
       "    <span style=\"font-size: 0.8em; font-weight: bold; line-height: 1; border-radius: 0.35em; text-transform: uppercase; vertical-align: middle; margin-left: 0.5rem\">GPE</span>\n",
       "</mark>\n",
       " government claim accusing country biggest tobacco companies covering effects smoking thrown appeal court demand filed \n",
       "<mark class=\"entity\" style=\"background: #aa9cfc; padding: 0.45em 0.6em; margin: 0 0.25em; line-height: 1; border-radius: 0.35em; box-decoration-break: clone; -webkit-box-decoration-break: clone\">\n",
       "    Clinton\n",
       "    <span style=\"font-size: 0.8em; font-weight: bold; line-height: 1; border-radius: 0.35em; text-transform: uppercase; vertical-align: middle; margin-left: 0.5rem\">PERSON</span>\n",
       "</mark>\n",
       " administration rejected decision court \n",
       "<mark class=\"entity\" style=\"background: #feca74; padding: 0.45em 0.6em; margin: 0 0.25em; line-height: 1; border-radius: 0.35em; box-decoration-break: clone; -webkit-box-decoration-break: clone\">\n",
       "    Washington\n",
       "    <span style=\"font-size: 0.8em; font-weight: bold; line-height: 1; border-radius: 0.35em; text-transform: uppercase; vertical-align: middle; margin-left: 0.5rem\">GPE</span>\n",
       "</mark>\n",
       " found case brought federal anti racketeering laws Among accused \n",
       "<mark class=\"entity\" style=\"background: #aa9cfc; padding: 0.45em 0.6em; margin: 0 0.25em; line-height: 1; border-radius: 0.35em; box-decoration-break: clone; -webkit-box-decoration-break: clone\">\n",
       "    Altria Group RJ Reynolds\n",
       "    <span style=\"font-size: 0.8em; font-weight: bold; line-height: 1; border-radius: 0.35em; text-transform: uppercase; vertical-align: middle; margin-left: 0.5rem\">PERSON</span>\n",
       "</mark>\n",
       " Tobacco Lorillard Tobacco Liggett Group \n",
       "<mark class=\"entity\" style=\"background: #aa9cfc; padding: 0.45em 0.6em; margin: 0 0.25em; line-height: 1; border-radius: 0.35em; box-decoration-break: clone; -webkit-box-decoration-break: clone\">\n",
       "    Brown Williamson\n",
       "    <span style=\"font-size: 0.8em; font-weight: bold; line-height: 1; border-radius: 0.35em; text-transform: uppercase; vertical-align: middle; margin-left: 0.5rem\">PERSON</span>\n",
       "</mark>\n",
       " case government claimed tobacco firms manipulated nicotine levels increase addiction targeted teenagers multi \n",
       "<mark class=\"entity\" style=\"background: #e4e7d2; padding: 0.45em 0.6em; margin: 0 0.25em; line-height: 1; border-radius: 0.35em; box-decoration-break: clone; -webkit-box-decoration-break: clone\">\n",
       "    billion dollar\n",
       "    <span style=\"font-size: 0.8em; font-weight: bold; line-height: 1; border-radius: 0.35em; text-transform: uppercase; vertical-align: middle; margin-left: 0.5rem\">MONEY</span>\n",
       "</mark>\n",
       " advertising campaigns lied dangers smoking ignored research contrary Prosecutors wanted cigarette firms surrender profits accumulated \n",
       "<mark class=\"entity\" style=\"background: #bfe1d9; padding: 0.45em 0.6em; margin: 0 0.25em; line-height: 1; border-radius: 0.35em; box-decoration-break: clone; -webkit-box-decoration-break: clone\">\n",
       "    past years\n",
       "    <span style=\"font-size: 0.8em; font-weight: bold; line-height: 1; border-radius: 0.35em; text-transform: uppercase; vertical-align: middle; margin-left: 0.5rem\">DATE</span>\n",
       "</mark>\n",
       " impose tougher rules marketing products \n",
       "<mark class=\"entity\" style=\"background: #7aecec; padding: 0.45em 0.6em; margin: 0 0.25em; line-height: 1; border-radius: 0.35em; box-decoration-break: clone; -webkit-box-decoration-break: clone\">\n",
       "    Court Appeals District Columbia\n",
       "    <span style=\"font-size: 0.8em; font-weight: bold; line-height: 1; border-radius: 0.35em; text-transform: uppercase; vertical-align: middle; margin-left: 0.5rem\">ORG</span>\n",
       "</mark>\n",
       " ruled \n",
       "<mark class=\"entity\" style=\"background: #feca74; padding: 0.45em 0.6em; margin: 0 0.25em; line-height: 1; border-radius: 0.35em; box-decoration-break: clone; -webkit-box-decoration-break: clone\">\n",
       "    US\n",
       "    <span style=\"font-size: 0.8em; font-weight: bold; line-height: 1; border-radius: 0.35em; text-transform: uppercase; vertical-align: middle; margin-left: 0.5rem\">GPE</span>\n",
       "</mark>\n",
       " government sue firms legislation drawn counteract \n",
       "<mark class=\"entity\" style=\"background: #7aecec; padding: 0.45em 0.6em; margin: 0 0.25em; line-height: 1; border-radius: 0.35em; box-decoration-break: clone; -webkit-box-decoration-break: clone\">\n",
       "    Mafia\n",
       "    <span style=\"font-size: 0.8em; font-weight: bold; line-height: 1; border-radius: 0.35em; text-transform: uppercase; vertical-align: middle; margin-left: 0.5rem\">ORG</span>\n",
       "</mark>\n",
       " infiltration business tobacco companies deny illegally conspired promote smoking defraud public already met government demands landmark settlement reached states Shares tobacco companies closed higher ruling \n",
       "<mark class=\"entity\" style=\"background: #aa9cfc; padding: 0.45em 0.6em; margin: 0 0.25em; line-height: 1; border-radius: 0.35em; box-decoration-break: clone; -webkit-box-decoration-break: clone\">\n",
       "    Altria\n",
       "    <span style=\"font-size: 0.8em; font-weight: bold; line-height: 1; border-radius: 0.35em; text-transform: uppercase; vertical-align: middle; margin-left: 0.5rem\">PERSON</span>\n",
       "</mark>\n",
       " rising \n",
       "<mark class=\"entity\" style=\"background: #aa9cfc; padding: 0.45em 0.6em; margin: 0 0.25em; line-height: 1; border-radius: 0.35em; box-decoration-break: clone; -webkit-box-decoration-break: clone\">\n",
       "    Reynolds\n",
       "    <span style=\"font-size: 0.8em; font-weight: bold; line-height: 1; border-radius: 0.35em; text-transform: uppercase; vertical-align: middle; margin-left: 0.5rem\">PERSON</span>\n",
       "</mark>\n",
       " showing gains</div>"
      ],
      "text/plain": [
       "<IPython.core.display.HTML object>"
      ]
     },
     "metadata": {},
     "output_type": "display_data"
    }
   ],
   "source": [
    "displacy.render(nlp(article_df.loc[10][0]), jupyter=True, style='ent')"
   ]
  },
  {
   "cell_type": "code",
   "execution_count": 10,
   "metadata": {},
   "outputs": [
    {
     "data": {
      "text/plain": [
       "['Court Appeals District Columbia', 'US', 'Washington', 'Mafia']"
      ]
     },
     "execution_count": 10,
     "metadata": {},
     "output_type": "execute_result"
    }
   ],
   "source": [
    "def get_entities(article:str)->list:\n",
    "    '''\n",
    "    Takes in a string type and return a list of required entities\n",
    "    '''\n",
    "    entities = [ent.text for ent in nlp(article).ents if ent.label_ in ['GPE', 'ORG', 'NORP']]\n",
    "    return list(set(entities))\n",
    "    \n",
    "get_entities(article_df.loc[10][0])"
   ]
  },
  {
   "cell_type": "code",
   "execution_count": 11,
   "metadata": {},
   "outputs": [],
   "source": [
    "article_df[\"entities\"] = article_df[\"article\"].apply(get_entities)"
   ]
  },
  {
   "cell_type": "markdown",
   "metadata": {},
   "source": [
    "### Filter out any direct references of the G20 countries and remove them from entities"
   ]
  },
  {
   "cell_type": "code",
   "execution_count": 12,
   "metadata": {},
   "outputs": [],
   "source": [
    "def extract_g20_names(text_summary:str)->set:\n",
    "    '''\n",
    "    Takes in a string and returns a set of mentions of G20 countries\n",
    "    '''\n",
    "    country_set = set()\n",
    "\n",
    "    # Add country name if country in G19\n",
    "    for country in g19_countries_root:\n",
    "        if country in text_summary:\n",
    "            country_set.add(country)\n",
    "            \n",
    "    # Add EU for any European country\n",
    "    for country in european_union_root:\n",
    "        if country in text_summary:\n",
    "            country_set.add('EU')\n",
    "    \n",
    "    # Add UK for any united kingdom country\n",
    "    for country in uk:\n",
    "        if country in text_summary:\n",
    "            country_set.add('UK')\n",
    "            \n",
    "    return list(country_set)\n",
    "\n",
    "def direct_reference(x: pd.Series)->list:\n",
    "    '''\n",
    "    Takes in a series object and returns list of direct mentions of G20 countries\n",
    "    '''\n",
    "    \n",
    "    entities = x['entities'] \n",
    "          \n",
    "    # Get any direct mentions of G20 countries in the article\n",
    "    country_set = extract_g20_names(x['article'])\n",
    "    \n",
    "    # Remove the entities with country names\n",
    "    for country in country_set:\n",
    "        for entity in entities:\n",
    "            if country in entity:\n",
    "                entities.remove(entity)\n",
    "                \n",
    "    x['entities'] = entities\n",
    "    return list(country_set)\n",
    "\n",
    "article_df['direct_reference'] = article_df.apply(direct_reference, axis=1)"
   ]
  },
  {
   "cell_type": "code",
   "execution_count": 13,
   "metadata": {},
   "outputs": [
    {
     "data": {
      "text/html": [
       "<div>\n",
       "<style scoped>\n",
       "    .dataframe tbody tr th:only-of-type {\n",
       "        vertical-align: middle;\n",
       "    }\n",
       "\n",
       "    .dataframe tbody tr th {\n",
       "        vertical-align: top;\n",
       "    }\n",
       "\n",
       "    .dataframe thead th {\n",
       "        text-align: right;\n",
       "    }\n",
       "</style>\n",
       "<table border=\"1\" class=\"dataframe\">\n",
       "  <thead>\n",
       "    <tr style=\"text-align: right;\">\n",
       "      <th></th>\n",
       "      <th>article</th>\n",
       "      <th>entities</th>\n",
       "      <th>direct_reference</th>\n",
       "    </tr>\n",
       "  </thead>\n",
       "  <tbody>\n",
       "    <tr>\n",
       "      <th>1</th>\n",
       "      <td>Ad sales boost Time Warner profit Quarterly pr...</td>\n",
       "      <td>[TimeWarner, SEC, Bertelsmann, Time Warner, AO...</td>\n",
       "      <td>[US, German]</td>\n",
       "    </tr>\n",
       "    <tr>\n",
       "      <th>2</th>\n",
       "      <td>Dollar gains Greenspan speech dollar hit highe...</td>\n",
       "      <td>[Federal Reserve, Friday Federal Reserve, Whit...</td>\n",
       "      <td>[EU, America, Chin, US]</td>\n",
       "    </tr>\n",
       "    <tr>\n",
       "      <th>3</th>\n",
       "      <td>Yukos unit buyer faces loan claim owners embat...</td>\n",
       "      <td>[Reuters, Yukos, State, Legal, Rosneft, Moscow...</td>\n",
       "      <td>[Russia, US]</td>\n",
       "    </tr>\n",
       "    <tr>\n",
       "      <th>4</th>\n",
       "      <td>High fuel prices hit BA profits British Airway...</td>\n",
       "      <td>[Dresdner Kleinwort Wasserstein, BA, Club Worl...</td>\n",
       "      <td>[United States]</td>\n",
       "    </tr>\n",
       "    <tr>\n",
       "      <th>5</th>\n",
       "      <td>Pernod takeover talk lifts Domecq Shares UK dr...</td>\n",
       "      <td>[Glenmorangie, Paris, Scotland, GMT, Stolichna...</td>\n",
       "      <td>[EU, French, France, US, UK]</td>\n",
       "    </tr>\n",
       "  </tbody>\n",
       "</table>\n",
       "</div>"
      ],
      "text/plain": [
       "                                             article  \\\n",
       "1  Ad sales boost Time Warner profit Quarterly pr...   \n",
       "2  Dollar gains Greenspan speech dollar hit highe...   \n",
       "3  Yukos unit buyer faces loan claim owners embat...   \n",
       "4  High fuel prices hit BA profits British Airway...   \n",
       "5  Pernod takeover talk lifts Domecq Shares UK dr...   \n",
       "\n",
       "                                            entities  \\\n",
       "1  [TimeWarner, SEC, Bertelsmann, Time Warner, AO...   \n",
       "2  [Federal Reserve, Friday Federal Reserve, Whit...   \n",
       "3  [Reuters, Yukos, State, Legal, Rosneft, Moscow...   \n",
       "4  [Dresdner Kleinwort Wasserstein, BA, Club Worl...   \n",
       "5  [Glenmorangie, Paris, Scotland, GMT, Stolichna...   \n",
       "\n",
       "               direct_reference  \n",
       "1                  [US, German]  \n",
       "2       [EU, America, Chin, US]  \n",
       "3                  [Russia, US]  \n",
       "4               [United States]  \n",
       "5  [EU, French, France, US, UK]  "
      ]
     },
     "execution_count": 13,
     "metadata": {},
     "output_type": "execute_result"
    }
   ],
   "source": [
    "article_df.head()"
   ]
  },
  {
   "cell_type": "markdown",
   "metadata": {},
   "source": [
    "### Using DBPedia descriptions for indirect references of a country"
   ]
  },
  {
   "cell_type": "code",
   "execution_count": 14,
   "metadata": {},
   "outputs": [],
   "source": [
    "def get_info(query_string:str, API='KeywordSearch')-> str:\n",
    "    '''\n",
    "    Takes in the query string and uses the API specified to perform required action and send out the description.\n",
    "    '''\n",
    "    \n",
    "    # The default DBPedia URL\n",
    "    dbpedia_url = 'http://lookup.dbpedia.org/api/search.asmx/'\n",
    "    api_url = dbpedia_url + API \n",
    "    params = {}\n",
    "    if not params:\n",
    "        params['QueryString'] = query_string\n",
    "    \n",
    "    # Get the content of the required url\n",
    "    response = requests.get(api_url, params=params)\n",
    "    soup = BeautifulSoup(response.content, 'xml')\n",
    "    \n",
    "    # Extract the most relevant (first result) link summary\n",
    "    link = soup.find('Description')\n",
    "\n",
    "    # If there is no relevant information return 'None'\n",
    "    if link is not None:\n",
    "        return link.text\n",
    "    return 'None'"
   ]
  },
  {
   "cell_type": "code",
   "execution_count": 15,
   "metadata": {},
   "outputs": [],
   "source": [
    "def get_referred_countries(x:pd.Series)-> list:\n",
    "    '''\n",
    "    Takes in a series object, searches dbpedia page for each entity\n",
    "    Searches the summaries for mentions of G20 countries and returns a list of these mentions\n",
    "    '''\n",
    "    entities = x['entities']\n",
    "    country_set = set()\n",
    "    \n",
    "    for entity in entities:\n",
    "        summary = get_info(entity)[:250]\n",
    "        country_set.update(extract_g20_names(summary))\n",
    "    \n",
    "    return list(country_set)"
   ]
  },
  {
   "cell_type": "markdown",
   "metadata": {},
   "source": [
    "Consider the following article for example:"
   ]
  },
  {
   "cell_type": "code",
   "execution_count": 16,
   "metadata": {},
   "outputs": [
    {
     "data": {
      "text/plain": [
       "'India widens access telecoms India raised limit foreign direct investment telecoms companies Communications Minister Dayanidhi Maran need fund fast growing mobile market government hopes increase number mobile users million million We need least investment part come foreign direct investment Maran decision raise limit foreign investors faced considerable opposition communist parties give crucial support coalition headed Prime Minister Manmohan Singh Potential foreign investors however need government approval increase stake beyond Maran Key positions chief executive chief technology officer chief financial officer held Indians added Analysts investors welcomed government decision positive development carriers investment community looking take longer term view huge growth Indian telecoms market Gartner principal analyst Kobita Desai FDI relaxation coupled rapid local market growth really ignite interest Indian telecommunication industry added Ernst Young Sanjay Mehta Investment bank Morgan Stanley forecast India mobile market likely grow Indian mobile market currently dominated four companies Bharti Televentures allied Singapore Telecom Essar linked Hong Kong based Hutchison Whampoa Sterling group Tata group'"
      ]
     },
     "execution_count": 16,
     "metadata": {},
     "output_type": "execute_result"
    }
   ],
   "source": [
    "article_df.loc[19]['article']"
   ]
  },
  {
   "cell_type": "code",
   "execution_count": 17,
   "metadata": {},
   "outputs": [
    {
     "data": {
      "text/plain": [
       "article             India widens access telecoms India raised limi...\n",
       "entities            [Hutchison Whampoa Sterling, Maran, Singapore ...\n",
       "direct_reference                                              [India]\n",
       "Name: 19, dtype: object"
      ]
     },
     "execution_count": 17,
     "metadata": {},
     "output_type": "execute_result"
    }
   ],
   "source": [
    "article_df.loc[19]"
   ]
  },
  {
   "cell_type": "code",
   "execution_count": 18,
   "metadata": {},
   "outputs": [],
   "source": [
    "def get_all_mentions(x:pd.Series)-> list:\n",
    "    \n",
    "    direct_countries = x['direct_reference']\n",
    "    referred_countries = get_referred_countries(x)\n",
    "    \n",
    "    all_mentioned_countries = set(direct_countries+referred_countries)\n",
    "    \n",
    "    return list(all_mentioned_countries)"
   ]
  },
  {
   "cell_type": "code",
   "execution_count": 19,
   "metadata": {},
   "outputs": [
    {
     "data": {
      "text/plain": [
       "['EU', 'India', 'Chin', 'French', 'United States']"
      ]
     },
     "execution_count": 19,
     "metadata": {},
     "output_type": "execute_result"
    }
   ],
   "source": [
    "get_all_mentions(article_df.loc[19])"
   ]
  },
  {
   "cell_type": "code",
   "execution_count": 20,
   "metadata": {},
   "outputs": [],
   "source": [
    "article_df['all_mentioned_countries'] = article_df.apply(get_all_mentions, axis=1)"
   ]
  },
  {
   "cell_type": "code",
   "execution_count": 21,
   "metadata": {},
   "outputs": [
    {
     "data": {
      "text/html": [
       "<div>\n",
       "<style scoped>\n",
       "    .dataframe tbody tr th:only-of-type {\n",
       "        vertical-align: middle;\n",
       "    }\n",
       "\n",
       "    .dataframe tbody tr th {\n",
       "        vertical-align: top;\n",
       "    }\n",
       "\n",
       "    .dataframe thead th {\n",
       "        text-align: right;\n",
       "    }\n",
       "</style>\n",
       "<table border=\"1\" class=\"dataframe\">\n",
       "  <thead>\n",
       "    <tr style=\"text-align: right;\">\n",
       "      <th></th>\n",
       "      <th>article</th>\n",
       "      <th>entities</th>\n",
       "      <th>direct_reference</th>\n",
       "      <th>all_mentioned_countries</th>\n",
       "    </tr>\n",
       "  </thead>\n",
       "  <tbody>\n",
       "    <tr>\n",
       "      <th>1</th>\n",
       "      <td>Ad sales boost Time Warner profit Quarterly pr...</td>\n",
       "      <td>[TimeWarner, SEC, Bertelsmann, Time Warner, AO...</td>\n",
       "      <td>[US, German]</td>\n",
       "      <td>[America, US, United States, German]</td>\n",
       "    </tr>\n",
       "    <tr>\n",
       "      <th>2</th>\n",
       "      <td>Dollar gains Greenspan speech dollar hit highe...</td>\n",
       "      <td>[Federal Reserve, Friday Federal Reserve, Whit...</td>\n",
       "      <td>[EU, America, Chin, US]</td>\n",
       "      <td>[EU, America, Chin, United States, US, UK]</td>\n",
       "    </tr>\n",
       "    <tr>\n",
       "      <th>3</th>\n",
       "      <td>Yukos unit buyer faces loan claim owners embat...</td>\n",
       "      <td>[Reuters, Yukos, State, Legal, Rosneft, Moscow...</td>\n",
       "      <td>[Russia, US]</td>\n",
       "      <td>[Russia, US, United States, UK]</td>\n",
       "    </tr>\n",
       "    <tr>\n",
       "      <th>4</th>\n",
       "      <td>High fuel prices hit BA profits British Airway...</td>\n",
       "      <td>[Dresdner Kleinwort Wasserstein, BA, Club Worl...</td>\n",
       "      <td>[United States]</td>\n",
       "      <td>[EU, France, United States, UK]</td>\n",
       "    </tr>\n",
       "    <tr>\n",
       "      <th>5</th>\n",
       "      <td>Pernod takeover talk lifts Domecq Shares UK dr...</td>\n",
       "      <td>[Glenmorangie, Paris, Scotland, GMT, Stolichna...</td>\n",
       "      <td>[EU, French, France, US, UK]</td>\n",
       "      <td>[EU, Russia, America, French, United States, C...</td>\n",
       "    </tr>\n",
       "  </tbody>\n",
       "</table>\n",
       "</div>"
      ],
      "text/plain": [
       "                                             article  \\\n",
       "1  Ad sales boost Time Warner profit Quarterly pr...   \n",
       "2  Dollar gains Greenspan speech dollar hit highe...   \n",
       "3  Yukos unit buyer faces loan claim owners embat...   \n",
       "4  High fuel prices hit BA profits British Airway...   \n",
       "5  Pernod takeover talk lifts Domecq Shares UK dr...   \n",
       "\n",
       "                                            entities  \\\n",
       "1  [TimeWarner, SEC, Bertelsmann, Time Warner, AO...   \n",
       "2  [Federal Reserve, Friday Federal Reserve, Whit...   \n",
       "3  [Reuters, Yukos, State, Legal, Rosneft, Moscow...   \n",
       "4  [Dresdner Kleinwort Wasserstein, BA, Club Worl...   \n",
       "5  [Glenmorangie, Paris, Scotland, GMT, Stolichna...   \n",
       "\n",
       "               direct_reference  \\\n",
       "1                  [US, German]   \n",
       "2       [EU, America, Chin, US]   \n",
       "3                  [Russia, US]   \n",
       "4               [United States]   \n",
       "5  [EU, French, France, US, UK]   \n",
       "\n",
       "                             all_mentioned_countries  \n",
       "1               [America, US, United States, German]  \n",
       "2         [EU, America, Chin, United States, US, UK]  \n",
       "3                    [Russia, US, United States, UK]  \n",
       "4                    [EU, France, United States, UK]  \n",
       "5  [EU, Russia, America, French, United States, C...  "
      ]
     },
     "execution_count": 21,
     "metadata": {},
     "output_type": "execute_result"
    }
   ],
   "source": [
    "article_df.head()"
   ]
  },
  {
   "cell_type": "code",
   "execution_count": 22,
   "metadata": {},
   "outputs": [],
   "source": [
    "article_df1 = article_df.copy()"
   ]
  },
  {
   "cell_type": "markdown",
   "metadata": {},
   "source": [
    "### Keep only the relevant columns"
   ]
  },
  {
   "cell_type": "code",
   "execution_count": 23,
   "metadata": {},
   "outputs": [],
   "source": [
    "article_df = article_df[[\"article\",\"all_mentioned_countries\"]]"
   ]
  },
  {
   "cell_type": "code",
   "execution_count": 24,
   "metadata": {
    "scrolled": true
   },
   "outputs": [
    {
     "data": {
      "text/html": [
       "<div>\n",
       "<style scoped>\n",
       "    .dataframe tbody tr th:only-of-type {\n",
       "        vertical-align: middle;\n",
       "    }\n",
       "\n",
       "    .dataframe tbody tr th {\n",
       "        vertical-align: top;\n",
       "    }\n",
       "\n",
       "    .dataframe thead th {\n",
       "        text-align: right;\n",
       "    }\n",
       "</style>\n",
       "<table border=\"1\" class=\"dataframe\">\n",
       "  <thead>\n",
       "    <tr style=\"text-align: right;\">\n",
       "      <th></th>\n",
       "      <th>article</th>\n",
       "      <th>all_mentioned_countries</th>\n",
       "    </tr>\n",
       "  </thead>\n",
       "  <tbody>\n",
       "    <tr>\n",
       "      <th>1</th>\n",
       "      <td>Ad sales boost Time Warner profit Quarterly pr...</td>\n",
       "      <td>[America, US, United States, German]</td>\n",
       "    </tr>\n",
       "    <tr>\n",
       "      <th>2</th>\n",
       "      <td>Dollar gains Greenspan speech dollar hit highe...</td>\n",
       "      <td>[EU, America, Chin, United States, US, UK]</td>\n",
       "    </tr>\n",
       "    <tr>\n",
       "      <th>3</th>\n",
       "      <td>Yukos unit buyer faces loan claim owners embat...</td>\n",
       "      <td>[Russia, US, United States, UK]</td>\n",
       "    </tr>\n",
       "    <tr>\n",
       "      <th>4</th>\n",
       "      <td>High fuel prices hit BA profits British Airway...</td>\n",
       "      <td>[EU, France, United States, UK]</td>\n",
       "    </tr>\n",
       "    <tr>\n",
       "      <th>5</th>\n",
       "      <td>Pernod takeover talk lifts Domecq Shares UK dr...</td>\n",
       "      <td>[EU, Russia, America, French, United States, C...</td>\n",
       "    </tr>\n",
       "  </tbody>\n",
       "</table>\n",
       "</div>"
      ],
      "text/plain": [
       "                                             article  \\\n",
       "1  Ad sales boost Time Warner profit Quarterly pr...   \n",
       "2  Dollar gains Greenspan speech dollar hit highe...   \n",
       "3  Yukos unit buyer faces loan claim owners embat...   \n",
       "4  High fuel prices hit BA profits British Airway...   \n",
       "5  Pernod takeover talk lifts Domecq Shares UK dr...   \n",
       "\n",
       "                             all_mentioned_countries  \n",
       "1               [America, US, United States, German]  \n",
       "2         [EU, America, Chin, United States, US, UK]  \n",
       "3                    [Russia, US, United States, UK]  \n",
       "4                    [EU, France, United States, UK]  \n",
       "5  [EU, Russia, America, French, United States, C...  "
      ]
     },
     "execution_count": 24,
     "metadata": {},
     "output_type": "execute_result"
    }
   ],
   "source": [
    "article_df.head()"
   ]
  },
  {
   "cell_type": "code",
   "execution_count": 25,
   "metadata": {},
   "outputs": [
    {
     "data": {
      "text/plain": [
       "['EU', 'America', 'Chin', 'United States', 'US', 'UK']"
      ]
     },
     "execution_count": 25,
     "metadata": {},
     "output_type": "execute_result"
    }
   ],
   "source": [
    "# Remove repeated United States mentions and replace Chin with Chinese\n",
    "article_df.all_mentioned_countries[2]"
   ]
  },
  {
   "cell_type": "markdown",
   "metadata": {},
   "source": [
    "## Consolidate the information\n",
    "### Removing duplicates and substitute roots with countries"
   ]
  },
  {
   "cell_type": "code",
   "execution_count": 26,
   "metadata": {},
   "outputs": [],
   "source": [
    "def consolidate(x):\n",
    "   \n",
    "    all_mentioned_countries = x['all_mentioned_countries']\n",
    "   \n",
    "    for country in all_mentioned_countries:  \n",
    "        if country in matching_dict.keys():\n",
    "            all_mentioned_countries.remove(country)\n",
    "            all_mentioned_countries.append(matching_dict[country])\n",
    "\n",
    "    return list(set(all_mentioned_countries))\n"
   ]
  },
  {
   "cell_type": "code",
   "execution_count": 27,
   "metadata": {},
   "outputs": [
    {
     "data": {
      "text/plain": [
       "['EU', 'Chin', 'US', 'UK']"
      ]
     },
     "execution_count": 27,
     "metadata": {},
     "output_type": "execute_result"
    }
   ],
   "source": [
    "consolidate(article_df.loc[2])"
   ]
  },
  {
   "cell_type": "code",
   "execution_count": 28,
   "metadata": {},
   "outputs": [],
   "source": [
    "article_df[\"all_mentioned_countries\"] = article_df.apply(consolidate, axis=1)"
   ]
  },
  {
   "cell_type": "code",
   "execution_count": 29,
   "metadata": {},
   "outputs": [
    {
     "data": {
      "text/plain": [
       "article                    Pernod takeover talk lifts Domecq Shares UK dr...\n",
       "all_mentioned_countries          [EU, Russia, French, Canad, France, US, UK]\n",
       "Name: 5, dtype: object"
      ]
     },
     "execution_count": 29,
     "metadata": {},
     "output_type": "execute_result"
    }
   ],
   "source": [
    "article_df.loc[5]"
   ]
  },
  {
   "cell_type": "markdown",
   "metadata": {},
   "source": [
    "### Segregate the countries"
   ]
  },
  {
   "cell_type": "code",
   "execution_count": 30,
   "metadata": {
    "scrolled": true
   },
   "outputs": [
    {
     "data": {
      "text/plain": [
       "2    107\n",
       "3     93\n",
       "1     85\n",
       "4     83\n",
       "5     62\n",
       "6     37\n",
       "7     22\n",
       "8     10\n",
       "9      7\n",
       "0      4\n",
       "Name: all_mentioned_countries, dtype: int64"
      ]
     },
     "execution_count": 30,
     "metadata": {},
     "output_type": "execute_result"
    }
   ],
   "source": [
    "article_df['all_mentioned_countries'].str.len().value_counts()"
   ]
  },
  {
   "cell_type": "code",
   "execution_count": 31,
   "metadata": {},
   "outputs": [
    {
     "data": {
      "image/png": "[encoded data removed]",
      "text/plain": [
       "<Figure size 1224x720 with 1 Axes>"
      ]
     },
     "metadata": {
      "needs_background": "light"
     },
     "output_type": "display_data"
    }
   ],
   "source": [
    "import seaborn as sns\n",
    "plt.figure(figsize=(17,10))\n",
    "sns.countplot(y = article_df['all_mentioned_countries'].str.len(), orient = 'v')\n",
    "plt.title('Number of countries mentioned', fontsize = 25)\n",
    "plt.ylabel('Number of countries', fontsize = 20)\n",
    "plt.xlabel('Number of articles', fontsize = 20)\n",
    "plt.show()"
   ]
  },
  {
   "cell_type": "code",
   "execution_count": 32,
   "metadata": {},
   "outputs": [],
   "source": [
    "article_df['num_countries'] = article_df[\"all_mentioned_countries\"].str.len()\n",
    "extracted_df = pd.get_dummies(article_df.all_mentioned_countries.apply(pd.Series).stack()).sum(level=0)"
   ]
  },
  {
   "cell_type": "code",
   "execution_count": 33,
   "metadata": {},
   "outputs": [
    {
     "data": {
      "text/html": [
       "<div>\n",
       "<style scoped>\n",
       "    .dataframe tbody tr th:only-of-type {\n",
       "        vertical-align: middle;\n",
       "    }\n",
       "\n",
       "    .dataframe tbody tr th {\n",
       "        vertical-align: top;\n",
       "    }\n",
       "\n",
       "    .dataframe thead th {\n",
       "        text-align: right;\n",
       "    }\n",
       "</style>\n",
       "<table border=\"1\" class=\"dataframe\">\n",
       "  <thead>\n",
       "    <tr style=\"text-align: right;\">\n",
       "      <th></th>\n",
       "      <th>America</th>\n",
       "      <th>Arabia</th>\n",
       "      <th>Argenti</th>\n",
       "      <th>Argentina</th>\n",
       "      <th>Australia</th>\n",
       "      <th>Brazil</th>\n",
       "      <th>Canad</th>\n",
       "      <th>Canada</th>\n",
       "      <th>Chin</th>\n",
       "      <th>China</th>\n",
       "      <th>...</th>\n",
       "      <th>Korea</th>\n",
       "      <th>Mexic</th>\n",
       "      <th>Mexico</th>\n",
       "      <th>Russia</th>\n",
       "      <th>Saudi Arabia</th>\n",
       "      <th>South Africa</th>\n",
       "      <th>Turkey</th>\n",
       "      <th>UK</th>\n",
       "      <th>US</th>\n",
       "      <th>United States</th>\n",
       "    </tr>\n",
       "  </thead>\n",
       "  <tbody>\n",
       "    <tr>\n",
       "      <th>1</th>\n",
       "      <td>0</td>\n",
       "      <td>0</td>\n",
       "      <td>0</td>\n",
       "      <td>0</td>\n",
       "      <td>0</td>\n",
       "      <td>0</td>\n",
       "      <td>0</td>\n",
       "      <td>0</td>\n",
       "      <td>0</td>\n",
       "      <td>0</td>\n",
       "      <td>...</td>\n",
       "      <td>0</td>\n",
       "      <td>0</td>\n",
       "      <td>0</td>\n",
       "      <td>0</td>\n",
       "      <td>0</td>\n",
       "      <td>0</td>\n",
       "      <td>0</td>\n",
       "      <td>0</td>\n",
       "      <td>1</td>\n",
       "      <td>0</td>\n",
       "    </tr>\n",
       "    <tr>\n",
       "      <th>2</th>\n",
       "      <td>0</td>\n",
       "      <td>0</td>\n",
       "      <td>0</td>\n",
       "      <td>0</td>\n",
       "      <td>0</td>\n",
       "      <td>0</td>\n",
       "      <td>0</td>\n",
       "      <td>0</td>\n",
       "      <td>0</td>\n",
       "      <td>1</td>\n",
       "      <td>...</td>\n",
       "      <td>0</td>\n",
       "      <td>0</td>\n",
       "      <td>0</td>\n",
       "      <td>0</td>\n",
       "      <td>0</td>\n",
       "      <td>0</td>\n",
       "      <td>0</td>\n",
       "      <td>1</td>\n",
       "      <td>1</td>\n",
       "      <td>0</td>\n",
       "    </tr>\n",
       "    <tr>\n",
       "      <th>3</th>\n",
       "      <td>0</td>\n",
       "      <td>0</td>\n",
       "      <td>0</td>\n",
       "      <td>0</td>\n",
       "      <td>0</td>\n",
       "      <td>0</td>\n",
       "      <td>0</td>\n",
       "      <td>0</td>\n",
       "      <td>0</td>\n",
       "      <td>0</td>\n",
       "      <td>...</td>\n",
       "      <td>0</td>\n",
       "      <td>0</td>\n",
       "      <td>0</td>\n",
       "      <td>1</td>\n",
       "      <td>0</td>\n",
       "      <td>0</td>\n",
       "      <td>0</td>\n",
       "      <td>1</td>\n",
       "      <td>1</td>\n",
       "      <td>0</td>\n",
       "    </tr>\n",
       "    <tr>\n",
       "      <th>4</th>\n",
       "      <td>0</td>\n",
       "      <td>0</td>\n",
       "      <td>0</td>\n",
       "      <td>0</td>\n",
       "      <td>0</td>\n",
       "      <td>0</td>\n",
       "      <td>0</td>\n",
       "      <td>0</td>\n",
       "      <td>0</td>\n",
       "      <td>0</td>\n",
       "      <td>...</td>\n",
       "      <td>0</td>\n",
       "      <td>0</td>\n",
       "      <td>0</td>\n",
       "      <td>0</td>\n",
       "      <td>0</td>\n",
       "      <td>0</td>\n",
       "      <td>0</td>\n",
       "      <td>1</td>\n",
       "      <td>1</td>\n",
       "      <td>0</td>\n",
       "    </tr>\n",
       "    <tr>\n",
       "      <th>5</th>\n",
       "      <td>0</td>\n",
       "      <td>0</td>\n",
       "      <td>0</td>\n",
       "      <td>0</td>\n",
       "      <td>0</td>\n",
       "      <td>0</td>\n",
       "      <td>1</td>\n",
       "      <td>0</td>\n",
       "      <td>0</td>\n",
       "      <td>0</td>\n",
       "      <td>...</td>\n",
       "      <td>0</td>\n",
       "      <td>0</td>\n",
       "      <td>0</td>\n",
       "      <td>1</td>\n",
       "      <td>0</td>\n",
       "      <td>0</td>\n",
       "      <td>0</td>\n",
       "      <td>1</td>\n",
       "      <td>1</td>\n",
       "      <td>0</td>\n",
       "    </tr>\n",
       "  </tbody>\n",
       "</table>\n",
       "<p>5 rows × 30 columns</p>\n",
       "</div>"
      ],
      "text/plain": [
       "   America  Arabia  Argenti  Argentina  Australia  Brazil  Canad  Canada  \\\n",
       "1        0       0        0          0          0       0      0       0   \n",
       "2        0       0        0          0          0       0      0       0   \n",
       "3        0       0        0          0          0       0      0       0   \n",
       "4        0       0        0          0          0       0      0       0   \n",
       "5        0       0        0          0          0       0      1       0   \n",
       "\n",
       "   Chin  China  ...  Korea  Mexic  Mexico  Russia  Saudi Arabia  South Africa  \\\n",
       "1     0      0  ...      0      0       0       0             0             0   \n",
       "2     0      1  ...      0      0       0       0             0             0   \n",
       "3     0      0  ...      0      0       0       1             0             0   \n",
       "4     0      0  ...      0      0       0       0             0             0   \n",
       "5     0      0  ...      0      0       0       1             0             0   \n",
       "\n",
       "   Turkey  UK  US  United States  \n",
       "1       0   0   1              0  \n",
       "2       0   1   1              0  \n",
       "3       0   1   1              0  \n",
       "4       0   1   1              0  \n",
       "5       0   1   1              0  \n",
       "\n",
       "[5 rows x 30 columns]"
      ]
     },
     "execution_count": 33,
     "metadata": {},
     "output_type": "execute_result"
    }
   ],
   "source": [
    "extracted_df.head()"
   ]
  },
  {
   "cell_type": "code",
   "execution_count": 34,
   "metadata": {},
   "outputs": [
    {
     "data": {
      "text/plain": [
       "US               362\n",
       "EU               258\n",
       "UK               228\n",
       "France           105\n",
       "India             81\n",
       "United States     76\n",
       "Germany           68\n",
       "Japan             63\n",
       "China             59\n",
       "Russia            56\n",
       "German            39\n",
       "Australia         36\n",
       "Chin              31\n",
       "French            29\n",
       "Canad             27\n",
       "Brazil            26\n",
       "Korea             24\n",
       "Italy             24\n",
       "Canada            23\n",
       "South Africa      23\n",
       "Saudi Arabia      22\n",
       "Indonesia         17\n",
       "Ital              16\n",
       "Turkey            12\n",
       "Mexico             9\n",
       "Mexic              7\n",
       "Argentina          5\n",
       "Argenti            5\n",
       "Arabia             5\n",
       "America            3\n",
       "dtype: int64"
      ]
     },
     "execution_count": 34,
     "metadata": {},
     "output_type": "execute_result"
    }
   ],
   "source": [
    "extracted_df.sum(axis = 0, skipna = True).sort_values(ascending=False)"
   ]
  },
  {
   "cell_type": "code",
   "execution_count": 35,
   "metadata": {},
   "outputs": [],
   "source": [
    "feature_df = pd.concat([article_df.drop('all_mentioned_countries', axis=1), \\\n",
    "                        pd.get_dummies(article_df.all_mentioned_countries.apply(pd.Series).stack()).sum(level=0)],axis=1)\n",
    "feature_df.fillna(0, inplace=True)"
   ]
  },
  {
   "cell_type": "markdown",
   "metadata": {},
   "source": [
    "# Topic Modeling"
   ]
  },
  {
   "cell_type": "markdown",
   "metadata": {},
   "source": [
    "There are different ways generally used for theme extraction. The most popular methods being k-means clustering, LDA (Latent Dirichlet Allocation) and Non-negative Matrix Factorization (NMF). \n",
    "\n",
    "#### K-Means clustering\n",
    "The k-means method works by assuming an number of clusters and it tries to segregate the data according to the Euclidean distance metric. For data such as this, the initialization of clusters might play a very important role. So, we run this several times with different starting points to fix a cluster centroid. Once the cluster centroids are fixed, we take the closest centroid to classify an article. \n",
    "\n",
    "#### LDA\n",
    "LDA on the other hand assumes that each article is a mixture of different topics and tries to find the importance of words that attributes them to different clusters. We can then assume the document to be assigned to a cluster with maximium probability or decide it to be a combination of two topics by defining a threshold. \n",
    "\n",
    "#### NMF\n",
    "NMF (Non-negative Matrix Factorization) tries to factorize the vectorized into product of two matrices. One matrix is like the Basis matrix which is like forming different features(topics) for the dataset and the other matrix is the components which stands for the feature importance.\n",
    "\n",
    "**We will be using LDA for clustering**\n",
    "\n",
    "Before we start any model building, we need to convert our text data into numerical data."
   ]
  },
  {
   "cell_type": "markdown",
   "metadata": {},
   "source": [
    "## Vectorization\n",
    "\n",
    "### TFIDF\n",
    "**TF** Term Frequency proportional to the number of times a term appears on the instance.\n",
    "\n",
    "**IDF** Inverse Document Frequency inversely proportional to the number of times a text appears throughout the corpus.\n",
    "\n",
    "We essentially multiply both the above terms to assign a value to a word."
   ]
  },
  {
   "cell_type": "code",
   "execution_count": 36,
   "metadata": {},
   "outputs": [
    {
     "name": "stdout",
     "output_type": "stream",
     "text": [
      "Article Matrix Shape: (510, 3449)\n"
     ]
    }
   ],
   "source": [
    "vectorizer = TfidfVectorizer(min_df=5, analyzer='word', ngram_range=(1, 2), stop_words=stop)\n",
    "vectorized_df = vectorizer.fit_transform(feature_df['article'])\n",
    "\n",
    "print(\"Article Matrix Shape: \" + str(vectorized_df.shape))"
   ]
  },
  {
   "cell_type": "markdown",
   "metadata": {},
   "source": [
    "#### TFIDF Weights value check\n",
    "\n",
    "Considering that the matrix is only 3573 columns, we need not try to reduce the number of columns explicitly.\n",
    "Let's check the highest weighted and lowest weighted words."
   ]
  },
  {
   "cell_type": "code",
   "execution_count": 37,
   "metadata": {},
   "outputs": [
    {
     "data": {
      "text/plain": [
       "[('accounting scandal', 5.44461012097565),\n",
       " ('aceh', 5.44461012097565),\n",
       " ('achieve', 5.44461012097565),\n",
       " ('across europe', 5.44461012097565),\n",
       " ('actively', 5.44461012097565),\n",
       " ('added however', 5.44461012097565),\n",
       " ('address', 5.44461012097565),\n",
       " ('affect', 5.44461012097565),\n",
       " ('afford', 5.44461012097565),\n",
       " ('afghanistan', 5.44461012097565),\n",
       " ('ahead meeting', 5.44461012097565),\n",
       " ('airline industry', 5.44461012097565),\n",
       " ('al', 5.44461012097565),\n",
       " ('allege', 5.44461012097565),\n",
       " ('alleging', 5.44461012097565),\n",
       " ('ambitious', 5.44461012097565),\n",
       " ('amounts', 5.44461012097565),\n",
       " ('anglo', 5.44461012097565),\n",
       " ('angry', 5.44461012097565),\n",
       " ('ap', 5.44461012097565)]"
      ]
     },
     "execution_count": 37,
     "metadata": {},
     "output_type": "execute_result"
    }
   ],
   "source": [
    "tfidf = dict(zip(vectorizer.get_feature_names(), vectorizer.idf_))\n",
    "\n",
    "sorted(tfidf.items(), key=lambda s: s[1], reverse=True)[:20]"
   ]
  },
  {
   "cell_type": "code",
   "execution_count": 38,
   "metadata": {},
   "outputs": [
    {
     "data": {
      "text/plain": [
       "[('us', 1.6416582106018653),\n",
       " ('new', 1.8114195727223017),\n",
       " ('market', 1.856472236663245),\n",
       " ('company', 1.879783315531692),\n",
       " ('however', 1.9182495963594879),\n",
       " ('firm', 1.9840961621570745),\n",
       " ('two', 2.0214338325947185),\n",
       " ('one', 2.0489837843629495),\n",
       " ('years', 2.0489837843629495),\n",
       " ('chief', 2.0715836162801904),\n",
       " ('growth', 2.0888751133902517),\n",
       " ('expected', 2.161195774969878),\n",
       " ('may', 2.167465387983473),\n",
       " ('government', 2.1801237848553963),\n",
       " ('world', 2.205931668811269),\n",
       " ('analysts', 2.212489069357428),\n",
       " ('since', 2.212489069357428),\n",
       " ('economy', 2.25963584778313),\n",
       " ('business', 2.287609699825536),\n",
       " ('economic', 2.3091159050464998)]"
      ]
     },
     "execution_count": 38,
     "metadata": {},
     "output_type": "execute_result"
    }
   ],
   "source": [
    "# These are the most common words across the document as well as each article.\n",
    "# Hence these values are weighed down.\n",
    "sorted(tfidf.items(), key=lambda s: s[1])[:20]"
   ]
  },
  {
   "cell_type": "markdown",
   "metadata": {},
   "source": [
    "## LDA Model Exploration"
   ]
  },
  {
   "cell_type": "code",
   "execution_count": 39,
   "metadata": {},
   "outputs": [],
   "source": [
    "# Making a pipeline\n",
    "def feature_extraction_1(data):\n",
    "    \n",
    "    vectorizer = TfidfVectorizer(min_df=5, analyzer='word', ngram_range=(1, 2), stop_words=stop)\n",
    "    X_article = vectorizer.fit_transform(feature_df['article'])\n",
    "    X_countries = feature_df.loc[:, feature_df.columns != 'article']\n",
    "    \n",
    "    return hstack((X_article, X_countries)).tocsr()"
   ]
  },
  {
   "cell_type": "markdown",
   "metadata": {},
   "source": [
    "#### Create a corpus and dictionary\n",
    "\n",
    "Tokenize the data"
   ]
  },
  {
   "cell_type": "code",
   "execution_count": 40,
   "metadata": {},
   "outputs": [],
   "source": [
    "def tokenize(x:pd.Series)->list:\n",
    "    '''\n",
    "    Takes in a series object and returns tokens of the text\n",
    "    '''\n",
    "    text = x['article']\n",
    "    \n",
    "    # Tokenize the text\n",
    "    text = word_tokenize(text)\n",
    "    \n",
    "    return text"
   ]
  },
  {
   "cell_type": "code",
   "execution_count": 41,
   "metadata": {},
   "outputs": [
    {
     "name": "stderr",
     "output_type": "stream",
     "text": [
      "progress-bar: 100%|█████████████████████████████████████████████████████████████████| 510/510 [00:00<00:00, 535.71it/s]\n"
     ]
    }
   ],
   "source": [
    "from tqdm import tqdm\n",
    "tqdm.pandas(desc=\"progress-bar\")\n",
    "\n",
    "feature_df = article_df.copy()\n",
    "feature_df['tokens'] = feature_df.apply(tokenize, axis=1)\n",
    "bigram = gensim.models.Phrases(feature_df['tokens'], min_count=5, threshold=100)\n",
    "bigram_mod = gensim.models.phrases.Phraser(bigram)\n",
    "feature_df['tokens_bigram'] = feature_df['tokens'].progress_map(lambda tokens: bigram_mod[tokens])\n",
    "\n",
    "id2word = corpora.Dictionary(feature_df['tokens_bigram'])\n",
    "texts = feature_df['tokens_bigram'].values\n",
    "corpus = [id2word.doc2bow(text) for text in texts]"
   ]
  },
  {
   "cell_type": "code",
   "execution_count": 42,
   "metadata": {},
   "outputs": [],
   "source": [
    "# Define the LDA model\n",
    "def LDA_model(num_topics, passes=1):\n",
    "    return gensim.models.ldamodel.LdaModel(corpus=tqdm_notebook(corpus, leave=False), id2word=id2word,\n",
    "                                               num_topics=num_topics, eval_every=10, chunksize=2000,\n",
    "                                               passes=passes, per_word_topics=True)"
   ]
  },
  {
   "cell_type": "code",
   "execution_count": 43,
   "metadata": {},
   "outputs": [],
   "source": [
    "# Metrics for evaluating model\n",
    "def compute_coherence(model):\n",
    "    coherence = CoherenceModel(model=model, texts=feature_df['tokens_bigram'].values,\n",
    "                           dictionary=id2word, coherence='c_v')\n",
    "    return coherence.get_coherence()"
   ]
  },
  {
   "cell_type": "code",
   "execution_count": 44,
   "metadata": {},
   "outputs": [],
   "source": [
    "# Display the topics and associated keywords\n",
    "def display_topics(model):\n",
    "    topics = model.show_topics(num_topics=model.num_topics, formatted=False, num_words=15)\n",
    "    topics = map(lambda c: map(lambda cc: cc[0], c[1]), topics)\n",
    "    df = pd.DataFrame(topics)\n",
    "    df.index = ['Topic {0}'.format(i+1) for i in range(model.num_topics)]\n",
    "    df.columns = ['Keyword {0}'.format(i) for i in range(1, 16)]\n",
    "    return df"
   ]
  },
  {
   "cell_type": "code",
   "execution_count": 45,
   "metadata": {},
   "outputs": [
    {
     "data": {
      "application/vnd.jupyter.widget-view+json": {
       "model_id": "",
       "version_major": 2,
       "version_minor": 0
      },
      "text/plain": [
       "HBox(children=(IntProgress(value=0, max=16), HTML(value='')))"
      ]
     },
     "metadata": {},
     "output_type": "display_data"
    },
    {
     "data": {
      "application/vnd.jupyter.widget-view+json": {
       "model_id": "",
       "version_major": 2,
       "version_minor": 0
      },
      "text/plain": [
       "HBox(children=(IntProgress(value=0, max=510), HTML(value='')))"
      ]
     },
     "metadata": {},
     "output_type": "display_data"
    },
    {
     "data": {
      "application/vnd.jupyter.widget-view+json": {
       "model_id": "",
       "version_major": 2,
       "version_minor": 0
      },
      "text/plain": [
       "HBox(children=(IntProgress(value=0, max=510), HTML(value='')))"
      ]
     },
     "metadata": {},
     "output_type": "display_data"
    },
    {
     "data": {
      "application/vnd.jupyter.widget-view+json": {
       "model_id": "",
       "version_major": 2,
       "version_minor": 0
      },
      "text/plain": [
       "HBox(children=(IntProgress(value=0, max=510), HTML(value='')))"
      ]
     },
     "metadata": {},
     "output_type": "display_data"
    },
    {
     "data": {
      "application/vnd.jupyter.widget-view+json": {
       "model_id": "",
       "version_major": 2,
       "version_minor": 0
      },
      "text/plain": [
       "HBox(children=(IntProgress(value=0, max=510), HTML(value='')))"
      ]
     },
     "metadata": {},
     "output_type": "display_data"
    },
    {
     "data": {
      "application/vnd.jupyter.widget-view+json": {
       "model_id": "",
       "version_major": 2,
       "version_minor": 0
      },
      "text/plain": [
       "HBox(children=(IntProgress(value=0, max=510), HTML(value='')))"
      ]
     },
     "metadata": {},
     "output_type": "display_data"
    },
    {
     "data": {
      "application/vnd.jupyter.widget-view+json": {
       "model_id": "",
       "version_major": 2,
       "version_minor": 0
      },
      "text/plain": [
       "HBox(children=(IntProgress(value=0, max=510), HTML(value='')))"
      ]
     },
     "metadata": {},
     "output_type": "display_data"
    },
    {
     "data": {
      "application/vnd.jupyter.widget-view+json": {
       "model_id": "",
       "version_major": 2,
       "version_minor": 0
      },
      "text/plain": [
       "HBox(children=(IntProgress(value=0, max=510), HTML(value='')))"
      ]
     },
     "metadata": {},
     "output_type": "display_data"
    },
    {
     "data": {
      "application/vnd.jupyter.widget-view+json": {
       "model_id": "",
       "version_major": 2,
       "version_minor": 0
      },
      "text/plain": [
       "HBox(children=(IntProgress(value=0, max=510), HTML(value='')))"
      ]
     },
     "metadata": {},
     "output_type": "display_data"
    },
    {
     "data": {
      "application/vnd.jupyter.widget-view+json": {
       "model_id": "",
       "version_major": 2,
       "version_minor": 0
      },
      "text/plain": [
       "HBox(children=(IntProgress(value=0, max=510), HTML(value='')))"
      ]
     },
     "metadata": {},
     "output_type": "display_data"
    },
    {
     "data": {
      "application/vnd.jupyter.widget-view+json": {
       "model_id": "",
       "version_major": 2,
       "version_minor": 0
      },
      "text/plain": [
       "HBox(children=(IntProgress(value=0, max=510), HTML(value='')))"
      ]
     },
     "metadata": {},
     "output_type": "display_data"
    },
    {
     "data": {
      "application/vnd.jupyter.widget-view+json": {
       "model_id": "",
       "version_major": 2,
       "version_minor": 0
      },
      "text/plain": [
       "HBox(children=(IntProgress(value=0, max=510), HTML(value='')))"
      ]
     },
     "metadata": {},
     "output_type": "display_data"
    },
    {
     "data": {
      "application/vnd.jupyter.widget-view+json": {
       "model_id": "",
       "version_major": 2,
       "version_minor": 0
      },
      "text/plain": [
       "HBox(children=(IntProgress(value=0, max=510), HTML(value='')))"
      ]
     },
     "metadata": {},
     "output_type": "display_data"
    },
    {
     "data": {
      "application/vnd.jupyter.widget-view+json": {
       "model_id": "",
       "version_major": 2,
       "version_minor": 0
      },
      "text/plain": [
       "HBox(children=(IntProgress(value=0, max=510), HTML(value='')))"
      ]
     },
     "metadata": {},
     "output_type": "display_data"
    },
    {
     "data": {
      "application/vnd.jupyter.widget-view+json": {
       "model_id": "",
       "version_major": 2,
       "version_minor": 0
      },
      "text/plain": [
       "HBox(children=(IntProgress(value=0, max=510), HTML(value='')))"
      ]
     },
     "metadata": {},
     "output_type": "display_data"
    },
    {
     "data": {
      "application/vnd.jupyter.widget-view+json": {
       "model_id": "",
       "version_major": 2,
       "version_minor": 0
      },
      "text/plain": [
       "HBox(children=(IntProgress(value=0, max=510), HTML(value='')))"
      ]
     },
     "metadata": {},
     "output_type": "display_data"
    },
    {
     "data": {
      "application/vnd.jupyter.widget-view+json": {
       "model_id": "",
       "version_major": 2,
       "version_minor": 0
      },
      "text/plain": [
       "HBox(children=(IntProgress(value=0, max=510), HTML(value='')))"
      ]
     },
     "metadata": {},
     "output_type": "display_data"
    },
    {
     "name": "stdout",
     "output_type": "stream",
     "text": [
      "\r"
     ]
    },
    {
     "data": {
      "image/png": "[encoded data removed]",
      "text/plain": [
       "<Figure size 1080x360 with 1 Axes>"
      ]
     },
     "metadata": {
      "needs_background": "light"
     },
     "output_type": "display_data"
    }
   ],
   "source": [
    "# Finding out the hyperparameters of the model (number of topics)\n",
    "def explore_models(df, rg=range(5, 25)):\n",
    "    id2word = corpora.Dictionary(df['tokens_bigram'])\n",
    "    texts = df['tokens_bigram'].values\n",
    "    corpus = [id2word.doc2bow(text) for text in texts]\n",
    "\n",
    "    models = []\n",
    "    coherences = []\n",
    "    \n",
    "    for num_topics in tqdm_notebook(rg, leave=False):\n",
    "        lda_model = LDA_model(num_topics, passes=5)\n",
    "        models.append(lda_model)\n",
    "        coherence = compute_coherence(lda_model)\n",
    "        coherences.append(coherence)\n",
    "      \n",
    "    fig = plt.figure(figsize=(15, 5))\n",
    "    plt.title('Choosing the optimal number of topics')\n",
    "    plt.xlabel('Number of topics')\n",
    "    plt.ylabel('Coherence')\n",
    "    plt.grid(True)\n",
    "    plt.plot(rg, coherences)\n",
    "    \n",
    "    return coherences, models\n",
    "\n",
    "\n",
    "coherences, models = explore_models(feature_df, rg=range(5, 85, 5))"
   ]
  },
  {
   "cell_type": "markdown",
   "metadata": {},
   "source": [
    "Depending on this graph, the number of clusters might be around 20. We don't want to induce noise by choosing too many clusters. So, we will use small number of clusters even  if it means not capturing all of the clusters. So, let's choose n = 10 for simplicity sake."
   ]
  },
  {
   "cell_type": "code",
   "execution_count": 46,
   "metadata": {},
   "outputs": [
    {
     "data": {
      "application/vnd.jupyter.widget-view+json": {
       "model_id": "",
       "version_major": 2,
       "version_minor": 0
      },
      "text/plain": [
       "HBox(children=(IntProgress(value=0, max=510), HTML(value='')))"
      ]
     },
     "metadata": {},
     "output_type": "display_data"
    },
    {
     "name": "stdout",
     "output_type": "stream",
     "text": [
      "\r"
     ]
    },
    {
     "data": {
      "text/html": [
       "<div>\n",
       "<style scoped>\n",
       "    .dataframe tbody tr th:only-of-type {\n",
       "        vertical-align: middle;\n",
       "    }\n",
       "\n",
       "    .dataframe tbody tr th {\n",
       "        vertical-align: top;\n",
       "    }\n",
       "\n",
       "    .dataframe thead th {\n",
       "        text-align: right;\n",
       "    }\n",
       "</style>\n",
       "<table border=\"1\" class=\"dataframe\">\n",
       "  <thead>\n",
       "    <tr style=\"text-align: right;\">\n",
       "      <th></th>\n",
       "      <th>Keyword 1</th>\n",
       "      <th>Keyword 2</th>\n",
       "      <th>Keyword 3</th>\n",
       "      <th>Keyword 4</th>\n",
       "      <th>Keyword 5</th>\n",
       "      <th>Keyword 6</th>\n",
       "      <th>Keyword 7</th>\n",
       "      <th>Keyword 8</th>\n",
       "      <th>Keyword 9</th>\n",
       "      <th>Keyword 10</th>\n",
       "      <th>Keyword 11</th>\n",
       "      <th>Keyword 12</th>\n",
       "      <th>Keyword 13</th>\n",
       "      <th>Keyword 14</th>\n",
       "      <th>Keyword 15</th>\n",
       "    </tr>\n",
       "  </thead>\n",
       "  <tbody>\n",
       "    <tr>\n",
       "      <th>Topic 1</th>\n",
       "      <td>government</td>\n",
       "      <td>state</td>\n",
       "      <td>WMC</td>\n",
       "      <td>firm</td>\n",
       "      <td>new</td>\n",
       "      <td>company</td>\n",
       "      <td>China</td>\n",
       "      <td>people</td>\n",
       "      <td>UK</td>\n",
       "      <td>oil</td>\n",
       "      <td>projects</td>\n",
       "      <td>prices</td>\n",
       "      <td>age</td>\n",
       "      <td>years</td>\n",
       "      <td>price</td>\n",
       "    </tr>\n",
       "    <tr>\n",
       "      <th>Topic 2</th>\n",
       "      <td>US</td>\n",
       "      <td>economic</td>\n",
       "      <td>economy</td>\n",
       "      <td>growth</td>\n",
       "      <td>countries</td>\n",
       "      <td>oil</td>\n",
       "      <td>government</td>\n",
       "      <td>prices</td>\n",
       "      <td>people</td>\n",
       "      <td>market</td>\n",
       "      <td>world</td>\n",
       "      <td>two</td>\n",
       "      <td>Deutsche_Boerse</td>\n",
       "      <td>dollar</td>\n",
       "      <td>million</td>\n",
       "    </tr>\n",
       "    <tr>\n",
       "      <th>Topic 3</th>\n",
       "      <td>US</td>\n",
       "      <td>GM</td>\n",
       "      <td>economy</td>\n",
       "      <td>new</td>\n",
       "      <td>deal</td>\n",
       "      <td>sales</td>\n",
       "      <td>company</td>\n",
       "      <td>market</td>\n",
       "      <td>Fiat</td>\n",
       "      <td>tax</td>\n",
       "      <td>may</td>\n",
       "      <td>government</td>\n",
       "      <td>business</td>\n",
       "      <td>two</td>\n",
       "      <td>one</td>\n",
       "    </tr>\n",
       "    <tr>\n",
       "      <th>Topic 4</th>\n",
       "      <td>US</td>\n",
       "      <td>India</td>\n",
       "      <td>company</td>\n",
       "      <td>firm</td>\n",
       "      <td>dollar</td>\n",
       "      <td>oil</td>\n",
       "      <td>one</td>\n",
       "      <td>new</td>\n",
       "      <td>MCI</td>\n",
       "      <td>government</td>\n",
       "      <td>Indian</td>\n",
       "      <td>market</td>\n",
       "      <td>companies</td>\n",
       "      <td>shares</td>\n",
       "      <td>foreign</td>\n",
       "    </tr>\n",
       "    <tr>\n",
       "      <th>Topic 5</th>\n",
       "      <td>growth</td>\n",
       "      <td>firm</td>\n",
       "      <td>economy</td>\n",
       "      <td>UK</td>\n",
       "      <td>rise</td>\n",
       "      <td>US</td>\n",
       "      <td>company</td>\n",
       "      <td>market</td>\n",
       "      <td>shares</td>\n",
       "      <td>economic</td>\n",
       "      <td>annual</td>\n",
       "      <td>years</td>\n",
       "      <td>euros</td>\n",
       "      <td>quarter</td>\n",
       "      <td>expected</td>\n",
       "    </tr>\n",
       "    <tr>\n",
       "      <th>Topic 6</th>\n",
       "      <td>US</td>\n",
       "      <td>China</td>\n",
       "      <td>firms</td>\n",
       "      <td>growth</td>\n",
       "      <td>dollar</td>\n",
       "      <td>economy</td>\n",
       "      <td>prices</td>\n",
       "      <td>profits</td>\n",
       "      <td>government</td>\n",
       "      <td>rise</td>\n",
       "      <td>rate</td>\n",
       "      <td>sales</td>\n",
       "      <td>market</td>\n",
       "      <td>euros</td>\n",
       "      <td>expected</td>\n",
       "    </tr>\n",
       "    <tr>\n",
       "      <th>Topic 7</th>\n",
       "      <td>Glazer</td>\n",
       "      <td>club</td>\n",
       "      <td>US</td>\n",
       "      <td>China</td>\n",
       "      <td>offer</td>\n",
       "      <td>new</td>\n",
       "      <td>bid</td>\n",
       "      <td>company</td>\n",
       "      <td>Turkey</td>\n",
       "      <td>board</td>\n",
       "      <td>United</td>\n",
       "      <td>debt</td>\n",
       "      <td>two</td>\n",
       "      <td>Manchester_United</td>\n",
       "      <td>However</td>\n",
       "    </tr>\n",
       "    <tr>\n",
       "      <th>Topic 8</th>\n",
       "      <td>sales</td>\n",
       "      <td>firm</td>\n",
       "      <td>company</td>\n",
       "      <td>US</td>\n",
       "      <td>new</td>\n",
       "      <td>Yukos</td>\n",
       "      <td>deal</td>\n",
       "      <td>market</td>\n",
       "      <td>December</td>\n",
       "      <td>government</td>\n",
       "      <td>business</td>\n",
       "      <td>years</td>\n",
       "      <td>profits</td>\n",
       "      <td>profit</td>\n",
       "      <td>court</td>\n",
       "    </tr>\n",
       "    <tr>\n",
       "      <th>Topic 9</th>\n",
       "      <td>US</td>\n",
       "      <td>sales</td>\n",
       "      <td>market</td>\n",
       "      <td>growth</td>\n",
       "      <td>new</td>\n",
       "      <td>figures</td>\n",
       "      <td>profits</td>\n",
       "      <td>rose</td>\n",
       "      <td>world</td>\n",
       "      <td>UK</td>\n",
       "      <td>price</td>\n",
       "      <td>years</td>\n",
       "      <td>one</td>\n",
       "      <td>jobs</td>\n",
       "      <td>companies</td>\n",
       "    </tr>\n",
       "    <tr>\n",
       "      <th>Topic 10</th>\n",
       "      <td>Yukos</td>\n",
       "      <td>US</td>\n",
       "      <td>company</td>\n",
       "      <td>firm</td>\n",
       "      <td>Gazprom</td>\n",
       "      <td>court</td>\n",
       "      <td>Russian</td>\n",
       "      <td>sale</td>\n",
       "      <td>Ebbers</td>\n",
       "      <td>oil</td>\n",
       "      <td>government</td>\n",
       "      <td>Yugansk</td>\n",
       "      <td>fraud</td>\n",
       "      <td>Rosneft</td>\n",
       "      <td>Russia</td>\n",
       "    </tr>\n",
       "  </tbody>\n",
       "</table>\n",
       "</div>"
      ],
      "text/plain": [
       "           Keyword 1 Keyword 2 Keyword 3 Keyword 4  Keyword 5 Keyword 6  \\\n",
       "Topic 1   government     state       WMC      firm        new   company   \n",
       "Topic 2           US  economic   economy    growth  countries       oil   \n",
       "Topic 3           US        GM   economy       new       deal     sales   \n",
       "Topic 4           US     India   company      firm     dollar       oil   \n",
       "Topic 5       growth      firm   economy        UK       rise        US   \n",
       "Topic 6           US     China     firms    growth     dollar   economy   \n",
       "Topic 7       Glazer      club        US     China      offer       new   \n",
       "Topic 8        sales      firm   company        US        new     Yukos   \n",
       "Topic 9           US     sales    market    growth        new   figures   \n",
       "Topic 10       Yukos        US   company      firm    Gazprom     court   \n",
       "\n",
       "           Keyword 7 Keyword 8   Keyword 9  Keyword 10  Keyword 11  \\\n",
       "Topic 1        China    people          UK         oil    projects   \n",
       "Topic 2   government    prices      people      market       world   \n",
       "Topic 3      company    market        Fiat         tax         may   \n",
       "Topic 4          one       new         MCI  government      Indian   \n",
       "Topic 5      company    market      shares    economic      annual   \n",
       "Topic 6       prices   profits  government        rise        rate   \n",
       "Topic 7          bid   company      Turkey       board      United   \n",
       "Topic 8         deal    market    December  government    business   \n",
       "Topic 9      profits      rose       world          UK       price   \n",
       "Topic 10     Russian      sale      Ebbers         oil  government   \n",
       "\n",
       "          Keyword 12       Keyword 13         Keyword 14 Keyword 15  \n",
       "Topic 1       prices              age              years      price  \n",
       "Topic 2          two  Deutsche_Boerse             dollar    million  \n",
       "Topic 3   government         business                two        one  \n",
       "Topic 4       market        companies             shares    foreign  \n",
       "Topic 5        years            euros            quarter   expected  \n",
       "Topic 6        sales           market              euros   expected  \n",
       "Topic 7         debt              two  Manchester_United    However  \n",
       "Topic 8        years          profits             profit      court  \n",
       "Topic 9        years              one               jobs  companies  \n",
       "Topic 10     Yugansk            fraud            Rosneft     Russia  "
      ]
     },
     "execution_count": 46,
     "metadata": {},
     "output_type": "execute_result"
    }
   ],
   "source": [
    "best_model = LDA_model(num_topics=10, passes=5)\n",
    "\n",
    "display_topics(model=best_model)"
   ]
  },
  {
   "cell_type": "markdown",
   "metadata": {},
   "source": [
    "Frankly, the results are quite disappointing. There doesn't seem to be a clear distinction between them.\n",
    "\n",
    "## NMF Model"
   ]
  },
  {
   "cell_type": "code",
   "execution_count": 47,
   "metadata": {},
   "outputs": [
    {
     "data": {
      "text/html": [
       "<div>\n",
       "<style scoped>\n",
       "    .dataframe tbody tr th:only-of-type {\n",
       "        vertical-align: middle;\n",
       "    }\n",
       "\n",
       "    .dataframe tbody tr th {\n",
       "        vertical-align: top;\n",
       "    }\n",
       "\n",
       "    .dataframe thead th {\n",
       "        text-align: right;\n",
       "    }\n",
       "</style>\n",
       "<table border=\"1\" class=\"dataframe\">\n",
       "  <thead>\n",
       "    <tr style=\"text-align: right;\">\n",
       "      <th></th>\n",
       "      <th>0</th>\n",
       "      <th>1</th>\n",
       "      <th>2</th>\n",
       "      <th>3</th>\n",
       "      <th>4</th>\n",
       "      <th>5</th>\n",
       "      <th>6</th>\n",
       "      <th>7</th>\n",
       "      <th>8</th>\n",
       "      <th>9</th>\n",
       "    </tr>\n",
       "  </thead>\n",
       "  <tbody>\n",
       "    <tr>\n",
       "      <th>Topic 0:</th>\n",
       "      <td>economy</td>\n",
       "      <td>growth</td>\n",
       "      <td>rates</td>\n",
       "      <td>rate</td>\n",
       "      <td>figures</td>\n",
       "      <td>economic</td>\n",
       "      <td>bank</td>\n",
       "      <td>consumer</td>\n",
       "      <td>interest</td>\n",
       "      <td>quarter</td>\n",
       "    </tr>\n",
       "    <tr>\n",
       "      <th>Topic 1:</th>\n",
       "      <td>yukos</td>\n",
       "      <td>russian</td>\n",
       "      <td>gazprom</td>\n",
       "      <td>yugansk</td>\n",
       "      <td>rosneft</td>\n",
       "      <td>court</td>\n",
       "      <td>russia</td>\n",
       "      <td>oil</td>\n",
       "      <td>auction</td>\n",
       "      <td>khodorkovsky</td>\n",
       "    </tr>\n",
       "    <tr>\n",
       "      <th>Topic 2:</th>\n",
       "      <td>company</td>\n",
       "      <td>shares</td>\n",
       "      <td>firm</td>\n",
       "      <td>sales</td>\n",
       "      <td>us</td>\n",
       "      <td>market</td>\n",
       "      <td>profits</td>\n",
       "      <td>india</td>\n",
       "      <td>new</td>\n",
       "      <td>china</td>\n",
       "    </tr>\n",
       "    <tr>\n",
       "      <th>Topic 3:</th>\n",
       "      <td>lse</td>\n",
       "      <td>boerse</td>\n",
       "      <td>deutsche boerse</td>\n",
       "      <td>deutsche</td>\n",
       "      <td>euronext</td>\n",
       "      <td>bid</td>\n",
       "      <td>london</td>\n",
       "      <td>offer</td>\n",
       "      <td>exchange</td>\n",
       "      <td>stock</td>\n",
       "    </tr>\n",
       "    <tr>\n",
       "      <th>Topic 4:</th>\n",
       "      <td>budget</td>\n",
       "      <td>deficit</td>\n",
       "      <td>bush</td>\n",
       "      <td>spending</td>\n",
       "      <td>congress</td>\n",
       "      <td>president</td>\n",
       "      <td>budget deficit</td>\n",
       "      <td>tax</td>\n",
       "      <td>military</td>\n",
       "      <td>administration</td>\n",
       "    </tr>\n",
       "    <tr>\n",
       "      <th>Topic 5:</th>\n",
       "      <td>ebbers</td>\n",
       "      <td>worldcom</td>\n",
       "      <td>sullivan</td>\n",
       "      <td>fraud</td>\n",
       "      <td>mci</td>\n",
       "      <td>accounting</td>\n",
       "      <td>former</td>\n",
       "      <td>trial</td>\n",
       "      <td>witness</td>\n",
       "      <td>guilty</td>\n",
       "    </tr>\n",
       "    <tr>\n",
       "      <th>Topic 6:</th>\n",
       "      <td>dollar</td>\n",
       "      <td>euro</td>\n",
       "      <td>us</td>\n",
       "      <td>currency</td>\n",
       "      <td>deficit</td>\n",
       "      <td>trade</td>\n",
       "      <td>yen</td>\n",
       "      <td>trading</td>\n",
       "      <td>exports</td>\n",
       "      <td>record</td>\n",
       "    </tr>\n",
       "    <tr>\n",
       "      <th>Topic 7:</th>\n",
       "      <td>oil</td>\n",
       "      <td>crude</td>\n",
       "      <td>prices</td>\n",
       "      <td>barrel</td>\n",
       "      <td>opec</td>\n",
       "      <td>oil prices</td>\n",
       "      <td>us crude</td>\n",
       "      <td>winter</td>\n",
       "      <td>weather</td>\n",
       "      <td>us</td>\n",
       "    </tr>\n",
       "    <tr>\n",
       "      <th>Topic 8:</th>\n",
       "      <td>glazer</td>\n",
       "      <td>club</td>\n",
       "      <td>united</td>\n",
       "      <td>manchester</td>\n",
       "      <td>manchester united</td>\n",
       "      <td>bid</td>\n",
       "      <td>board</td>\n",
       "      <td>proposal</td>\n",
       "      <td>magnier</td>\n",
       "      <td>mcmanus</td>\n",
       "    </tr>\n",
       "    <tr>\n",
       "      <th>Topic 9:</th>\n",
       "      <td>fiat</td>\n",
       "      <td>gm</td>\n",
       "      <td>car</td>\n",
       "      <td>general motors</td>\n",
       "      <td>engines</td>\n",
       "      <td>motors</td>\n",
       "      <td>auto</td>\n",
       "      <td>italian</td>\n",
       "      <td>stake</td>\n",
       "      <td>sell</td>\n",
       "    </tr>\n",
       "  </tbody>\n",
       "</table>\n",
       "</div>"
      ],
      "text/plain": [
       "                0         1                2               3  \\\n",
       "Topic 0:  economy    growth            rates            rate   \n",
       "Topic 1:    yukos   russian          gazprom         yugansk   \n",
       "Topic 2:  company    shares             firm           sales   \n",
       "Topic 3:      lse    boerse  deutsche boerse        deutsche   \n",
       "Topic 4:   budget   deficit             bush        spending   \n",
       "Topic 5:   ebbers  worldcom         sullivan           fraud   \n",
       "Topic 6:   dollar      euro               us        currency   \n",
       "Topic 7:      oil     crude           prices          barrel   \n",
       "Topic 8:   glazer      club           united      manchester   \n",
       "Topic 9:     fiat        gm              car  general motors   \n",
       "\n",
       "                          4           5               6         7         8  \\\n",
       "Topic 0:            figures    economic            bank  consumer  interest   \n",
       "Topic 1:            rosneft       court          russia       oil   auction   \n",
       "Topic 2:                 us      market         profits     india       new   \n",
       "Topic 3:           euronext         bid          london     offer  exchange   \n",
       "Topic 4:           congress   president  budget deficit       tax  military   \n",
       "Topic 5:                mci  accounting          former     trial   witness   \n",
       "Topic 6:            deficit       trade             yen   trading   exports   \n",
       "Topic 7:               opec  oil prices        us crude    winter   weather   \n",
       "Topic 8:  manchester united         bid           board  proposal   magnier   \n",
       "Topic 9:            engines      motors            auto   italian     stake   \n",
       "\n",
       "                       9  \n",
       "Topic 0:         quarter  \n",
       "Topic 1:    khodorkovsky  \n",
       "Topic 2:           china  \n",
       "Topic 3:           stock  \n",
       "Topic 4:  administration  \n",
       "Topic 5:          guilty  \n",
       "Topic 6:          record  \n",
       "Topic 7:              us  \n",
       "Topic 8:         mcmanus  \n",
       "Topic 9:            sell  "
      ]
     },
     "execution_count": 47,
     "metadata": {},
     "output_type": "execute_result"
    }
   ],
   "source": [
    "from sklearn.decomposition import NMF\n",
    "\n",
    "vectorizer = TfidfVectorizer(min_df=5, analyzer='word', ngram_range=(1, 2), stop_words=stop)\n",
    "vz = vectorizer.fit_transform(list(feature_df['tokens'].map(lambda tokens: ' '.join(tokens))))\n",
    "\n",
    "nmf = NMF(n_components=10, random_state=1, alpha=.1, l1_ratio=.5, init='nndsvd').fit(vz)\n",
    "\n",
    "feature_names = vectorizer.get_feature_names()\n",
    "no_top_words = 10\n",
    "word_dict = {}\n",
    "\n",
    "for topic_idx, topic in enumerate(nmf.components_[:10]):\n",
    "    word_dict[\"Topic %d:\"% (topic_idx)] = [feature_names[i] for i in topic.argsort()[:-no_top_words - 1:-1]]\n",
    "\n",
    "pd.DataFrame.from_dict(word_dict, orient='index')"
   ]
  },
  {
   "cell_type": "markdown",
   "metadata": {},
   "source": [
    "The results from NMF seem to be much better than LDA model. We can clearly see the distinction between the topics. "
   ]
  },
  {
   "cell_type": "markdown",
   "metadata": {},
   "source": [
    "### 10 probable categories"
   ]
  },
  {
   "cell_type": "markdown",
   "metadata": {},
   "source": [
    "Topic-1\n",
    "Economic growth\n",
    "\n",
    "Topic-2\n",
    "Russia's Oil Production\n",
    "\n",
    "Topic-3\n",
    "Overall economic scenario and earning reports\n",
    "\n",
    "Topic-4\n",
    "Automotive industry \n",
    "\n",
    "Topic-5\n",
    "Economy of South Asian countries \n",
    "\n",
    "Topic-6\n",
    "US stock market and news\n",
    "\n",
    "Topic-7\n",
    "European stock market and news\n",
    "\n",
    "Topic-8\n",
    "India, US and China relations and economy\n",
    "\n",
    "Topic-9\n",
    "US economy\n",
    "\n",
    "Topic-10\n",
    "Germantrade and economy"
   ]
  }
 ],
 "metadata": {
  "kernelspec": {
   "display_name": "Python 3",
   "language": "python",
   "name": "python3"
  },
  "language_info": {
   "codemirror_mode": {
    "name": "ipython",
    "version": 3
   },
   "file_extension": ".py",
   "mimetype": "text/x-python",
   "name": "python",
   "nbconvert_exporter": "python",
   "pygments_lexer": "ipython3",
   "version": "3.7.3"
  }
 },
 "nbformat": 4,
 "nbformat_minor": 2
}
