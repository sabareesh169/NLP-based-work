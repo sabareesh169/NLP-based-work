{
 "cells": [
  {
   "cell_type": "markdown",
   "metadata": {},
   "source": [
    "<img src=\"https://miro.medium.com/max/2402/0*y_W6nAQZkx-F5ICQ\"/>\n",
    "\n",
    "# Mercari Price Suggestion Challenge\n",
    "***\n",
    "### Pricing suggestion to online sellers\n",
    "\n",
    "The target of this challenge is to offer a pricing suggestion for people when they sell their products. Given the numerous number of products possible in different conditions, we cannot take the images of the product for the model (probably a very complex model can). We will be using the input data provided by the seller for this prediction.\n",
    "\n",
    "By offering an optimal price for the user, it helps the user decide quickly on the price and also ensure a fair market price for the seller. This will probably help Mercari generate more revenue, ensure more transactions and also satisfy the consumers. \n",
    "\n",
    "### Dataset Features\n",
    "\n",
    "- **ID**: the id of the listing\n",
    "- **Name:** the title of the listing\n",
    "- **Item Condition:** the condition of the items provided by the seller\n",
    "- **Category Name:** category of the listing\n",
    "- **Brand Name:** brand of the listing\n",
    "- **Shipping:** 1 if shipping fee is paid by seller and 0 by buyer\n",
    "- **Item Description:** the full description of the item\n",
    "- **Price:** the price that the item was sold for. This is the target variable that you will predict. The unit is USD.\n",
    "\n",
    "You can download the dataset [here](https://www.kaggle.com/c/mercari-price-suggestion-challenge)"
   ]
  },
  {
   "cell_type": "markdown",
   "metadata": {},
   "source": [
    "<img src = \"https://cdn.dribbble.com/users/56196/screenshots/2281553/mobile-dribbble.gif\"/>"
   ]
  },
  {
   "cell_type": "markdown",
   "metadata": {},
   "source": [
    "# Table of Content\n",
    "***\n",
    "### Define the Problem:\n",
    "\n",
    "- [What's the Business Goal?](#A.-What's-the-business-goal?)\n",
    "\n",
    "- [What metric are we optimizing?](#B.-What-metric-are-we-using?)\n",
    "\n",
    "### Descriptive Statistics:\n",
    "- [Observe Training Statistics](#Training-Statistics)\n",
    "\n",
    "- [Missing Value Treatment](#Data-Cleaning)\n",
    "\n",
    "\n",
    "### Exploratory Data Analysis:\n",
    "- [Price Distribution & Log Transformation](#Price-Distribution)\n",
    "\n",
    "- [Shipping Type Distribution](#Shipping-Distribution)\n",
    "\n",
    "- [Category Distribution & Feature Engineering](#Top-10-Categories)\n",
    "\n",
    "- [Brand Analysis](#Brand-Analysis)\n",
    "\n",
    "\n",
    "### Text Processing:\n",
    "- [Normalizing Words (Stemming, Lowercase, Punctuation, Stop Words](#Cleaning-up-text)\n",
    "\n",
    "### Feature Extraction with Text:\n",
    "\n",
    "- [CountVectorizer, TF-IDF, LabelBinarizer](#CountVectorizer)\n",
    "\n",
    "- [Merge all the features together](#Merge-all-the-features-together)\n",
    "\n",
    "### Model Building\n",
    "\n",
    "- [Ridge Regression](#Ridge-Regression)\n",
    "\n",
    "- [LightGBM](#LGBM-Model)\n",
    "\n",
    "- [XGBoost](#XGBoost-Model)\n",
    "\n",
    "- [Ensemble Model](#Ensemble-Model)\n",
    "\n",
    "- [Making Pipelines](#Making-pipelines)\n",
    "\n",
    "- [Ensemble Predictions](#Ensemble-Predictions)\n",
    "\n",
    "\n",
    "# Define the Problem\n",
    "\n",
    "### A. What's the business goal?\n",
    "\n",
    "The objective is to come up with the right pricing algorithm that can we can use as a pricing recommendation to the users. Allowing the users to see a suggest price before purchasing or selling will hopefully allow more transaction within Mercari's business. \n",
    "\n",
    "### B. What metric are we using?\n",
    "\n",
    "The normal metric we use for regression problem is MSE but the metric for this specific problem would be RMSLE. RMSLE is root mean square log error. By taking the log of the error, we are penalising more on errors on the lower predictions. This is like penalizing false negatives in a classification problem.\n"
   ]
  },
  {
   "cell_type": "markdown",
   "metadata": {},
   "source": [
    "# Import Packages"
   ]
  },
  {
   "cell_type": "code",
   "execution_count": 2,
   "metadata": {},
   "outputs": [
    {
     "name": "stderr",
     "output_type": "stream",
     "text": [
      "C:\\Users\\sabareesh\\Anaconda\\lib\\site-packages\\statsmodels\\tools\\_testing.py:19: FutureWarning: pandas.util.testing is deprecated. Use the functions in the public API at pandas.testing instead.\n",
      "  import pandas.util.testing as tm\n"
     ]
    }
   ],
   "source": [
    "# General packages\n",
    "import time\n",
    "import numpy as np\n",
    "import pandas as pd\n",
    "import matplotlib.pyplot as plt\n",
    "import seaborn as sns\n",
    "\n",
    "# Preprocessing packages\n",
    "from scipy.sparse import csr_matrix, hstack\n",
    "from sklearn.feature_extraction.text import CountVectorizer, TfidfVectorizer\n",
    "from sklearn.preprocessing import LabelBinarizer\n",
    "from sklearn.decomposition import TruncatedSVD\n",
    "from sklearn.pipeline import make_pipeline, make_union\n",
    "from sklearn.base import TransformerMixin\n",
    "from sklearn.decomposition import TruncatedSVD\n",
    "from sklearn.preprocessing import OneHotEncoder\n",
    "\n",
    "# Text cleaning\n",
    "from nltk.stem.porter import PorterStemmer\n",
    "import re\n",
    "from nltk.corpus import stopwords\n",
    "from nltk.tokenize import word_tokenize\n",
    "\n",
    "# Model Building and Evaluation packages\n",
    "from sklearn.model_selection import KFold, cross_val_score, train_test_split\n",
    "from sklearn.linear_model import Ridge\n",
    "from xgboost import XGBRegressor\n",
    "import lightgbm as lgb\n",
    "from sklearn.model_selection import train_test_split\n",
    "from sklearn.model_selection import GridSearchCV\n",
    "from sklearn.metrics import mean_squared_error\n"
   ]
  },
  {
   "cell_type": "code",
   "execution_count": 3,
   "metadata": {},
   "outputs": [],
   "source": [
    "# Functions that we will use later on\n",
    "def data_info(data):\n",
    "    return data.info()\n",
    "\n",
    "def creating_boxplots(size, target, features, data):\n",
    "    plt.figure(figsize=size)\n",
    "    for i in range(len(numerical_vars)):\n",
    "        plt.subplot(5, 3, i+1)\n",
    "        sns.boxplot(x=target, y=features[i], data=data )\n",
    "        \n",
    "def creating_distplot(size, data, features):\n",
    "    plt.figure(figsize=size)\n",
    "    for i in range(len(features)):\n",
    "        plt.subplot(5, 3, i+1)\n",
    "        sns.distplot(data[features[i]])\n",
    "        \n",
    "def crossCorrelation(data):\n",
    "    corr = data.corr()\n",
    "    plt.figure(figsize=(10,6))\n",
    "    sns.heatmap(corr, \n",
    "          xticklabels=corr.columns.values,\n",
    "          yticklabels=corr.columns.values)\n",
    "    print(corr)"
   ]
  },
  {
   "cell_type": "markdown",
   "metadata": {},
   "source": [
    "## Training Statistics\n",
    "\n",
    "The training set has about 600,000 observations"
   ]
  },
  {
   "cell_type": "code",
   "execution_count": 4,
   "metadata": {
    "scrolled": true
   },
   "outputs": [],
   "source": [
    "# Observe the training set\n",
    "train = pd.read_csv('train.tsv', sep = '\\t')"
   ]
  },
  {
   "cell_type": "code",
   "execution_count": 5,
   "metadata": {
    "scrolled": false
   },
   "outputs": [
    {
     "name": "stdout",
     "output_type": "stream",
     "text": [
      "The size of the training data is: (1482535, 8)\n",
      "train_id               int64\n",
      "name                  object\n",
      "item_condition_id      int64\n",
      "category_name         object\n",
      "brand_name            object\n",
      "price                float64\n",
      "shipping               int64\n",
      "item_description      object\n",
      "dtype: object\n"
     ]
    }
   ],
   "source": [
    "print(\"The size of the training data is: \" + str(train.shape))\n",
    "print(train.dtypes)"
   ]
  },
  {
   "cell_type": "markdown",
   "metadata": {},
   "source": [
    "This much amount of data is unhealthy for my laptop. 😅\n",
    "So, lets only work with 5% of data."
   ]
  },
  {
   "cell_type": "code",
   "execution_count": 6,
   "metadata": {},
   "outputs": [],
   "source": [
    "train = train.sample(frac=0.1)"
   ]
  },
  {
   "cell_type": "code",
   "execution_count": 7,
   "metadata": {},
   "outputs": [
    {
     "data": {
      "text/html": [
       "<div>\n",
       "<style scoped>\n",
       "    .dataframe tbody tr th:only-of-type {\n",
       "        vertical-align: middle;\n",
       "    }\n",
       "\n",
       "    .dataframe tbody tr th {\n",
       "        vertical-align: top;\n",
       "    }\n",
       "\n",
       "    .dataframe thead th {\n",
       "        text-align: right;\n",
       "    }\n",
       "</style>\n",
       "<table border=\"1\" class=\"dataframe\">\n",
       "  <thead>\n",
       "    <tr style=\"text-align: right;\">\n",
       "      <th></th>\n",
       "      <th>train_id</th>\n",
       "      <th>name</th>\n",
       "      <th>item_condition_id</th>\n",
       "      <th>category_name</th>\n",
       "      <th>brand_name</th>\n",
       "      <th>price</th>\n",
       "      <th>shipping</th>\n",
       "      <th>item_description</th>\n",
       "    </tr>\n",
       "  </thead>\n",
       "  <tbody>\n",
       "    <tr>\n",
       "      <th>612001</th>\n",
       "      <td>612001</td>\n",
       "      <td>MK WALLET</td>\n",
       "      <td>3</td>\n",
       "      <td>Women/Women's Accessories/Wallets</td>\n",
       "      <td>Michael Kors</td>\n",
       "      <td>34.0</td>\n",
       "      <td>0</td>\n",
       "      <td>MK AUTHENTIC vanilla logo wallet. Zip closure ...</td>\n",
       "    </tr>\n",
       "    <tr>\n",
       "      <th>522851</th>\n",
       "      <td>522851</td>\n",
       "      <td>Ralph Lauren tan w black flat shoes s 6</td>\n",
       "      <td>3</td>\n",
       "      <td>Women/Shoes/Flats</td>\n",
       "      <td>Lauren Ralph Lauren</td>\n",
       "      <td>16.0</td>\n",
       "      <td>0</td>\n",
       "      <td>Ralph Lauren tan with black flat shoes s 6! Gr...</td>\n",
       "    </tr>\n",
       "    <tr>\n",
       "      <th>236488</th>\n",
       "      <td>236488</td>\n",
       "      <td>14g Belly piercing kit</td>\n",
       "      <td>1</td>\n",
       "      <td>Women/Jewelry/Earrings</td>\n",
       "      <td>NaN</td>\n",
       "      <td>21.0</td>\n",
       "      <td>0</td>\n",
       "      <td>14g Belly piercing kit 5x Belly rings 5x 14g B...</td>\n",
       "    </tr>\n",
       "    <tr>\n",
       "      <th>710521</th>\n",
       "      <td>710521</td>\n",
       "      <td>Rebel Flag Lanyard Keychain</td>\n",
       "      <td>1</td>\n",
       "      <td>Handmade/Accessories/Lanyard</td>\n",
       "      <td>NaN</td>\n",
       "      <td>6.0</td>\n",
       "      <td>1</td>\n",
       "      <td>Great to use for hanging keys around your neck...</td>\n",
       "    </tr>\n",
       "    <tr>\n",
       "      <th>1309966</th>\n",
       "      <td>1309966</td>\n",
       "      <td>Tula Baby Ring Sling S/M</td>\n",
       "      <td>1</td>\n",
       "      <td>Kids/Gear/Backpacks &amp; Carriers</td>\n",
       "      <td>NaN</td>\n",
       "      <td>86.0</td>\n",
       "      <td>0</td>\n",
       "      <td>Brand new in the box Tula ring sling. Size S/M</td>\n",
       "    </tr>\n",
       "    <tr>\n",
       "      <th>1260765</th>\n",
       "      <td>1260765</td>\n",
       "      <td>18pc Japanese keychain charm strap lot</td>\n",
       "      <td>3</td>\n",
       "      <td>Kids/Toys/Stuffed Animals &amp; Plush</td>\n",
       "      <td>NaN</td>\n",
       "      <td>16.0</td>\n",
       "      <td>1</td>\n",
       "      <td>Thanks for viewing my item. Please read my bio...</td>\n",
       "    </tr>\n",
       "    <tr>\n",
       "      <th>1221265</th>\n",
       "      <td>1221265</td>\n",
       "      <td>LulaRoe classic tee XL</td>\n",
       "      <td>1</td>\n",
       "      <td>Women/Tops &amp; Blouses/T-Shirts</td>\n",
       "      <td>LuLaRoe</td>\n",
       "      <td>14.0</td>\n",
       "      <td>0</td>\n",
       "      <td>Used once no fading or no pilling. The LLR tag...</td>\n",
       "    </tr>\n",
       "    <tr>\n",
       "      <th>1341884</th>\n",
       "      <td>1341884</td>\n",
       "      <td>Womens Philadelphia Eagles Windbreaker</td>\n",
       "      <td>2</td>\n",
       "      <td>Women/Athletic Apparel/Jackets</td>\n",
       "      <td>NFL</td>\n",
       "      <td>28.0</td>\n",
       "      <td>1</td>\n",
       "      <td>Womens Philadelphia Eagles Windbreaker Like Ne...</td>\n",
       "    </tr>\n",
       "    <tr>\n",
       "      <th>797881</th>\n",
       "      <td>797881</td>\n",
       "      <td>X large blouse</td>\n",
       "      <td>3</td>\n",
       "      <td>Women/Tops &amp; Blouses/Blouse</td>\n",
       "      <td>Charlotte Russe</td>\n",
       "      <td>5.0</td>\n",
       "      <td>1</td>\n",
       "      <td>X large black blouse</td>\n",
       "    </tr>\n",
       "    <tr>\n",
       "      <th>918835</th>\n",
       "      <td>918835</td>\n",
       "      <td>Earring Lot 8 Pair Kokopelli Southwester</td>\n",
       "      <td>2</td>\n",
       "      <td>Women/Jewelry/Earrings</td>\n",
       "      <td>NaN</td>\n",
       "      <td>7.0</td>\n",
       "      <td>0</td>\n",
       "      <td>8 pairs of pierced earrings. Southwestern styl...</td>\n",
       "    </tr>\n",
       "  </tbody>\n",
       "</table>\n",
       "</div>"
      ],
      "text/plain": [
       "         train_id                                      name  \\\n",
       "612001     612001                                 MK WALLET   \n",
       "522851     522851   Ralph Lauren tan w black flat shoes s 6   \n",
       "236488     236488                    14g Belly piercing kit   \n",
       "710521     710521               Rebel Flag Lanyard Keychain   \n",
       "1309966   1309966                  Tula Baby Ring Sling S/M   \n",
       "1260765   1260765    18pc Japanese keychain charm strap lot   \n",
       "1221265   1221265                    LulaRoe classic tee XL   \n",
       "1341884   1341884    Womens Philadelphia Eagles Windbreaker   \n",
       "797881     797881                            X large blouse   \n",
       "918835     918835  Earring Lot 8 Pair Kokopelli Southwester   \n",
       "\n",
       "         item_condition_id                      category_name  \\\n",
       "612001                   3  Women/Women's Accessories/Wallets   \n",
       "522851                   3                  Women/Shoes/Flats   \n",
       "236488                   1             Women/Jewelry/Earrings   \n",
       "710521                   1       Handmade/Accessories/Lanyard   \n",
       "1309966                  1     Kids/Gear/Backpacks & Carriers   \n",
       "1260765                  3  Kids/Toys/Stuffed Animals & Plush   \n",
       "1221265                  1      Women/Tops & Blouses/T-Shirts   \n",
       "1341884                  2     Women/Athletic Apparel/Jackets   \n",
       "797881                   3        Women/Tops & Blouses/Blouse   \n",
       "918835                   2             Women/Jewelry/Earrings   \n",
       "\n",
       "                  brand_name  price  shipping  \\\n",
       "612001          Michael Kors   34.0         0   \n",
       "522851   Lauren Ralph Lauren   16.0         0   \n",
       "236488                   NaN   21.0         0   \n",
       "710521                   NaN    6.0         1   \n",
       "1309966                  NaN   86.0         0   \n",
       "1260765                  NaN   16.0         1   \n",
       "1221265              LuLaRoe   14.0         0   \n",
       "1341884                  NFL   28.0         1   \n",
       "797881       Charlotte Russe    5.0         1   \n",
       "918835                   NaN    7.0         0   \n",
       "\n",
       "                                          item_description  \n",
       "612001   MK AUTHENTIC vanilla logo wallet. Zip closure ...  \n",
       "522851   Ralph Lauren tan with black flat shoes s 6! Gr...  \n",
       "236488   14g Belly piercing kit 5x Belly rings 5x 14g B...  \n",
       "710521   Great to use for hanging keys around your neck...  \n",
       "1309966     Brand new in the box Tula ring sling. Size S/M  \n",
       "1260765  Thanks for viewing my item. Please read my bio...  \n",
       "1221265  Used once no fading or no pilling. The LLR tag...  \n",
       "1341884  Womens Philadelphia Eagles Windbreaker Like Ne...  \n",
       "797881                                X large black blouse  \n",
       "918835   8 pairs of pierced earrings. Southwestern styl...  "
      ]
     },
     "execution_count": 7,
     "metadata": {},
     "output_type": "execute_result"
    }
   ],
   "source": [
    "train.head(10)"
   ]
  },
  {
   "cell_type": "markdown",
   "metadata": {},
   "source": [
    "## Summary Statistics:\n",
    "- Most item price are at 10 Dollars\n",
    "- There are about 33k items with no descriptions\n",
    "- There are 3751 unique brands\n",
    "- Majority of the items are Women's Brand"
   ]
  },
  {
   "cell_type": "code",
   "execution_count": 8,
   "metadata": {
    "scrolled": false
   },
   "outputs": [
    {
     "data": {
      "text/html": [
       "<div>\n",
       "<style scoped>\n",
       "    .dataframe tbody tr th:only-of-type {\n",
       "        vertical-align: middle;\n",
       "    }\n",
       "\n",
       "    .dataframe tbody tr th {\n",
       "        vertical-align: top;\n",
       "    }\n",
       "\n",
       "    .dataframe thead th {\n",
       "        text-align: right;\n",
       "    }\n",
       "</style>\n",
       "<table border=\"1\" class=\"dataframe\">\n",
       "  <thead>\n",
       "    <tr style=\"text-align: right;\">\n",
       "      <th></th>\n",
       "      <th>count</th>\n",
       "      <th>unique</th>\n",
       "      <th>top</th>\n",
       "      <th>freq</th>\n",
       "    </tr>\n",
       "  </thead>\n",
       "  <tbody>\n",
       "    <tr>\n",
       "      <th>train_id</th>\n",
       "      <td>74127</td>\n",
       "      <td>74127</td>\n",
       "      <td>917503</td>\n",
       "      <td>1</td>\n",
       "    </tr>\n",
       "    <tr>\n",
       "      <th>name</th>\n",
       "      <td>74127</td>\n",
       "      <td>70351</td>\n",
       "      <td>Bundle</td>\n",
       "      <td>113</td>\n",
       "    </tr>\n",
       "    <tr>\n",
       "      <th>item_condition_id</th>\n",
       "      <td>74127</td>\n",
       "      <td>5</td>\n",
       "      <td>1</td>\n",
       "      <td>31930</td>\n",
       "    </tr>\n",
       "    <tr>\n",
       "      <th>category_name</th>\n",
       "      <td>73782</td>\n",
       "      <td>926</td>\n",
       "      <td>Women/Athletic Apparel/Pants, Tights, Leggings</td>\n",
       "      <td>2980</td>\n",
       "    </tr>\n",
       "    <tr>\n",
       "      <th>brand_name</th>\n",
       "      <td>42633</td>\n",
       "      <td>1818</td>\n",
       "      <td>PINK</td>\n",
       "      <td>2719</td>\n",
       "    </tr>\n",
       "    <tr>\n",
       "      <th>price</th>\n",
       "      <td>74127</td>\n",
       "      <td>376</td>\n",
       "      <td>10</td>\n",
       "      <td>5094</td>\n",
       "    </tr>\n",
       "    <tr>\n",
       "      <th>shipping</th>\n",
       "      <td>74127</td>\n",
       "      <td>2</td>\n",
       "      <td>0</td>\n",
       "      <td>40987</td>\n",
       "    </tr>\n",
       "    <tr>\n",
       "      <th>item_description</th>\n",
       "      <td>74127</td>\n",
       "      <td>67510</td>\n",
       "      <td>No description yet</td>\n",
       "      <td>4062</td>\n",
       "    </tr>\n",
       "  </tbody>\n",
       "</table>\n",
       "</div>"
      ],
      "text/plain": [
       "                   count unique  \\\n",
       "train_id           74127  74127   \n",
       "name               74127  70351   \n",
       "item_condition_id  74127      5   \n",
       "category_name      73782    926   \n",
       "brand_name         42633   1818   \n",
       "price              74127    376   \n",
       "shipping           74127      2   \n",
       "item_description   74127  67510   \n",
       "\n",
       "                                                              top   freq  \n",
       "train_id                                                   917503      1  \n",
       "name                                                       Bundle    113  \n",
       "item_condition_id                                               1  31930  \n",
       "category_name      Women/Athletic Apparel/Pants, Tights, Leggings   2980  \n",
       "brand_name                                                   PINK   2719  \n",
       "price                                                          10   5094  \n",
       "shipping                                                        0  40987  \n",
       "item_description                               No description yet   4062  "
      ]
     },
     "execution_count": 8,
     "metadata": {},
     "output_type": "execute_result"
    }
   ],
   "source": [
    "train.astype('object').describe().transpose()"
   ]
  },
  {
   "cell_type": "markdown",
   "metadata": {},
   "source": [
    "## Test Set\n",
    "The testing set has about 700,000 observations"
   ]
  },
  {
   "cell_type": "code",
   "execution_count": 9,
   "metadata": {
    "scrolled": true
   },
   "outputs": [
    {
     "data": {
      "text/html": [
       "<div>\n",
       "<style scoped>\n",
       "    .dataframe tbody tr th:only-of-type {\n",
       "        vertical-align: middle;\n",
       "    }\n",
       "\n",
       "    .dataframe tbody tr th {\n",
       "        vertical-align: top;\n",
       "    }\n",
       "\n",
       "    .dataframe thead th {\n",
       "        text-align: right;\n",
       "    }\n",
       "</style>\n",
       "<table border=\"1\" class=\"dataframe\">\n",
       "  <thead>\n",
       "    <tr style=\"text-align: right;\">\n",
       "      <th></th>\n",
       "      <th>test_id</th>\n",
       "      <th>name</th>\n",
       "      <th>item_condition_id</th>\n",
       "      <th>category_name</th>\n",
       "      <th>brand_name</th>\n",
       "      <th>shipping</th>\n",
       "      <th>item_description</th>\n",
       "    </tr>\n",
       "  </thead>\n",
       "  <tbody>\n",
       "    <tr>\n",
       "      <th>0</th>\n",
       "      <td>0</td>\n",
       "      <td>Breast cancer \"I fight like a girl\" ring</td>\n",
       "      <td>1</td>\n",
       "      <td>Women/Jewelry/Rings</td>\n",
       "      <td>NaN</td>\n",
       "      <td>1</td>\n",
       "      <td>Size 7</td>\n",
       "    </tr>\n",
       "    <tr>\n",
       "      <th>1</th>\n",
       "      <td>1</td>\n",
       "      <td>25 pcs NEW 7.5\"x12\" Kraft Bubble Mailers</td>\n",
       "      <td>1</td>\n",
       "      <td>Other/Office supplies/Shipping Supplies</td>\n",
       "      <td>NaN</td>\n",
       "      <td>1</td>\n",
       "      <td>25 pcs NEW 7.5\"x12\" Kraft Bubble Mailers Lined...</td>\n",
       "    </tr>\n",
       "    <tr>\n",
       "      <th>2</th>\n",
       "      <td>2</td>\n",
       "      <td>Coach bag</td>\n",
       "      <td>1</td>\n",
       "      <td>Vintage &amp; Collectibles/Bags and Purses/Handbag</td>\n",
       "      <td>Coach</td>\n",
       "      <td>1</td>\n",
       "      <td>Brand new coach bag. Bought for [rm] at a Coac...</td>\n",
       "    </tr>\n",
       "    <tr>\n",
       "      <th>3</th>\n",
       "      <td>3</td>\n",
       "      <td>Floral Kimono</td>\n",
       "      <td>2</td>\n",
       "      <td>Women/Sweaters/Cardigan</td>\n",
       "      <td>NaN</td>\n",
       "      <td>0</td>\n",
       "      <td>-floral kimono -never worn -lightweight and pe...</td>\n",
       "    </tr>\n",
       "    <tr>\n",
       "      <th>4</th>\n",
       "      <td>4</td>\n",
       "      <td>Life after Death</td>\n",
       "      <td>3</td>\n",
       "      <td>Other/Books/Religion &amp; Spirituality</td>\n",
       "      <td>NaN</td>\n",
       "      <td>1</td>\n",
       "      <td>Rediscovering life after the loss of a loved o...</td>\n",
       "    </tr>\n",
       "  </tbody>\n",
       "</table>\n",
       "</div>"
      ],
      "text/plain": [
       "   test_id                                      name  item_condition_id  \\\n",
       "0        0  Breast cancer \"I fight like a girl\" ring                  1   \n",
       "1        1  25 pcs NEW 7.5\"x12\" Kraft Bubble Mailers                  1   \n",
       "2        2                                 Coach bag                  1   \n",
       "3        3                             Floral Kimono                  2   \n",
       "4        4                          Life after Death                  3   \n",
       "\n",
       "                                    category_name brand_name  shipping  \\\n",
       "0                             Women/Jewelry/Rings        NaN         1   \n",
       "1         Other/Office supplies/Shipping Supplies        NaN         1   \n",
       "2  Vintage & Collectibles/Bags and Purses/Handbag      Coach         1   \n",
       "3                         Women/Sweaters/Cardigan        NaN         0   \n",
       "4             Other/Books/Religion & Spirituality        NaN         1   \n",
       "\n",
       "                                    item_description  \n",
       "0                                             Size 7  \n",
       "1  25 pcs NEW 7.5\"x12\" Kraft Bubble Mailers Lined...  \n",
       "2  Brand new coach bag. Bought for [rm] at a Coac...  \n",
       "3  -floral kimono -never worn -lightweight and pe...  \n",
       "4  Rediscovering life after the loss of a loved o...  "
      ]
     },
     "execution_count": 9,
     "metadata": {},
     "output_type": "execute_result"
    }
   ],
   "source": [
    "# Observe testing set\n",
    "test = pd.read_csv('test.tsv', sep = '\\t',engine = 'python')\n",
    "test.head()"
   ]
  },
  {
   "cell_type": "code",
   "execution_count": 9,
   "metadata": {
    "scrolled": true
   },
   "outputs": [
    {
     "data": {
      "text/plain": [
       "(693359, 7)"
      ]
     },
     "execution_count": 9,
     "metadata": {},
     "output_type": "execute_result"
    }
   ],
   "source": [
    "# We sample about 10% of t\n",
    "test.shape"
   ]
  },
  {
   "cell_type": "markdown",
   "metadata": {},
   "source": [
    "# Data Cleaning"
   ]
  },
  {
   "cell_type": "code",
   "execution_count": 13,
   "metadata": {},
   "outputs": [
    {
     "data": {
      "text/plain": [
       "train_id                 0\n",
       "name                     0\n",
       "item_condition_id        0\n",
       "category_name          614\n",
       "brand_name           63135\n",
       "price                    0\n",
       "shipping                 0\n",
       "item_description         0\n",
       "dtype: int64"
      ]
     },
     "execution_count": 13,
     "metadata": {},
     "output_type": "execute_result"
    }
   ],
   "source": [
    " train.isnull().sum()"
   ]
  },
  {
   "cell_type": "markdown",
   "metadata": {},
   "source": [
    "Not surprising to find that many entries don't have brand name since most products we use are not generally branded. Atleast not brands which add value by themselves like Nike or Gucci, etc."
   ]
  },
  {
   "cell_type": "code",
   "execution_count": 8,
   "metadata": {},
   "outputs": [],
   "source": [
    "# Create a function to impute missing values\n",
    "def fill_missing_value(data):\n",
    "    data['category_name'].fillna(value = 'Other/Other/Other', inplace=True)\n",
    "    data['brand_name'].fillna(value = 'uknown', inplace=True)\n",
    "    data['item_description'].fillna(value = 'No description yet', inplace=True)\n",
    "    \n",
    "    return data"
   ]
  },
  {
   "cell_type": "code",
   "execution_count": 10,
   "metadata": {},
   "outputs": [
    {
     "data": {
      "text/html": [
       "<div>\n",
       "<style scoped>\n",
       "    .dataframe tbody tr th:only-of-type {\n",
       "        vertical-align: middle;\n",
       "    }\n",
       "\n",
       "    .dataframe tbody tr th {\n",
       "        vertical-align: top;\n",
       "    }\n",
       "\n",
       "    .dataframe thead th {\n",
       "        text-align: right;\n",
       "    }\n",
       "</style>\n",
       "<table border=\"1\" class=\"dataframe\">\n",
       "  <thead>\n",
       "    <tr style=\"text-align: right;\">\n",
       "      <th></th>\n",
       "      <th>train_id</th>\n",
       "      <th>name</th>\n",
       "      <th>item_condition_id</th>\n",
       "      <th>category_name</th>\n",
       "      <th>brand_name</th>\n",
       "      <th>price</th>\n",
       "      <th>shipping</th>\n",
       "      <th>item_description</th>\n",
       "    </tr>\n",
       "  </thead>\n",
       "  <tbody>\n",
       "    <tr>\n",
       "      <th>612001</th>\n",
       "      <td>612001</td>\n",
       "      <td>MK WALLET</td>\n",
       "      <td>3</td>\n",
       "      <td>Women/Women's Accessories/Wallets</td>\n",
       "      <td>Michael Kors</td>\n",
       "      <td>34.0</td>\n",
       "      <td>0</td>\n",
       "      <td>MK AUTHENTIC vanilla logo wallet. Zip closure ...</td>\n",
       "    </tr>\n",
       "    <tr>\n",
       "      <th>522851</th>\n",
       "      <td>522851</td>\n",
       "      <td>Ralph Lauren tan w black flat shoes s 6</td>\n",
       "      <td>3</td>\n",
       "      <td>Women/Shoes/Flats</td>\n",
       "      <td>Lauren Ralph Lauren</td>\n",
       "      <td>16.0</td>\n",
       "      <td>0</td>\n",
       "      <td>Ralph Lauren tan with black flat shoes s 6! Gr...</td>\n",
       "    </tr>\n",
       "    <tr>\n",
       "      <th>236488</th>\n",
       "      <td>236488</td>\n",
       "      <td>14g Belly piercing kit</td>\n",
       "      <td>1</td>\n",
       "      <td>Women/Jewelry/Earrings</td>\n",
       "      <td>uknown</td>\n",
       "      <td>21.0</td>\n",
       "      <td>0</td>\n",
       "      <td>14g Belly piercing kit 5x Belly rings 5x 14g B...</td>\n",
       "    </tr>\n",
       "    <tr>\n",
       "      <th>710521</th>\n",
       "      <td>710521</td>\n",
       "      <td>Rebel Flag Lanyard Keychain</td>\n",
       "      <td>1</td>\n",
       "      <td>Handmade/Accessories/Lanyard</td>\n",
       "      <td>uknown</td>\n",
       "      <td>6.0</td>\n",
       "      <td>1</td>\n",
       "      <td>Great to use for hanging keys around your neck...</td>\n",
       "    </tr>\n",
       "    <tr>\n",
       "      <th>1309966</th>\n",
       "      <td>1309966</td>\n",
       "      <td>Tula Baby Ring Sling S/M</td>\n",
       "      <td>1</td>\n",
       "      <td>Kids/Gear/Backpacks &amp; Carriers</td>\n",
       "      <td>uknown</td>\n",
       "      <td>86.0</td>\n",
       "      <td>0</td>\n",
       "      <td>Brand new in the box Tula ring sling. Size S/M</td>\n",
       "    </tr>\n",
       "    <tr>\n",
       "      <th>...</th>\n",
       "      <td>...</td>\n",
       "      <td>...</td>\n",
       "      <td>...</td>\n",
       "      <td>...</td>\n",
       "      <td>...</td>\n",
       "      <td>...</td>\n",
       "      <td>...</td>\n",
       "      <td>...</td>\n",
       "    </tr>\n",
       "    <tr>\n",
       "      <th>29652</th>\n",
       "      <td>29652</td>\n",
       "      <td>8 gamboy game bundle</td>\n",
       "      <td>3</td>\n",
       "      <td>Electronics/Video Games &amp; Consoles/Games</td>\n",
       "      <td>Nintendo</td>\n",
       "      <td>16.0</td>\n",
       "      <td>1</td>\n",
       "      <td>8 games that still work to perfection</td>\n",
       "    </tr>\n",
       "    <tr>\n",
       "      <th>928593</th>\n",
       "      <td>928593</td>\n",
       "      <td>Plus size skort</td>\n",
       "      <td>3</td>\n",
       "      <td>Women/Athletic Apparel/Skirts, Skorts &amp; Dresses</td>\n",
       "      <td>uknown</td>\n",
       "      <td>7.0</td>\n",
       "      <td>0</td>\n",
       "      <td>Very cute Worn 2x Fits like 1/2x Brand: fashio...</td>\n",
       "    </tr>\n",
       "    <tr>\n",
       "      <th>1475637</th>\n",
       "      <td>1475637</td>\n",
       "      <td>100% Authentic Apple EarPods</td>\n",
       "      <td>1</td>\n",
       "      <td>Electronics/Cell Phones &amp; Accessories/Headsets</td>\n",
       "      <td>uknown</td>\n",
       "      <td>12.0</td>\n",
       "      <td>1</td>\n",
       "      <td>Brand new factory sealed</td>\n",
       "    </tr>\n",
       "    <tr>\n",
       "      <th>1109896</th>\n",
       "      <td>1109896</td>\n",
       "      <td>Victoria's Secret Knockout Leggings</td>\n",
       "      <td>3</td>\n",
       "      <td>Women/Athletic Apparel/Pants, Tights, Leggings</td>\n",
       "      <td>Victoria's Secret</td>\n",
       "      <td>20.0</td>\n",
       "      <td>1</td>\n",
       "      <td>ON HOLD Size medium Mid rise</td>\n",
       "    </tr>\n",
       "    <tr>\n",
       "      <th>283623</th>\n",
       "      <td>283623</td>\n",
       "      <td>Red &amp; Black Flannel with Hood</td>\n",
       "      <td>3</td>\n",
       "      <td>Women/Tops &amp; Blouses/Button Down Shirt</td>\n",
       "      <td>uknown</td>\n",
       "      <td>17.0</td>\n",
       "      <td>0</td>\n",
       "      <td>Cozy flannel! Size Medium. Black &amp; red with da...</td>\n",
       "    </tr>\n",
       "  </tbody>\n",
       "</table>\n",
       "<p>148254 rows × 8 columns</p>\n",
       "</div>"
      ],
      "text/plain": [
       "         train_id                                     name  item_condition_id  \\\n",
       "612001     612001                                MK WALLET                  3   \n",
       "522851     522851  Ralph Lauren tan w black flat shoes s 6                  3   \n",
       "236488     236488                   14g Belly piercing kit                  1   \n",
       "710521     710521              Rebel Flag Lanyard Keychain                  1   \n",
       "1309966   1309966                 Tula Baby Ring Sling S/M                  1   \n",
       "...           ...                                      ...                ...   \n",
       "29652       29652                     8 gamboy game bundle                  3   \n",
       "928593     928593                          Plus size skort                  3   \n",
       "1475637   1475637             100% Authentic Apple EarPods                  1   \n",
       "1109896   1109896      Victoria's Secret Knockout Leggings                  3   \n",
       "283623     283623            Red & Black Flannel with Hood                  3   \n",
       "\n",
       "                                           category_name           brand_name  \\\n",
       "612001                 Women/Women's Accessories/Wallets         Michael Kors   \n",
       "522851                                 Women/Shoes/Flats  Lauren Ralph Lauren   \n",
       "236488                            Women/Jewelry/Earrings               uknown   \n",
       "710521                      Handmade/Accessories/Lanyard               uknown   \n",
       "1309966                   Kids/Gear/Backpacks & Carriers               uknown   \n",
       "...                                                  ...                  ...   \n",
       "29652           Electronics/Video Games & Consoles/Games             Nintendo   \n",
       "928593   Women/Athletic Apparel/Skirts, Skorts & Dresses               uknown   \n",
       "1475637   Electronics/Cell Phones & Accessories/Headsets               uknown   \n",
       "1109896   Women/Athletic Apparel/Pants, Tights, Leggings    Victoria's Secret   \n",
       "283623            Women/Tops & Blouses/Button Down Shirt               uknown   \n",
       "\n",
       "         price  shipping                                   item_description  \n",
       "612001    34.0         0  MK AUTHENTIC vanilla logo wallet. Zip closure ...  \n",
       "522851    16.0         0  Ralph Lauren tan with black flat shoes s 6! Gr...  \n",
       "236488    21.0         0  14g Belly piercing kit 5x Belly rings 5x 14g B...  \n",
       "710521     6.0         1  Great to use for hanging keys around your neck...  \n",
       "1309966   86.0         0     Brand new in the box Tula ring sling. Size S/M  \n",
       "...        ...       ...                                                ...  \n",
       "29652     16.0         1              8 games that still work to perfection  \n",
       "928593     7.0         0  Very cute Worn 2x Fits like 1/2x Brand: fashio...  \n",
       "1475637   12.0         1                           Brand new factory sealed  \n",
       "1109896   20.0         1                       ON HOLD Size medium Mid rise  \n",
       "283623    17.0         0  Cozy flannel! Size Medium. Black & red with da...  \n",
       "\n",
       "[148254 rows x 8 columns]"
      ]
     },
     "execution_count": 10,
     "metadata": {},
     "output_type": "execute_result"
    }
   ],
   "source": [
    "fill_missing_value(train)\n"
   ]
  },
  {
   "cell_type": "markdown",
   "metadata": {},
   "source": [
    "# Exploratory Data Analysis"
   ]
  },
  {
   "cell_type": "code",
   "execution_count": 11,
   "metadata": {
    "scrolled": true
   },
   "outputs": [
    {
     "data": {
      "text/plain": [
       "count    148254.000000\n",
       "mean         26.840294\n",
       "std          39.638960\n",
       "min           0.000000\n",
       "25%          10.000000\n",
       "50%          17.000000\n",
       "75%          29.000000\n",
       "max        1800.000000\n",
       "Name: price, dtype: float64"
      ]
     },
     "execution_count": 11,
     "metadata": {},
     "output_type": "execute_result"
    }
   ],
   "source": [
    "train.price.describe()"
   ]
  },
  {
   "cell_type": "code",
   "execution_count": 12,
   "metadata": {},
   "outputs": [
    {
     "data": {
      "text/plain": [
       "<matplotlib.lines.Line2D at 0x11698d8dec8>"
      ]
     },
     "execution_count": 12,
     "metadata": {},
     "output_type": "execute_result"
    },
    {
     "data": {
      "image/png": "[encoded data removed]",
      "text/plain": [
       "<Figure size 720x504 with 1 Axes>"
      ]
     },
     "metadata": {
      "needs_background": "light"
     },
     "output_type": "display_data"
    }
   ],
   "source": [
    "# Plotting sorted price against their index\n",
    "sorted_price = sorted(train['price'])\n",
    "y = sorted_price\n",
    "\n",
    "plt.figure(figsize=(10,7))\n",
    "plt.scatter(range(len(sorted_price)), y, s=10)\n",
    "\n",
    "# We will see if there are any outliers assuming a minimium price of 3 dollars\n",
    "plt.axhline(y=3, linestyle='--', color='r')\n",
    "plt.axhline(y=500, linestyle='--', color='r')"
   ]
  },
  {
   "cell_type": "markdown",
   "metadata": {},
   "source": [
    "There seems to be outliers in the price distribution with some values 0 and some as high as 2000. Let's look at them individually."
   ]
  },
  {
   "cell_type": "code",
   "execution_count": 18,
   "metadata": {},
   "outputs": [
    {
     "data": {
      "text/html": [
       "<div>\n",
       "<style scoped>\n",
       "    .dataframe tbody tr th:only-of-type {\n",
       "        vertical-align: middle;\n",
       "    }\n",
       "\n",
       "    .dataframe tbody tr th {\n",
       "        vertical-align: top;\n",
       "    }\n",
       "\n",
       "    .dataframe thead th {\n",
       "        text-align: right;\n",
       "    }\n",
       "</style>\n",
       "<table border=\"1\" class=\"dataframe\">\n",
       "  <thead>\n",
       "    <tr style=\"text-align: right;\">\n",
       "      <th></th>\n",
       "      <th>train_id</th>\n",
       "      <th>name</th>\n",
       "      <th>item_condition_id</th>\n",
       "      <th>category_name</th>\n",
       "      <th>brand_name</th>\n",
       "      <th>price</th>\n",
       "      <th>shipping</th>\n",
       "      <th>item_description</th>\n",
       "    </tr>\n",
       "  </thead>\n",
       "  <tbody>\n",
       "    <tr>\n",
       "      <th>755632</th>\n",
       "      <td>755632</td>\n",
       "      <td>Saint Laurent envelope clutch crossbody</td>\n",
       "      <td>1</td>\n",
       "      <td>Women/Women's Handbags/Messenger &amp; Crossbody</td>\n",
       "      <td>Saint Laurent</td>\n",
       "      <td>1260.0</td>\n",
       "      <td>1</td>\n",
       "      <td>Brand new Saint Laurent clutch/cross body in a...</td>\n",
       "    </tr>\n",
       "    <tr>\n",
       "      <th>1149578</th>\n",
       "      <td>1149578</td>\n",
       "      <td>Louis Vuitton Speedy 30</td>\n",
       "      <td>2</td>\n",
       "      <td>Women/Women's Handbags/Satchel</td>\n",
       "      <td>Louis Vuitton</td>\n",
       "      <td>1100.0</td>\n",
       "      <td>1</td>\n",
       "      <td>Louis Vuitton Speedy B 30. only used a few tim...</td>\n",
       "    </tr>\n",
       "    <tr>\n",
       "      <th>736116</th>\n",
       "      <td>736116</td>\n",
       "      <td>Louis Vuitton Delightful pm</td>\n",
       "      <td>3</td>\n",
       "      <td>Women/Women's Handbags/Shoulder Bag</td>\n",
       "      <td>uknown</td>\n",
       "      <td>1070.0</td>\n",
       "      <td>1</td>\n",
       "      <td>Authentic guaranteed. I have everything includ...</td>\n",
       "    </tr>\n",
       "    <tr>\n",
       "      <th>693165</th>\n",
       "      <td>693165</td>\n",
       "      <td>MacBook Pro</td>\n",
       "      <td>2</td>\n",
       "      <td>Electronics/Computers &amp; Tablets/Laptops &amp; Netb...</td>\n",
       "      <td>Apple</td>\n",
       "      <td>1350.0</td>\n",
       "      <td>1</td>\n",
       "      <td>MacBook Pro with Retina 15\" Display 500 GB of ...</td>\n",
       "    </tr>\n",
       "    <tr>\n",
       "      <th>1032857</th>\n",
       "      <td>1032857</td>\n",
       "      <td>Authentic Rose Ballerine Neverful MM</td>\n",
       "      <td>3</td>\n",
       "      <td>Women/Women's Handbags/Shoulder Bag</td>\n",
       "      <td>Louis Vuitton</td>\n",
       "      <td>1006.0</td>\n",
       "      <td>0</td>\n",
       "      <td>Authentic Rose Ballerine Neverful MM still in ...</td>\n",
       "    </tr>\n",
       "    <tr>\n",
       "      <th>999273</th>\n",
       "      <td>999273</td>\n",
       "      <td>Sprint iPhone7 128GB FREE SHIPPING</td>\n",
       "      <td>1</td>\n",
       "      <td>Electronics/Cell Phones &amp; Accessories/Cell Pho...</td>\n",
       "      <td>Apple</td>\n",
       "      <td>1209.0</td>\n",
       "      <td>0</td>\n",
       "      <td>iPhone 7 128GB color: BLACK Brand new in box w...</td>\n",
       "    </tr>\n",
       "    <tr>\n",
       "      <th>15769</th>\n",
       "      <td>15769</td>\n",
       "      <td>Celine Tri Colored Suede Mini luggage</td>\n",
       "      <td>3</td>\n",
       "      <td>Women/Women's Handbags/Totes &amp; Shoppers</td>\n",
       "      <td>Celine</td>\n",
       "      <td>1009.0</td>\n",
       "      <td>0</td>\n",
       "      <td>Beautiful Celine mini luggage. In good conditi...</td>\n",
       "    </tr>\n",
       "    <tr>\n",
       "      <th>449729</th>\n",
       "      <td>449729</td>\n",
       "      <td>AUTH Louis Vuitton Palm Springs MM</td>\n",
       "      <td>2</td>\n",
       "      <td>Women/Women's Handbags/Backpack Style</td>\n",
       "      <td>Louis Vuitton</td>\n",
       "      <td>1808.0</td>\n",
       "      <td>0</td>\n",
       "      <td>This bag is in really good condition. Barely u...</td>\n",
       "    </tr>\n",
       "    <tr>\n",
       "      <th>724307</th>\n",
       "      <td>724307</td>\n",
       "      <td>Urban Decay bundle</td>\n",
       "      <td>1</td>\n",
       "      <td>Beauty/Makeup/Makeup Palettes</td>\n",
       "      <td>Urban Decay</td>\n",
       "      <td>1355.0</td>\n",
       "      <td>0</td>\n",
       "      <td>20 ultimate naked 20 tarte bloom 25 naked basic</td>\n",
       "    </tr>\n",
       "    <tr>\n",
       "      <th>288656</th>\n",
       "      <td>288656</td>\n",
       "      <td>INR PLUS STRIPS</td>\n",
       "      <td>1</td>\n",
       "      <td>Other/Other/Other</td>\n",
       "      <td>uknown</td>\n",
       "      <td>1000.0</td>\n",
       "      <td>1</td>\n",
       "      <td>This post is good for: 3 brand new machines 1 ...</td>\n",
       "    </tr>\n",
       "    <tr>\n",
       "      <th>351229</th>\n",
       "      <td>351229</td>\n",
       "      <td>Lovely Auth. Chanel Boy lambskin Italy</td>\n",
       "      <td>2</td>\n",
       "      <td>Women/Women's Handbags/Shoulder Bag</td>\n",
       "      <td>Chanel</td>\n",
       "      <td>1600.0</td>\n",
       "      <td>1</td>\n",
       "      <td>On hold dont purchase. ..Gorgeous like new aut...</td>\n",
       "    </tr>\n",
       "    <tr>\n",
       "      <th>606594</th>\n",
       "      <td>606594</td>\n",
       "      <td>Men's Louis Vuitton Josh backpack</td>\n",
       "      <td>3</td>\n",
       "      <td>Men/Men's Accessories/Backpacks, Bags &amp; Briefc...</td>\n",
       "      <td>Louis Vuitton</td>\n",
       "      <td>1009.0</td>\n",
       "      <td>0</td>\n",
       "      <td>In Monogram Macassar</td>\n",
       "    </tr>\n",
       "    <tr>\n",
       "      <th>1450161</th>\n",
       "      <td>1450161</td>\n",
       "      <td>Chanel old medium boy caviar flap bag</td>\n",
       "      <td>1</td>\n",
       "      <td>Women/Women's Handbags/Shoulder Bag</td>\n",
       "      <td>Chanel</td>\n",
       "      <td>1000.0</td>\n",
       "      <td>1</td>\n",
       "      <td>Brand: CHANEL Style: Boy Flap Bag Size: Old Me...</td>\n",
       "    </tr>\n",
       "    <tr>\n",
       "      <th>647995</th>\n",
       "      <td>647995</td>\n",
       "      <td>Authentic Chanel So Black Mini</td>\n",
       "      <td>2</td>\n",
       "      <td>Women/Women's Handbags/Shoulder Bag</td>\n",
       "      <td>Chanel</td>\n",
       "      <td>1256.0</td>\n",
       "      <td>0</td>\n",
       "      <td>Authentic CHANEL Lambskin Chevron Quilted Squa...</td>\n",
       "    </tr>\n",
       "    <tr>\n",
       "      <th>459247</th>\n",
       "      <td>459247</td>\n",
       "      <td>Authentic Louis Vuitton MM Artsy</td>\n",
       "      <td>3</td>\n",
       "      <td>Vintage &amp; Collectibles/Bags and Purses/Handbag</td>\n",
       "      <td>Louis Vuitton</td>\n",
       "      <td>1299.0</td>\n",
       "      <td>0</td>\n",
       "      <td>Guaranteed authentic - absolutely no markings ...</td>\n",
       "    </tr>\n",
       "  </tbody>\n",
       "</table>\n",
       "</div>"
      ],
      "text/plain": [
       "         train_id                                     name  item_condition_id  \\\n",
       "755632     755632  Saint Laurent envelope clutch crossbody                  1   \n",
       "1149578   1149578                  Louis Vuitton Speedy 30                  2   \n",
       "736116     736116              Louis Vuitton Delightful pm                  3   \n",
       "693165     693165                              MacBook Pro                  2   \n",
       "1032857   1032857     Authentic Rose Ballerine Neverful MM                  3   \n",
       "999273     999273       Sprint iPhone7 128GB FREE SHIPPING                  1   \n",
       "15769       15769    Celine Tri Colored Suede Mini luggage                  3   \n",
       "449729     449729       AUTH Louis Vuitton Palm Springs MM                  2   \n",
       "724307     724307                       Urban Decay bundle                  1   \n",
       "288656     288656                          INR PLUS STRIPS                  1   \n",
       "351229     351229   Lovely Auth. Chanel Boy lambskin Italy                  2   \n",
       "606594     606594        Men's Louis Vuitton Josh backpack                  3   \n",
       "1450161   1450161    Chanel old medium boy caviar flap bag                  1   \n",
       "647995     647995           Authentic Chanel So Black Mini                  2   \n",
       "459247     459247         Authentic Louis Vuitton MM Artsy                  3   \n",
       "\n",
       "                                             category_name     brand_name  \\\n",
       "755632        Women/Women's Handbags/Messenger & Crossbody  Saint Laurent   \n",
       "1149578                     Women/Women's Handbags/Satchel  Louis Vuitton   \n",
       "736116                 Women/Women's Handbags/Shoulder Bag         uknown   \n",
       "693165   Electronics/Computers & Tablets/Laptops & Netb...          Apple   \n",
       "1032857                Women/Women's Handbags/Shoulder Bag  Louis Vuitton   \n",
       "999273   Electronics/Cell Phones & Accessories/Cell Pho...          Apple   \n",
       "15769              Women/Women's Handbags/Totes & Shoppers         Celine   \n",
       "449729               Women/Women's Handbags/Backpack Style  Louis Vuitton   \n",
       "724307                       Beauty/Makeup/Makeup Palettes    Urban Decay   \n",
       "288656                                   Other/Other/Other         uknown   \n",
       "351229                 Women/Women's Handbags/Shoulder Bag         Chanel   \n",
       "606594   Men/Men's Accessories/Backpacks, Bags & Briefc...  Louis Vuitton   \n",
       "1450161                Women/Women's Handbags/Shoulder Bag         Chanel   \n",
       "647995                 Women/Women's Handbags/Shoulder Bag         Chanel   \n",
       "459247      Vintage & Collectibles/Bags and Purses/Handbag  Louis Vuitton   \n",
       "\n",
       "          price  shipping                                   item_description  \n",
       "755632   1260.0         1  Brand new Saint Laurent clutch/cross body in a...  \n",
       "1149578  1100.0         1  Louis Vuitton Speedy B 30. only used a few tim...  \n",
       "736116   1070.0         1  Authentic guaranteed. I have everything includ...  \n",
       "693165   1350.0         1  MacBook Pro with Retina 15\" Display 500 GB of ...  \n",
       "1032857  1006.0         0  Authentic Rose Ballerine Neverful MM still in ...  \n",
       "999273   1209.0         0  iPhone 7 128GB color: BLACK Brand new in box w...  \n",
       "15769    1009.0         0  Beautiful Celine mini luggage. In good conditi...  \n",
       "449729   1808.0         0  This bag is in really good condition. Barely u...  \n",
       "724307   1355.0         0    20 ultimate naked 20 tarte bloom 25 naked basic  \n",
       "288656   1000.0         1  This post is good for: 3 brand new machines 1 ...  \n",
       "351229   1600.0         1  On hold dont purchase. ..Gorgeous like new aut...  \n",
       "606594   1009.0         0                               In Monogram Macassar  \n",
       "1450161  1000.0         1  Brand: CHANEL Style: Boy Flap Bag Size: Old Me...  \n",
       "647995   1256.0         0  Authentic CHANEL Lambskin Chevron Quilted Squa...  \n",
       "459247   1299.0         0  Guaranteed authentic - absolutely no markings ...  "
      ]
     },
     "execution_count": 18,
     "metadata": {},
     "output_type": "execute_result"
    }
   ],
   "source": [
    "train[train.price>=1000]"
   ]
  },
  {
   "cell_type": "markdown",
   "metadata": {},
   "source": [
    "The higher prices do not seem to be outliers but just expensive brands or products. The price of 0$ on the other hand might very well be the case of people just wanting to give stuff away for free. Having this data might have bad effects on the model. So, lets remove them"
   ]
  },
  {
   "cell_type": "code",
   "execution_count": 13,
   "metadata": {},
   "outputs": [],
   "source": [
    "train = train[train.price != 0]"
   ]
  },
  {
   "cell_type": "markdown",
   "metadata": {},
   "source": [
    "# Price Distribution"
   ]
  },
  {
   "cell_type": "markdown",
   "metadata": {},
   "source": [
    "**Why take log(price)?** \n",
    "\n",
    "As discussed earlier, the metric we are going to use is the RMLSE, so we can take the log of the price as the target label. Doing this also ensures that the right-skewed distribution of the prices will take a normal curve shape."
   ]
  },
  {
   "cell_type": "code",
   "execution_count": 14,
   "metadata": {},
   "outputs": [
    {
     "name": "stderr",
     "output_type": "stream",
     "text": [
      "C:\\Users\\sabareesh\\Anaconda\\lib\\site-packages\\ipykernel_launcher.py:1: SettingWithCopyWarning: \n",
      "A value is trying to be set on a copy of a slice from a DataFrame.\n",
      "Try using .loc[row_indexer,col_indexer] = value instead\n",
      "\n",
      "See the caveats in the documentation: https://pandas.pydata.org/pandas-docs/stable/user_guide/indexing.html#returning-a-view-versus-a-copy\n",
      "  \"\"\"Entry point for launching an IPython kernel.\n"
     ]
    }
   ],
   "source": [
    "train['log_price'] = np.log(train['price'])"
   ]
  },
  {
   "cell_type": "code",
   "execution_count": 21,
   "metadata": {},
   "outputs": [],
   "source": [
    "def create_histogram(size, data, features, **kwargs):\n",
    "    plt.figure(figsize=size)\n",
    "    if 'title' in kwargs:\n",
    "        plt.suptitle(kwargs['title'])\n",
    "    for i in range(len(features)):\n",
    "        plt.subplot(1, 2, i+1)\n",
    "        data[features[i]].plot.hist(bins=50, figsize=(15,6), edgecolor='white')\n",
    "        plt.xlabel(features[i])\n",
    "    "
   ]
  },
  {
   "cell_type": "code",
   "execution_count": 22,
   "metadata": {},
   "outputs": [
    {
     "data": {
      "image/png": "[encoded data removed]",
      "text/plain": [
       "<Figure size 1080x432 with 2 Axes>"
      ]
     },
     "metadata": {
      "needs_background": "light"
     },
     "output_type": "display_data"
    }
   ],
   "source": [
    "create_histogram((30, 12), train, ['price', 'log_price'], title='Price Distributions')"
   ]
  },
  {
   "cell_type": "markdown",
   "metadata": {
    "collapsed": true
   },
   "source": [
    "## Shipping Distribution"
   ]
  },
  {
   "cell_type": "code",
   "execution_count": 23,
   "metadata": {},
   "outputs": [
    {
     "data": {
      "text/plain": [
       "0    0.551928\n",
       "1    0.448072\n",
       "Name: shipping, dtype: float64"
      ]
     },
     "execution_count": 23,
     "metadata": {},
     "output_type": "execute_result"
    }
   ],
   "source": [
    "train['shipping'].value_counts() / len(train)"
   ]
  },
  {
   "cell_type": "markdown",
   "metadata": {},
   "source": [
    "## Price Distribution by Shipping Type"
   ]
  },
  {
   "cell_type": "code",
   "execution_count": 24,
   "metadata": {},
   "outputs": [
    {
     "data": {
      "text/plain": [
       "<matplotlib.legend.Legend at 0x201c65146c8>"
      ]
     },
     "execution_count": 24,
     "metadata": {},
     "output_type": "execute_result"
    },
    {
     "data": {
      "image/png": "[encoded data removed]",
      "text/plain": [
       "<Figure size 1152x432 with 1 Axes>"
      ]
     },
     "metadata": {
      "needs_background": "light"
     },
     "output_type": "display_data"
    }
   ],
   "source": [
    "# Subsetting by clicks\n",
    "no_shipping = train['shipping'] == 0\n",
    "yes_shipping = train['shipping'] == 1\n",
    "feature = 'log_price'\n",
    "\n",
    "plt.figure(figsize=(16,6))\n",
    "sns.distplot(train[feature][yes_shipping], label='Price when Seller pays Shipping', color=\"b\")\n",
    "sns.distplot(train[feature][no_shipping], label='Price when Buyer pays Shipping', color=\"r\")\n",
    "plt.axvline(train[feature][yes_shipping].mean(), linestyle = '--', color=\"b\")\n",
    "plt.axvline(train[feature][no_shipping].mean(), linestyle = '--', color=\"r\")\n",
    "plt.legend()\n"
   ]
  },
  {
   "cell_type": "markdown",
   "metadata": {},
   "source": [
    "The prices when Buyer pays the shipping is higher. This is counter-intuitive since we expect the prices to be higher when seller is paying the shipping. This means that the average price of the products when the buyer pays for the shipping is higher. "
   ]
  },
  {
   "cell_type": "markdown",
   "metadata": {},
   "source": [
    "# Top 10 Categories "
   ]
  },
  {
   "cell_type": "code",
   "execution_count": 25,
   "metadata": {},
   "outputs": [
    {
     "data": {
      "text/plain": [
       "Women/Athletic Apparel/Pants, Tights, Leggings                 6056\n",
       "Women/Tops & Blouses/T-Shirts                                  4664\n",
       "Beauty/Makeup/Face                                             3385\n",
       "Beauty/Makeup/Lips                                             3055\n",
       "Electronics/Video Games & Consoles/Games                       2646\n",
       "Beauty/Makeup/Eyes                                             2483\n",
       "Electronics/Cell Phones & Accessories/Cases, Covers & Skins    2479\n",
       "Women/Underwear/Bras                                           2063\n",
       "Women/Tops & Blouses/Blouse                                    2029\n",
       "Women/Jewelry/Necklaces                                        2017\n",
       "Name: category_name, dtype: int64"
      ]
     },
     "execution_count": 25,
     "metadata": {},
     "output_type": "execute_result"
    }
   ],
   "source": [
    "train['category_name'].value_counts()[:10]"
   ]
  },
  {
   "cell_type": "code",
   "execution_count": 26,
   "metadata": {},
   "outputs": [
    {
     "data": {
      "image/png": "[encoded data removed]",
      "text/plain": [
       "<Figure size 640x480 with 1 Axes>"
      ]
     },
     "metadata": {},
     "output_type": "display_data"
    }
   ],
   "source": [
    "plt.rcdefaults()\n",
    "fig, ax = plt.subplots()\n",
    "\n",
    "# Example data\n",
    "people = train['category_name'].value_counts()[:10].index\n",
    "y_pos = np.arange(10)\n",
    "performance = train['category_name'].value_counts()[:10].values\n",
    "error = np.random.rand(len(people))\n",
    "\n",
    "ax.barh(y_pos, performance, align='center')\n",
    "ax.set_yticks(y_pos)\n",
    "ax.set_yticklabels(people, fontsize=8)\n",
    "ax.invert_yaxis()  # labels read top-to-bottom\n",
    "ax.set_xlabel('Num of products')\n",
    "ax.set_title('Top 10 categories')\n",
    "\n",
    "plt.show()"
   ]
  },
  {
   "cell_type": "markdown",
   "metadata": {},
   "source": [
    "The above graph clearly shows the user market for Merrcari is predominantly women and this is very helpful for Mercari to possibly take business decisions, modify the look of the websites and also advertise relevant products for the user base. "
   ]
  },
  {
   "cell_type": "markdown",
   "metadata": {},
   "source": [
    "## Split the categories into sub-categories\n",
    "\n",
    "The category variable is mentioned in the format **Category/ Sub-Category/ Sub-Sub-Category**. Let's split this column into three columns to find the broader distributions like Women, Kids, Electronics, etc."
   ]
  },
  {
   "cell_type": "code",
   "execution_count": 15,
   "metadata": {
    "scrolled": true
   },
   "outputs": [],
   "source": [
    "def transform_category_name(data, category_name):\n",
    "    new = data[category_name].str.split(\"/\", expand = True) \n",
    "    data['category_main'] = new[0]\n",
    "    data['category_sub1'] = new[1]\n",
    "    data['category_sub2'] = new[2]\n",
    "    data.drop(columns =[category_name], inplace = True) \n",
    "    return data\n"
   ]
  },
  {
   "cell_type": "code",
   "execution_count": 16,
   "metadata": {},
   "outputs": [
    {
     "name": "stderr",
     "output_type": "stream",
     "text": [
      "C:\\Users\\sabareesh\\Anaconda\\lib\\site-packages\\ipykernel_launcher.py:3: SettingWithCopyWarning: \n",
      "A value is trying to be set on a copy of a slice from a DataFrame.\n",
      "Try using .loc[row_indexer,col_indexer] = value instead\n",
      "\n",
      "See the caveats in the documentation: https://pandas.pydata.org/pandas-docs/stable/user_guide/indexing.html#returning-a-view-versus-a-copy\n",
      "  This is separate from the ipykernel package so we can avoid doing imports until\n",
      "C:\\Users\\sabareesh\\Anaconda\\lib\\site-packages\\ipykernel_launcher.py:4: SettingWithCopyWarning: \n",
      "A value is trying to be set on a copy of a slice from a DataFrame.\n",
      "Try using .loc[row_indexer,col_indexer] = value instead\n",
      "\n",
      "See the caveats in the documentation: https://pandas.pydata.org/pandas-docs/stable/user_guide/indexing.html#returning-a-view-versus-a-copy\n",
      "  after removing the cwd from sys.path.\n",
      "C:\\Users\\sabareesh\\Anaconda\\lib\\site-packages\\ipykernel_launcher.py:5: SettingWithCopyWarning: \n",
      "A value is trying to be set on a copy of a slice from a DataFrame.\n",
      "Try using .loc[row_indexer,col_indexer] = value instead\n",
      "\n",
      "See the caveats in the documentation: https://pandas.pydata.org/pandas-docs/stable/user_guide/indexing.html#returning-a-view-versus-a-copy\n",
      "  \"\"\"\n",
      "C:\\Users\\sabareesh\\Anaconda\\lib\\site-packages\\pandas\\core\\frame.py:3997: SettingWithCopyWarning: \n",
      "A value is trying to be set on a copy of a slice from a DataFrame\n",
      "\n",
      "See the caveats in the documentation: https://pandas.pydata.org/pandas-docs/stable/user_guide/indexing.html#returning-a-view-versus-a-copy\n",
      "  errors=errors,\n"
     ]
    }
   ],
   "source": [
    "train = transform_category_name(train, 'category_name')\n",
    "# test = transform_category_name(test, 'category_name')"
   ]
  },
  {
   "cell_type": "code",
   "execution_count": 29,
   "metadata": {},
   "outputs": [
    {
     "data": {
      "text/html": [
       "<div>\n",
       "<style scoped>\n",
       "    .dataframe tbody tr th:only-of-type {\n",
       "        vertical-align: middle;\n",
       "    }\n",
       "\n",
       "    .dataframe tbody tr th {\n",
       "        vertical-align: top;\n",
       "    }\n",
       "\n",
       "    .dataframe thead th {\n",
       "        text-align: right;\n",
       "    }\n",
       "</style>\n",
       "<table border=\"1\" class=\"dataframe\">\n",
       "  <thead>\n",
       "    <tr style=\"text-align: right;\">\n",
       "      <th></th>\n",
       "      <th>train_id</th>\n",
       "      <th>name</th>\n",
       "      <th>item_condition_id</th>\n",
       "      <th>brand_name</th>\n",
       "      <th>price</th>\n",
       "      <th>shipping</th>\n",
       "      <th>item_description</th>\n",
       "      <th>log_price</th>\n",
       "      <th>category_main</th>\n",
       "      <th>category_sub1</th>\n",
       "      <th>category_sub2</th>\n",
       "    </tr>\n",
       "  </thead>\n",
       "  <tbody>\n",
       "    <tr>\n",
       "      <th>332088</th>\n",
       "      <td>332088</td>\n",
       "      <td>High-rise Jeggings - size 2</td>\n",
       "      <td>3</td>\n",
       "      <td>American Eagle</td>\n",
       "      <td>23.0</td>\n",
       "      <td>0</td>\n",
       "      <td>High-rise Jeggings in impeccable condition. Lo...</td>\n",
       "      <td>3.135494</td>\n",
       "      <td>Women</td>\n",
       "      <td>Jeans</td>\n",
       "      <td>Slim, Skinny</td>\n",
       "    </tr>\n",
       "    <tr>\n",
       "      <th>756162</th>\n",
       "      <td>756162</td>\n",
       "      <td>Infant enfamil Yellow</td>\n",
       "      <td>1</td>\n",
       "      <td>uknown</td>\n",
       "      <td>139.0</td>\n",
       "      <td>0</td>\n",
       "      <td>x13 cans 12.5oz Exp. 2018 Retail: [rm] each</td>\n",
       "      <td>4.934474</td>\n",
       "      <td>Kids</td>\n",
       "      <td>Other</td>\n",
       "      <td>Other</td>\n",
       "    </tr>\n",
       "    <tr>\n",
       "      <th>1461279</th>\n",
       "      <td>1461279</td>\n",
       "      <td>Starbucks brand new travel mug</td>\n",
       "      <td>1</td>\n",
       "      <td>Starbucks</td>\n",
       "      <td>21.0</td>\n",
       "      <td>0</td>\n",
       "      <td>Brand new Starbucks coffee mug . Bundle for le...</td>\n",
       "      <td>3.044522</td>\n",
       "      <td>Home</td>\n",
       "      <td>Kitchen &amp; Dining</td>\n",
       "      <td>Coffee &amp; Tea Accessories</td>\n",
       "    </tr>\n",
       "    <tr>\n",
       "      <th>236324</th>\n",
       "      <td>236324</td>\n",
       "      <td>LPS GREAT DANE</td>\n",
       "      <td>2</td>\n",
       "      <td>Littlest Pet Shop</td>\n",
       "      <td>20.0</td>\n",
       "      <td>0</td>\n",
       "      <td>lps dane! %100 authentic (you can see circle a...</td>\n",
       "      <td>2.995732</td>\n",
       "      <td>Kids</td>\n",
       "      <td>Toys</td>\n",
       "      <td>Dolls &amp; Accessories</td>\n",
       "    </tr>\n",
       "    <tr>\n",
       "      <th>287698</th>\n",
       "      <td>287698</td>\n",
       "      <td>Men's 7 1/2 Reebok CrossFit nano pumps</td>\n",
       "      <td>3</td>\n",
       "      <td>Reebok</td>\n",
       "      <td>36.0</td>\n",
       "      <td>0</td>\n",
       "      <td>Used. In good condition.</td>\n",
       "      <td>3.583519</td>\n",
       "      <td>Men</td>\n",
       "      <td>Shoes</td>\n",
       "      <td>Athletic</td>\n",
       "    </tr>\n",
       "    <tr>\n",
       "      <th>...</th>\n",
       "      <td>...</td>\n",
       "      <td>...</td>\n",
       "      <td>...</td>\n",
       "      <td>...</td>\n",
       "      <td>...</td>\n",
       "      <td>...</td>\n",
       "      <td>...</td>\n",
       "      <td>...</td>\n",
       "      <td>...</td>\n",
       "      <td>...</td>\n",
       "      <td>...</td>\n",
       "    </tr>\n",
       "    <tr>\n",
       "      <th>925456</th>\n",
       "      <td>925456</td>\n",
       "      <td>Medium Carter's fleece pjs and 6 shirts</td>\n",
       "      <td>2</td>\n",
       "      <td>Carter's</td>\n",
       "      <td>26.0</td>\n",
       "      <td>0</td>\n",
       "      <td>Carter's fleece pajama dresses from Carter's, ...</td>\n",
       "      <td>3.258097</td>\n",
       "      <td>Kids</td>\n",
       "      <td>Girls (4+)</td>\n",
       "      <td>Dresses</td>\n",
       "    </tr>\n",
       "    <tr>\n",
       "      <th>790501</th>\n",
       "      <td>790501</td>\n",
       "      <td>Got 2 b styling kit</td>\n",
       "      <td>1</td>\n",
       "      <td>uknown</td>\n",
       "      <td>26.0</td>\n",
       "      <td>0</td>\n",
       "      <td>Comes with hair dryer glued blasting freeze sp...</td>\n",
       "      <td>3.258097</td>\n",
       "      <td>Beauty</td>\n",
       "      <td>Tools &amp; Accessories</td>\n",
       "      <td>Hair Styling Tools</td>\n",
       "    </tr>\n",
       "    <tr>\n",
       "      <th>474646</th>\n",
       "      <td>474646</td>\n",
       "      <td>Bundle for cheeky tot*Keen shoes size 13</td>\n",
       "      <td>3</td>\n",
       "      <td>uknown</td>\n",
       "      <td>29.0</td>\n",
       "      <td>0</td>\n",
       "      <td>Great condition boys size 13 keen.</td>\n",
       "      <td>3.367296</td>\n",
       "      <td>Kids</td>\n",
       "      <td>Girls 2T-5T</td>\n",
       "      <td>Shoes</td>\n",
       "    </tr>\n",
       "    <tr>\n",
       "      <th>362207</th>\n",
       "      <td>362207</td>\n",
       "      <td>Xbox wireless controller blue</td>\n",
       "      <td>3</td>\n",
       "      <td>Xbox</td>\n",
       "      <td>34.0</td>\n",
       "      <td>0</td>\n",
       "      <td>Xbox wireless controller, good condition!</td>\n",
       "      <td>3.526361</td>\n",
       "      <td>Electronics</td>\n",
       "      <td>Video Games &amp; Consoles</td>\n",
       "      <td>Accessories</td>\n",
       "    </tr>\n",
       "    <tr>\n",
       "      <th>1061299</th>\n",
       "      <td>1061299</td>\n",
       "      <td>Nike Roshe One</td>\n",
       "      <td>3</td>\n",
       "      <td>Nike</td>\n",
       "      <td>46.0</td>\n",
       "      <td>0</td>\n",
       "      <td>Navy/White Sz 14</td>\n",
       "      <td>3.828641</td>\n",
       "      <td>Men</td>\n",
       "      <td>Shoes</td>\n",
       "      <td>Athletic</td>\n",
       "    </tr>\n",
       "  </tbody>\n",
       "</table>\n",
       "<p>148186 rows × 11 columns</p>\n",
       "</div>"
      ],
      "text/plain": [
       "         train_id                                      name  \\\n",
       "332088     332088               High-rise Jeggings - size 2   \n",
       "756162     756162                     Infant enfamil Yellow   \n",
       "1461279   1461279            Starbucks brand new travel mug   \n",
       "236324     236324                            LPS GREAT DANE   \n",
       "287698     287698    Men's 7 1/2 Reebok CrossFit nano pumps   \n",
       "...           ...                                       ...   \n",
       "925456     925456   Medium Carter's fleece pjs and 6 shirts   \n",
       "790501     790501                       Got 2 b styling kit   \n",
       "474646     474646  Bundle for cheeky tot*Keen shoes size 13   \n",
       "362207     362207             Xbox wireless controller blue   \n",
       "1061299   1061299                            Nike Roshe One   \n",
       "\n",
       "         item_condition_id         brand_name  price  shipping  \\\n",
       "332088                   3     American Eagle   23.0         0   \n",
       "756162                   1             uknown  139.0         0   \n",
       "1461279                  1          Starbucks   21.0         0   \n",
       "236324                   2  Littlest Pet Shop   20.0         0   \n",
       "287698                   3             Reebok   36.0         0   \n",
       "...                    ...                ...    ...       ...   \n",
       "925456                   2           Carter's   26.0         0   \n",
       "790501                   1             uknown   26.0         0   \n",
       "474646                   3             uknown   29.0         0   \n",
       "362207                   3               Xbox   34.0         0   \n",
       "1061299                  3               Nike   46.0         0   \n",
       "\n",
       "                                          item_description  log_price  \\\n",
       "332088   High-rise Jeggings in impeccable condition. Lo...   3.135494   \n",
       "756162         x13 cans 12.5oz Exp. 2018 Retail: [rm] each   4.934474   \n",
       "1461279  Brand new Starbucks coffee mug . Bundle for le...   3.044522   \n",
       "236324   lps dane! %100 authentic (you can see circle a...   2.995732   \n",
       "287698                            Used. In good condition.   3.583519   \n",
       "...                                                    ...        ...   \n",
       "925456   Carter's fleece pajama dresses from Carter's, ...   3.258097   \n",
       "790501   Comes with hair dryer glued blasting freeze sp...   3.258097   \n",
       "474646                  Great condition boys size 13 keen.   3.367296   \n",
       "362207           Xbox wireless controller, good condition!   3.526361   \n",
       "1061299                                   Navy/White Sz 14   3.828641   \n",
       "\n",
       "        category_main           category_sub1             category_sub2  \n",
       "332088          Women                   Jeans              Slim, Skinny  \n",
       "756162           Kids                   Other                     Other  \n",
       "1461279          Home        Kitchen & Dining  Coffee & Tea Accessories  \n",
       "236324           Kids                    Toys       Dolls & Accessories  \n",
       "287698            Men                   Shoes                  Athletic  \n",
       "...               ...                     ...                       ...  \n",
       "925456           Kids              Girls (4+)                   Dresses  \n",
       "790501         Beauty     Tools & Accessories        Hair Styling Tools  \n",
       "474646           Kids             Girls 2T-5T                     Shoes  \n",
       "362207    Electronics  Video Games & Consoles               Accessories  \n",
       "1061299           Men                   Shoes                  Athletic  \n",
       "\n",
       "[148186 rows x 11 columns]"
      ]
     },
     "execution_count": 29,
     "metadata": {},
     "output_type": "execute_result"
    }
   ],
   "source": [
    "train "
   ]
  },
  {
   "cell_type": "markdown",
   "metadata": {},
   "source": [
    "# Top 10 Main Category"
   ]
  },
  {
   "cell_type": "code",
   "execution_count": 30,
   "metadata": {
    "scrolled": true
   },
   "outputs": [
    {
     "data": {
      "image/png": "[encoded data removed]",
      "text/plain": [
       "<Figure size 1700x1000 with 1 Axes>"
      ]
     },
     "metadata": {},
     "output_type": "display_data"
    }
   ],
   "source": [
    "plt.figure(figsize=(17,10))\n",
    "sns.countplot(y = train['category_main'], order = train['category_main'].value_counts().index, orient = 'v')\n",
    "plt.title('Top 10 Main Categories', fontsize = 25)\n",
    "plt.ylabel('Main Category', fontsize = 20)\n",
    "plt.xlabel('Number of Items')\n",
    "plt.show()"
   ]
  },
  {
   "cell_type": "markdown",
   "metadata": {},
   "source": [
    "# Ratio of Main Category \n",
    "Women takes up about 45 percent of the main category"
   ]
  },
  {
   "cell_type": "code",
   "execution_count": 31,
   "metadata": {
    "scrolled": true
   },
   "outputs": [
    {
     "data": {
      "text/plain": [
       "Women                     0.448362\n",
       "Beauty                    0.139595\n",
       "Kids                      0.116813\n",
       "Electronics               0.082747\n",
       "Men                       0.063744\n",
       "Home                      0.045443\n",
       "Other                     0.034194\n",
       "Vintage & Collectibles    0.031258\n",
       "Handmade                  0.020629\n",
       "Sports & Outdoors         0.017215\n",
       "Name: category_main, dtype: float64"
      ]
     },
     "execution_count": 31,
     "metadata": {},
     "output_type": "execute_result"
    }
   ],
   "source": [
    "# Look at the ratio of category for items\n",
    "train['category_main'].value_counts()/len(train)"
   ]
  },
  {
   "cell_type": "markdown",
   "metadata": {},
   "source": [
    "# Brand Analysis"
   ]
  },
  {
   "cell_type": "markdown",
   "metadata": {},
   "source": [
    "There is about 3750 unique brands "
   ]
  },
  {
   "cell_type": "code",
   "execution_count": 32,
   "metadata": {},
   "outputs": [
    {
     "data": {
      "text/plain": [
       "2295"
      ]
     },
     "execution_count": 32,
     "metadata": {},
     "output_type": "execute_result"
    }
   ],
   "source": [
    "# Amount of unique brand names\n",
    "train['brand_name'].nunique()"
   ]
  },
  {
   "cell_type": "code",
   "execution_count": 33,
   "metadata": {
    "scrolled": true
   },
   "outputs": [
    {
     "data": {
      "image/png": "[encoded data removed]",
      "text/plain": [
       "<Figure size 1700x1000 with 1 Axes>"
      ]
     },
     "metadata": {},
     "output_type": "display_data"
    }
   ],
   "source": [
    "plt.figure(figsize=(17,10))\n",
    "sns.countplot(y = train['brand_name'], order = train['brand_name'].value_counts().index[1:16], orient = 'v')\n",
    "plt.title('Top 15 Brands', fontsize = 25)\n",
    "plt.ylabel('Brand', fontsize = 20)\n",
    "plt.xlabel('Number of Items')\n",
    "plt.show()"
   ]
  },
  {
   "cell_type": "markdown",
   "metadata": {},
   "source": [
    "## Top 20 Expensive Brands"
   ]
  },
  {
   "cell_type": "code",
   "execution_count": 34,
   "metadata": {},
   "outputs": [
    {
     "data": {
      "image/png": "[encoded data removed]",
      "text/plain": [
       "<Figure size 640x480 with 1 Axes>"
      ]
     },
     "metadata": {},
     "output_type": "display_data"
    }
   ],
   "source": [
    "top_20_exp_brand = pd.DataFrame(train.groupby(['brand_name'],as_index=True).std().price.sort_values(ascending=False)[0:20]).reset_index()\n",
    "ax = sns.barplot(x=\"brand_name\", y=\"price\", data=top_20_exp_brand)\n",
    "ax.set_xticklabels(ax.get_xticklabels(),rotation=90)\n",
    "ax.set_title('Top 20 Expensive Brand Distribution', fontsize=15)\n",
    "plt.show()"
   ]
  },
  {
   "cell_type": "markdown",
   "metadata": {},
   "source": [
    "# Text Processing\n",
    "***\n",
    "As with any text especially the one typed by users, it is necessary to clean the text. Because they tend to write the text in a casual way without spellcheck, etc.\n",
    "\n",
    "Let's normalize the words by:\n",
    "- Removing Punctuations\n",
    "- Removing Stop Words\n",
    "- Lowercasing the Words\n",
    "- Stemming the Words"
   ]
  },
  {
   "cell_type": "markdown",
   "metadata": {},
   "source": [
    "### List of Stop Words"
   ]
  },
  {
   "cell_type": "code",
   "execution_count": 35,
   "metadata": {},
   "outputs": [
    {
     "data": {
      "text/plain": [
       "['i',\n",
       " 'me',\n",
       " 'my',\n",
       " 'myself',\n",
       " 'we',\n",
       " 'our',\n",
       " 'ours',\n",
       " 'ourselves',\n",
       " 'you',\n",
       " \"you're\",\n",
       " \"you've\",\n",
       " \"you'll\",\n",
       " \"you'd\",\n",
       " 'your',\n",
       " 'yours',\n",
       " 'yourself',\n",
       " 'yourselves',\n",
       " 'he',\n",
       " 'him',\n",
       " 'his',\n",
       " 'himself',\n",
       " 'she',\n",
       " \"she's\",\n",
       " 'her',\n",
       " 'hers',\n",
       " 'herself',\n",
       " 'it',\n",
       " \"it's\",\n",
       " 'its',\n",
       " 'itself',\n",
       " 'they',\n",
       " 'them',\n",
       " 'their',\n",
       " 'theirs',\n",
       " 'themselves',\n",
       " 'what',\n",
       " 'which',\n",
       " 'who',\n",
       " 'whom',\n",
       " 'this',\n",
       " 'that',\n",
       " \"that'll\",\n",
       " 'these',\n",
       " 'those',\n",
       " 'am',\n",
       " 'is',\n",
       " 'are',\n",
       " 'was',\n",
       " 'were',\n",
       " 'be',\n",
       " 'been',\n",
       " 'being',\n",
       " 'have',\n",
       " 'has',\n",
       " 'had',\n",
       " 'having',\n",
       " 'do',\n",
       " 'does',\n",
       " 'did',\n",
       " 'doing',\n",
       " 'a',\n",
       " 'an',\n",
       " 'the',\n",
       " 'and',\n",
       " 'but',\n",
       " 'if',\n",
       " 'or',\n",
       " 'because',\n",
       " 'as',\n",
       " 'until',\n",
       " 'while',\n",
       " 'of',\n",
       " 'at',\n",
       " 'by',\n",
       " 'for',\n",
       " 'with',\n",
       " 'about',\n",
       " 'against',\n",
       " 'between',\n",
       " 'into',\n",
       " 'through',\n",
       " 'during',\n",
       " 'before',\n",
       " 'after',\n",
       " 'above',\n",
       " 'below',\n",
       " 'to',\n",
       " 'from',\n",
       " 'up',\n",
       " 'down',\n",
       " 'in',\n",
       " 'out',\n",
       " 'on',\n",
       " 'off',\n",
       " 'over',\n",
       " 'under',\n",
       " 'again',\n",
       " 'further',\n",
       " 'then',\n",
       " 'once',\n",
       " 'here',\n",
       " 'there',\n",
       " 'when',\n",
       " 'where',\n",
       " 'why',\n",
       " 'how',\n",
       " 'all',\n",
       " 'any',\n",
       " 'both',\n",
       " 'each',\n",
       " 'few',\n",
       " 'more',\n",
       " 'most',\n",
       " 'other',\n",
       " 'some',\n",
       " 'such',\n",
       " 'no',\n",
       " 'nor',\n",
       " 'not',\n",
       " 'only',\n",
       " 'own',\n",
       " 'same',\n",
       " 'so',\n",
       " 'than',\n",
       " 'too',\n",
       " 'very',\n",
       " 's',\n",
       " 't',\n",
       " 'can',\n",
       " 'will',\n",
       " 'just',\n",
       " 'don',\n",
       " \"don't\",\n",
       " 'should',\n",
       " \"should've\",\n",
       " 'now',\n",
       " 'd',\n",
       " 'll',\n",
       " 'm',\n",
       " 'o',\n",
       " 're',\n",
       " 've',\n",
       " 'y',\n",
       " 'ain',\n",
       " 'aren',\n",
       " \"aren't\",\n",
       " 'couldn',\n",
       " \"couldn't\",\n",
       " 'didn',\n",
       " \"didn't\",\n",
       " 'doesn',\n",
       " \"doesn't\",\n",
       " 'hadn',\n",
       " \"hadn't\",\n",
       " 'hasn',\n",
       " \"hasn't\",\n",
       " 'haven',\n",
       " \"haven't\",\n",
       " 'isn',\n",
       " \"isn't\",\n",
       " 'ma',\n",
       " 'mightn',\n",
       " \"mightn't\",\n",
       " 'mustn',\n",
       " \"mustn't\",\n",
       " 'needn',\n",
       " \"needn't\",\n",
       " 'shan',\n",
       " \"shan't\",\n",
       " 'shouldn',\n",
       " \"shouldn't\",\n",
       " 'wasn',\n",
       " \"wasn't\",\n",
       " 'weren',\n",
       " \"weren't\",\n",
       " 'won',\n",
       " \"won't\",\n",
       " 'wouldn',\n",
       " \"wouldn't\"]"
      ]
     },
     "execution_count": 35,
     "metadata": {},
     "output_type": "execute_result"
    }
   ],
   "source": [
    "# Examine list of stop words\n",
    "stop = stopwords.words('english')\n",
    "stop"
   ]
  },
  {
   "cell_type": "markdown",
   "metadata": {},
   "source": [
    "### Create Function to clean up the text"
   ]
  },
  {
   "cell_type": "code",
   "execution_count": 18,
   "metadata": {},
   "outputs": [],
   "source": [
    "def clean_text(text):\n",
    "    '''\n",
    "    Performs cleaning of the text.\n",
    "    '''\n",
    "    # Removes next line characters if any\n",
    "    text = re.sub(\"\\n\",\"\",text)\n",
    "\n",
    "    # Removes any special characters\n",
    "    text = re.sub(r'\\W+', ' ', text)\n",
    "    \n",
    "    # Tokenize the text\n",
    "    text = word_tokenize(text)\n",
    "    \n",
    "    stop =stopwords.words('english')\n",
    "    \n",
    "    # Removes stopwords and converts into lower-case\n",
    "    text = ' '.join([item.lower() for item in text if item not in stop])\n",
    "    return text"
   ]
  },
  {
   "cell_type": "markdown",
   "metadata": {},
   "source": [
    "### Cleaning up text"
   ]
  },
  {
   "cell_type": "code",
   "execution_count": 19,
   "metadata": {},
   "outputs": [
    {
     "name": "stderr",
     "output_type": "stream",
     "text": [
      "C:\\Users\\sabareesh\\Anaconda\\lib\\site-packages\\ipykernel_launcher.py:9: SettingWithCopyWarning: \n",
      "A value is trying to be set on a copy of a slice from a DataFrame.\n",
      "Try using .loc[row_indexer,col_indexer] = value instead\n",
      "\n",
      "See the caveats in the documentation: https://pandas.pydata.org/pandas-docs/stable/user_guide/indexing.html#returning-a-view-versus-a-copy\n",
      "  if __name__ == '__main__':\n",
      "C:\\Users\\sabareesh\\Anaconda\\lib\\site-packages\\ipykernel_launcher.py:10: SettingWithCopyWarning: \n",
      "A value is trying to be set on a copy of a slice from a DataFrame.\n",
      "Try using .loc[row_indexer,col_indexer] = value instead\n",
      "\n",
      "See the caveats in the documentation: https://pandas.pydata.org/pandas-docs/stable/user_guide/indexing.html#returning-a-view-versus-a-copy\n",
      "  # Remove the CWD from sys.path while we load stuff.\n",
      "C:\\Users\\sabareesh\\Anaconda\\lib\\site-packages\\ipykernel_launcher.py:13: SettingWithCopyWarning: \n",
      "A value is trying to be set on a copy of a slice from a DataFrame.\n",
      "Try using .loc[row_indexer,col_indexer] = value instead\n",
      "\n",
      "See the caveats in the documentation: https://pandas.pydata.org/pandas-docs/stable/user_guide/indexing.html#returning-a-view-versus-a-copy\n",
      "  del sys.path[0]\n",
      "C:\\Users\\sabareesh\\Anaconda\\lib\\site-packages\\ipykernel_launcher.py:14: SettingWithCopyWarning: \n",
      "A value is trying to be set on a copy of a slice from a DataFrame.\n",
      "Try using .loc[row_indexer,col_indexer] = value instead\n",
      "\n",
      "See the caveats in the documentation: https://pandas.pydata.org/pandas-docs/stable/user_guide/indexing.html#returning-a-view-versus-a-copy\n",
      "  \n"
     ]
    }
   ],
   "source": [
    "# Stem the Words\n",
    "porter = PorterStemmer()\n",
    "\n",
    "train['item_description'] = train['item_description'].apply(clean_text)\n",
    "train['item_description'] = train['item_description'].apply(porter.stem)\n",
    "\n",
    "\n",
    "train['name'] = train['name'].apply(clean_text)\n",
    "train['name'] = train['name'].apply(porter.stem)"
   ]
  },
  {
   "cell_type": "markdown",
   "metadata": {},
   "source": [
    "# Feature Extraction with Text\n",
    "***\n",
    "## Word Frequency Weights\n",
    "\n",
    "Since most ML models don't recognise text, we convert them into numbers and each word is assumed to be one vector. The three most common methods of assigning these feature values are:\n",
    "- **Frequency Weight (Count Vectorizer):**\n",
    "Returns a vector with counting the number of times each words has appeared in the text instance/document.  \n",
    "- **TF-IDF Weight:**\n",
    "Calculates a number proportional to the number of times a word appears in the text instance/document and inversely proportional to the number of times it appears in the document.\n",
    "- **Binary (Label Binarizer):**\n",
    "Returns a vector telling just whether the word appeared or not.\n"
   ]
  },
  {
   "cell_type": "markdown",
   "metadata": {},
   "source": [
    "# Feature Engineering\n",
    "***\n",
    "# CountVectorizer"
   ]
  },
  {
   "cell_type": "code",
   "execution_count": 37,
   "metadata": {},
   "outputs": [],
   "source": [
    "# CountVectorizer - name \n",
    "# While the categories seem to be unique, the name is user input and hence has a lot of variation. Ex: Shirt and Red Shirt\n",
    "# are not completely independent. So, we will use CountVectorizer for name.\n",
    "\n",
    "cv = CountVectorizer(min_df=10, ngram_range=(1,2))\n",
    "X_name = cv.fit_transform(train['name'])"
   ]
  },
  {
   "cell_type": "markdown",
   "metadata": {},
   "source": [
    "# LabelBinarizer"
   ]
  },
  {
   "cell_type": "code",
   "execution_count": 38,
   "metadata": {},
   "outputs": [],
   "source": [
    "# Apply LabelBinarizer to brand names and category names as they tend to be unique.\n",
    "\n",
    "lb = LabelBinarizer(sparse_output=True)\n",
    "X_brand = lb.fit_transform(train['brand_name'])\n",
    "X_main = lb.fit_transform(train['category_main'])\n",
    "X_sub1 = lb.fit_transform(train['category_sub1'])\n",
    "X_sub2 = lb.fit_transform(train['category_sub2'])"
   ]
  },
  {
   "cell_type": "code",
   "execution_count": 39,
   "metadata": {},
   "outputs": [
    {
     "name": "stdout",
     "output_type": "stream",
     "text": [
      "Item Brand Shape: (74076, 1815)\n"
     ]
    }
   ],
   "source": [
    "print(\"Item Brand Shape: \" + str(X_brand.shape))"
   ]
  },
  {
   "cell_type": "markdown",
   "metadata": {},
   "source": [
    "# Get_Dummies"
   ]
  },
  {
   "cell_type": "code",
   "execution_count": 40,
   "metadata": {},
   "outputs": [],
   "source": [
    "# item_condition_id is a ordinal variable and cannot be considered numeric. So, apply get_dummies to \n",
    "# \"item_condition_id\" and then convert into a CSR Matrix\n",
    "X_dummies = csr_matrix(pd.get_dummies(train[['item_condition_id']], sparse=True, drop_first=True).values)"
   ]
  },
  {
   "cell_type": "markdown",
   "metadata": {},
   "source": [
    "All the categories till now like Brand, name and categories are always less than a sentence long and there is no scope for repetition. The decsription on the other hand might be long and will have repetitive words throughout. So, it's better to use **TF-IDF** for this column.\n",
    "\n",
    "\n",
    "# TFIDF\n",
    "\n",
    "**TF Term Frequency** proportional to the number of times a term appears on the instance. \n",
    "\n",
    "**IDF Inverse Document Frequency** inversely proportional to the number of times a text appears throughout the corpus.\n",
    "\n",
    "We essentially multiply both the above terms to assign a value to a word."
   ]
  },
  {
   "cell_type": "code",
   "execution_count": 41,
   "metadata": {},
   "outputs": [],
   "source": [
    "# Perform a TFIDF Transformation of the item description with the top 55000 features and has an n-gram range of 1-2\n",
    "tv = TfidfVectorizer(max_features=55000, ngram_range=(1, 2))\n",
    "X_desc = tv.fit_transform(train['item_description'])"
   ]
  },
  {
   "cell_type": "code",
   "execution_count": 42,
   "metadata": {},
   "outputs": [
    {
     "name": "stdout",
     "output_type": "stream",
     "text": [
      "Item Description Shape: (74076, 55000)\n"
     ]
    }
   ],
   "source": [
    "print(\"Item Description Shape: \" + str(X_desc.shape))"
   ]
  },
  {
   "cell_type": "markdown",
   "metadata": {},
   "source": [
    "### TFIDF Weights value check"
   ]
  },
  {
   "cell_type": "code",
   "execution_count": 43,
   "metadata": {},
   "outputs": [
    {
     "data": {
      "text/plain": [
       "[('07 lc', 11.519713191179841),\n",
       " ('13oz bottle', 11.519713191179841),\n",
       " ('2016 leaf', 11.519713191179841),\n",
       " ('6x9 standard', 11.519713191179841),\n",
       " ('_____', 11.519713191179841),\n",
       " ('_______', 11.519713191179841),\n",
       " ('________', 11.519713191179841),\n",
       " ('active spacedye', 11.519713191179841),\n",
       " ('babe ruth', 11.519713191179841),\n",
       " ('bath seat', 11.519713191179841),\n",
       " ('bedhead', 11.519713191179841),\n",
       " ('bottle garnier', 11.519713191179841),\n",
       " ('bristles full', 11.519713191179841),\n",
       " ('brush app', 11.519713191179841),\n",
       " ('brush bristles', 11.519713191179841),\n",
       " ('cards added', 11.519713191179841),\n",
       " ('career achievements', 11.519713191179841),\n",
       " ('caty', 11.519713191179841),\n",
       " ('clear proof', 11.519713191179841),\n",
       " ('concert promotion', 11.519713191179841)]"
      ]
     },
     "execution_count": 43,
     "metadata": {},
     "output_type": "execute_result"
    }
   ],
   "source": [
    "tfidf = dict(zip(tv.get_feature_names(), tv.idf_))\n",
    "\n",
    "sorted(tfidf.items(), key=lambda s: s[1], reverse=True)[:20]"
   ]
  },
  {
   "cell_type": "markdown",
   "metadata": {},
   "source": [
    "Frankly speaking, this list doesn't make much sense because we are weighing based on the rarity of the word alone and not necessarily on it's dependence with weight."
   ]
  },
  {
   "cell_type": "code",
   "execution_count": 44,
   "metadata": {},
   "outputs": [
    {
     "data": {
      "text/plain": [
       "[('new', 2.1700457539825586),\n",
       " ('size', 2.337926626621719),\n",
       " ('brand', 2.7303577389698592),\n",
       " ('brand new', 2.846285777732967),\n",
       " ('free', 2.9084833578372202),\n",
       " ('no', 2.9807585079820904),\n",
       " ('condition', 3.0587729413144014),\n",
       " ('worn', 3.095732381485782),\n",
       " ('never', 3.2788006494909414),\n",
       " ('used', 3.281308405045264),\n",
       " ('great', 3.3479724379655966),\n",
       " ('black', 3.3949701707942728),\n",
       " ('shipping', 3.408985608205351),\n",
       " ('rm', 3.4091357696291635),\n",
       " ('price', 3.464714202117857),\n",
       " ('ship', 3.5181906751927934),\n",
       " ('color', 3.601266504902064),\n",
       " ('bundle', 3.634760245420027),\n",
       " ('like', 3.6453543664499595),\n",
       " ('good', 3.68591488888087)]"
      ]
     },
     "execution_count": 44,
     "metadata": {},
     "output_type": "execute_result"
    }
   ],
   "source": [
    "sorted(tfidf.items(), key=lambda s: s[1])[:20]"
   ]
  },
  {
   "cell_type": "markdown",
   "metadata": {},
   "source": [
    "While the words like 'new', 'brand' are repetitive, these might hold more value to the price. So, tf-idf is not necessarily the most useful feature extraction tool for this problem. We will see later if this affects the solution."
   ]
  },
  {
   "cell_type": "markdown",
   "metadata": {},
   "source": [
    "# Merge all the features together"
   ]
  },
  {
   "cell_type": "code",
   "execution_count": 20,
   "metadata": {},
   "outputs": [],
   "source": [
    "# Making a pipeline\n",
    "def feature_extraction_1(data):\n",
    "    cv = CountVectorizer(min_df=10, ngram_range=(1,2))\n",
    "    X_name = cv.fit_transform(data['name'])\n",
    "    \n",
    "    ohe = OneHotEncoder(drop='first')\n",
    "    X_misc = ohe.fit_transform(data[['brand_name', 'category_main', 'category_sub1', 'category_sub2']])\n",
    "    \n",
    "    X_dummies = csr_matrix(pd.get_dummies(data[['shipping', 'item_condition_id']], sparse=True, drop_first=True).values)\n",
    "    \n",
    "    tv = TfidfVectorizer(max_features=55000, ngram_range=(1, 2))\n",
    "    X_desc = tv.fit_transform(data['item_description'])\n",
    "    \n",
    "    return hstack((X_name, X_dummies, X_misc, X_desc)).tocsr()\n",
    "\n",
    "def feature_extraction_2(data):\n",
    "\n",
    "    cv = CountVectorizer(min_df=10, ngram_range=(1,2))\n",
    "    cols = ['brand_name', 'category_main', 'category_sub1', 'category_sub2', 'name', 'item_description']\n",
    "    X_comb = cv.fit_transform(data[cols].apply(lambda row: ' '.join(row.values.astype(str)), axis=1))\n",
    "    \n",
    "    X_dummies = csr_matrix(pd.get_dummies(data[['shipping', 'item_condition_id']], sparse=True, drop_first=True).values)\n",
    "        \n",
    "    return hstack((X_comb, X_dummies)).tocsr().astype(np.float64)\n",
    "\n"
   ]
  },
  {
   "cell_type": "code",
   "execution_count": 22,
   "metadata": {},
   "outputs": [],
   "source": [
    "def rmsle(y, pred): return np.sqrt(mean_squared_error(y, pred))\n",
    "\n",
    "train_features_2 = feature_extraction_2(train)\n",
    "train_features_1 = feature_extraction_1(train)"
   ]
  },
  {
   "cell_type": "markdown",
   "metadata": {},
   "source": [
    "## Ridge Regression"
   ]
  },
  {
   "cell_type": "code",
   "execution_count": 23,
   "metadata": {},
   "outputs": [
    {
     "name": "stdout",
     "output_type": "stream",
     "text": [
      "Ridge Training RMSLE: 0.40397\n",
      "Ridge Validation RMSLE: 0.57226\n",
      "Ridge Training RMSLE: 0.40196\n",
      "Ridge Validation RMSLE: 0.57333\n",
      "Ridge Training RMSLE: 0.39932\n",
      "Ridge Validation RMSLE: 0.57833\n",
      "Wall time: 2min 10s\n"
     ]
    }
   ],
   "source": [
    "%%time\n",
    "# Create 3-Fold CV\n",
    "cv = KFold(n_splits=3, shuffle=True, random_state=42)\n",
    "for train_ids, valid_ids in cv.split(train_features_2):\n",
    "    # Define LGBM Model\n",
    "    model_ridge = Ridge(solver = \"sag\", fit_intercept=True, random_state=42)\n",
    "    \n",
    "    # Fit LGBM Model\n",
    "    model_ridge.fit(train_features_2[train_ids], train.iloc[train_ids]['log_price'])\n",
    "    \n",
    "    # Predict & Evaluate Training Score\n",
    "    y_pred_train = model_ridge.predict(train_features_2[train_ids])\n",
    "    rmsle_train = rmsle(y_pred_train, train.iloc[train_ids]['log_price'])\n",
    "    \n",
    "    # Predict & Evaluate Validation Score\n",
    "    y_pred_valid = model_ridge.predict(train_features_2[valid_ids])\n",
    "    rmsle_valid = rmsle(y_pred_valid, train.iloc[valid_ids]['log_price'])\n",
    "    \n",
    "    print('Ridge Training RMSLE: {:.5f}'.format(rmsle_train))\n",
    "    print('Ridge Validation RMSLE: {:.5f}'.format(rmsle_valid))"
   ]
  },
  {
   "cell_type": "markdown",
   "metadata": {},
   "source": [
    "## LGBM Model"
   ]
  },
  {
   "cell_type": "code",
   "execution_count": 207,
   "metadata": {},
   "outputs": [
    {
     "name": "stdout",
     "output_type": "stream",
     "text": [
      "LGBM Training RMSLE: 0.46442\n",
      "LGBM Validation RMSLE: 0.54350\n",
      "LGBM Training RMSLE: 0.46754\n",
      "LGBM Validation RMSLE: 0.54315\n",
      "LGBM Training RMSLE: 0.46733\n",
      "LGBM Validation RMSLE: 0.54297\n"
     ]
    }
   ],
   "source": [
    "# Create 3-Fold CV\n",
    "cv = KFold(n_splits=3, shuffle=True, random_state=42)\n",
    "for train_ids, valid_ids in cv.split(train_features_2):\n",
    "    # Define LGBM Model\n",
    "    model_lgb = lgb.LGBMRegressor(num_leaves=31, n_jobs=-1, learning_rate=0.1, n_estimators=500, random_state=42)\n",
    "    \n",
    "    # Fit LGBM Model\n",
    "    model_lgb.fit(train_features_2[train_ids], train.iloc[train_ids]['log_price'])\n",
    "    \n",
    "    # Predict & Evaluate Training Score\n",
    "    y_pred_train = model_lgb.predict(train_features_2[train_ids])\n",
    "    rmsle_train = rmsle(y_pred_train, train.iloc[train_ids]['log_price'])\n",
    "    \n",
    "    # Predict & Evaluate Validation Score\n",
    "    y_pred_valid = model_lgb.predict(train_features_2[valid_ids])\n",
    "    rmsle_valid = rmsle(y_pred_valid, train.iloc[valid_ids]['log_price'])\n",
    "\n",
    "    print('LGBM Training RMSLE: {:.5f}'.format(rmsle_train))\n",
    "    print('LGBM Validation RMSLE: {:.5f}'.format(rmsle_valid))"
   ]
  },
  {
   "cell_type": "code",
   "execution_count": 24,
   "metadata": {},
   "outputs": [],
   "source": [
    "train_features_1 = feature_extraction_1(train)"
   ]
  },
  {
   "cell_type": "code",
   "execution_count": 25,
   "metadata": {},
   "outputs": [
    {
     "data": {
      "text/plain": [
       "TruncatedSVD(algorithm='arpack', n_components=100, n_iter=5, random_state=None,\n",
       "             tol=0.0)"
      ]
     },
     "execution_count": 25,
     "metadata": {},
     "output_type": "execute_result"
    }
   ],
   "source": [
    "n_comp = 100\n",
    "svd_obj = TruncatedSVD(n_components=n_comp, algorithm='arpack')\n",
    "svd_obj.fit(train_features_1)"
   ]
  },
  {
   "cell_type": "code",
   "execution_count": 26,
   "metadata": {},
   "outputs": [],
   "source": [
    "train_truncated = svd_obj.transform(train_features_1)"
   ]
  },
  {
   "cell_type": "code",
   "execution_count": 27,
   "metadata": {},
   "outputs": [],
   "source": [
    "train_ids, valid_ids = train_test_split(np.arange(len(train)), test_size=0.25)"
   ]
  },
  {
   "cell_type": "markdown",
   "metadata": {},
   "source": [
    "## XGBoost model"
   ]
  },
  {
   "cell_type": "code",
   "execution_count": 29,
   "metadata": {},
   "outputs": [
    {
     "name": "stdout",
     "output_type": "stream",
     "text": [
      "[10:50:28] WARNING: C:/Jenkins/workspace/xgboost-win64_release_0.90/src/objective/regression_obj.cu:152: reg:linear is now deprecated in favor of reg:squarederror.\n",
      "XGBoost Training RMSLE: 0.65043\n",
      "XGBoost Validation RMSLE: 0.65643\n"
     ]
    }
   ],
   "source": [
    "model_xgb = XGBRegressor()\n",
    "\n",
    "# Fit XGBoost Model\n",
    "model_xgb.fit(train_truncated[train_ids], train.iloc[train_ids]['log_price'])\n",
    "\n",
    "# Predict & Evaluate Training Score\n",
    "y_pred_train = model_xgb.predict(train_truncated[train_ids])\n",
    "rmsle_train = rmsle(y_pred_train, train.iloc[train_ids]['log_price'])\n",
    "\n",
    "# Predict & Evaluate Validation Score\n",
    "y_pred_valid = model_xgb.predict(train_truncated[valid_ids])\n",
    "rmsle_valid = rmsle(y_pred_valid, train.iloc[valid_ids]['log_price'])\n",
    "\n",
    "print('XGBoost Training RMSLE: {:.5f}'.format(rmsle_train))\n",
    "print('XGBoost Validation RMSLE: {:.5f}'.format(rmsle_valid))"
   ]
  },
  {
   "cell_type": "markdown",
   "metadata": {},
   "source": [
    "# Ensemble Model\n",
    "\n",
    "## LGBM + Ridge + XGBoost\n",
    "\n",
    "## Making pipelines"
   ]
  },
  {
   "cell_type": "code",
   "execution_count": 41,
   "metadata": {},
   "outputs": [],
   "source": [
    "class DataFrameSlicer(TransformerMixin):\n",
    "\n",
    "    def __init__(self, column):\n",
    "        self.column = column\n",
    "\n",
    "    def fit(self, X, y=None):\n",
    "        return self\n",
    "\n",
    "    def transform(self, X, y=None):\n",
    "        return X[self.column]\n",
    "    \n",
    "ds1_pipe_1 = make_pipeline(\n",
    "       DataFrameSlicer('name'), \n",
    "       CountVectorizer(min_df=10, ngram_range=(1,2))\n",
    ")\n",
    "\n",
    "ds1_pipe_2 = make_pipeline(\n",
    "       DataFrameSlicer(['brand_name', 'category_main', 'category_sub1', 'category_sub2', 'shipping', 'item_condition_id']), \n",
    "       OneHotEncoder(handle_unknown='ignore')\n",
    ")\n",
    "\n",
    "ds1_pipe_3 = make_pipeline(\n",
    "       DataFrameSlicer('item_description'), \n",
    "       TfidfVectorizer(max_features=55000, ngram_range=(1, 2))\n",
    ")\n",
    "\n",
    "feature_union_1 = make_union(ds1_pipe_1, ds1_pipe_2, ds1_pipe_3)"
   ]
  },
  {
   "cell_type": "code",
   "execution_count": 42,
   "metadata": {},
   "outputs": [],
   "source": [
    "class Combiner(TransformerMixin):\n",
    "\n",
    "    def __init__(self):\n",
    "        pass\n",
    "\n",
    "    def fit(self, X, y=None):\n",
    "        return self\n",
    "\n",
    "    def transform(self, X, y=None):\n",
    "        return X.apply(lambda row: ' '.join(row.values.astype(str)), axis=1)\n",
    "    \n",
    "ds2_pipe_1 = make_pipeline(\n",
    "       DataFrameSlicer(['brand_name', 'category_main', 'category_sub1', 'category_sub2', 'name', 'item_description']), \n",
    "       Combiner(),\n",
    "       CountVectorizer(min_df=10, ngram_range=(1,2))\n",
    ")\n",
    "\n",
    "ds2_pipe_2 = make_pipeline(\n",
    "       DataFrameSlicer(['shipping', 'item_condition_id']), \n",
    "       OneHotEncoder(categories='auto', handle_unknown='ignore')\n",
    ")\n",
    "\n",
    "feature_union_2 = make_union(ds2_pipe_1, ds2_pipe_2)"
   ]
  },
  {
   "cell_type": "code",
   "execution_count": 43,
   "metadata": {},
   "outputs": [],
   "source": [
    "train, test = train_test_split(train, test_size=0.25)\n",
    "\n",
    "train_features_1 = feature_union_1.fit_transform(train)\n",
    "test_features_1 = feature_union_1.transform(test)"
   ]
  },
  {
   "cell_type": "code",
   "execution_count": 44,
   "metadata": {},
   "outputs": [],
   "source": [
    "train_features_2 = feature_union_1.fit_transform(train)\n",
    "test_features_2 = feature_union_1.transform(test)"
   ]
  },
  {
   "cell_type": "code",
   "execution_count": 46,
   "metadata": {},
   "outputs": [
    {
     "name": "stdout",
     "output_type": "stream",
     "text": [
      "Ridge Training RMSLE: 0.40478\n",
      "Ridge Testing RMSLE: 0.53402\n"
     ]
    }
   ],
   "source": [
    "model_ridge = Ridge(solver = \"sag\", fit_intercept=True, random_state=42)\n",
    "\n",
    "# Fit Ridge Model\n",
    "model_ridge.fit(train_features_2, train['log_price'])\n",
    "\n",
    "# Predict & Evaluate Training Score\n",
    "y_pred_train_ridge = model_ridge.predict(train_features_2)\n",
    "rmsle_train = rmsle(y_pred_train_ridge, train['log_price'])\n",
    "\n",
    "# Predict & Evaluate Validation Score\n",
    "y_pred_test_ridge = model_ridge.predict(test_features_2)\n",
    "rmsle_test = rmsle(y_pred_test_ridge, test['log_price'])\n",
    "\n",
    "print('Ridge Training RMSLE: {:.5f}'.format(rmsle_train))\n",
    "print('Ridge Testing RMSLE: {:.5f}'.format(rmsle_test))"
   ]
  },
  {
   "cell_type": "code",
   "execution_count": 47,
   "metadata": {},
   "outputs": [
    {
     "name": "stdout",
     "output_type": "stream",
     "text": [
      "LGBM Training RMSLE: 0.48880\n",
      "LGBM Testing RMSLE: 0.52887\n"
     ]
    }
   ],
   "source": [
    "model_lgb = lgb.LGBMRegressor(num_leaves=31, n_jobs=-1, learning_rate=0.1, n_estimators=500, random_state=42)\n",
    "    \n",
    "# Fit LGBM Model\n",
    "model_lgb.fit(train_features_2, train['log_price'])\n",
    "\n",
    "# Predict & Evaluate Training Score\n",
    "y_pred_train_lgbm = model_lgb.predict(train_features_2)\n",
    "rmsle_train = rmsle(y_pred_train_lgbm, train['log_price'])\n",
    "\n",
    "# Predict & Evaluate Validation Score\n",
    "y_pred_test_lgbm = model_lgb.predict(test_features_2)\n",
    "rmsle_test = rmsle(y_pred_test_lgbm, test['log_price'])\n",
    "\n",
    "print('LGBM Training RMSLE: {:.5f}'.format(rmsle_train))\n",
    "print('LGBM Testing RMSLE: {:.5f}'.format(rmsle_test))"
   ]
  },
  {
   "cell_type": "code",
   "execution_count": 48,
   "metadata": {},
   "outputs": [],
   "source": [
    "n_comp = 100\n",
    "svd_obj = TruncatedSVD(n_components=n_comp, algorithm='arpack')\n",
    "svd_obj.fit(train_features_1)\n",
    "\n",
    "train_truncated = svd_obj.transform(train_features_1)\n",
    "test_truncated = svd_obj.transform(test_features_1)"
   ]
  },
  {
   "cell_type": "code",
   "execution_count": 50,
   "metadata": {},
   "outputs": [
    {
     "name": "stdout",
     "output_type": "stream",
     "text": [
      "XGBoost Training RMSLE: 0.64743\n",
      "XGBoost Testing RMSLE: 0.65065\n"
     ]
    }
   ],
   "source": [
    "model_xgb = XGBRegressor()\n",
    "\n",
    "# Fit XGBoost Model\n",
    "model_xgb.fit(train_truncated, train['log_price'])\n",
    "\n",
    "# Predict & Evaluate Training Score\n",
    "y_pred_train_xgb = model_xgb.predict(train_truncated)\n",
    "rmsle_train = rmsle(y_pred_train_xgb, train['log_price'])\n",
    "\n",
    "# Predict & Evaluate Validation Score\n",
    "y_pred_test_xgb = model_xgb.predict(test_truncated)\n",
    "rmsle_test = rmsle(y_pred_test_xgb, test['log_price'])\n",
    "\n",
    "print('XGBoost Training RMSLE: {:.5f}'.format(rmsle_train))\n",
    "print('XGBoost Testing RMSLE: {:.5f}'.format(rmsle_test))"
   ]
  },
  {
   "cell_type": "markdown",
   "metadata": {},
   "source": [
    "## Ensemble Predictions"
   ]
  },
  {
   "cell_type": "code",
   "execution_count": 53,
   "metadata": {},
   "outputs": [
    {
     "name": "stdout",
     "output_type": "stream",
     "text": [
      "Ensemble Training RMSLE: 0.47862\n",
      "Ensemble Testing RMSLE: 0.53156\n"
     ]
    }
   ],
   "source": [
    "ensemble_y_pred_train = (y_pred_train_xgb+y_pred_train_lgbm+y_pred_train_ridge)/3\n",
    "ensemble_y_pred_test = (y_pred_test_xgb+y_pred_test_lgbm+y_pred_test_ridge)/3\n",
    "\n",
    "rmsle_train = rmsle(ensemble_y_pred_train, train['log_price'])\n",
    "rmsle_test = rmsle(ensemble_y_pred_test, test['log_price'])\n",
    "\n",
    "print('Ensemble Training RMSLE: {:.5f}'.format(rmsle_train))\n",
    "print('Ensemble Testing RMSLE: {:.5f}'.format(rmsle_test))"
   ]
  }
 ],
 "metadata": {
  "kernelspec": {
   "display_name": "Python 3",
   "language": "python",
   "name": "python3"
  },
  "language_info": {
   "codemirror_mode": {
    "name": "ipython",
    "version": 3
   },
   "file_extension": ".py",
   "mimetype": "text/x-python",
   "name": "python",
   "nbconvert_exporter": "python",
   "pygments_lexer": "ipython3",
   "version": "3.7.4"
  }
 },
 "nbformat": 4,
 "nbformat_minor": 2
}
