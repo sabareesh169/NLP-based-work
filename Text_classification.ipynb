{
 "cells": [
  {
   "cell_type": "markdown",
   "metadata": {},
   "source": [
    "<img src=\"https://m.files.bbci.co.uk/modules/bbc-morph-news-waf-page-meta/2.5.2/bbc_news_logo.png\"/>\n",
    "\n",
    "# BBC Article topic and theme identification\n",
    "***\n",
    "\n",
    "The target of this program is to identify the G20 countries discussed about in each article. This may be directly talking about the country or indirect references. For example, if the article mentions White House or Donald Trump, we should identify that the article is referencing USA. \n",
    "\n",
    "The next step is to further identify and group the articles into themes.\n",
    "\n",
    "### Useful information\n",
    "\n",
    "The G20 is made up of 19 countries and the European Union. The 19 countries are Argentina, Australia, Brazil, Canada, China, Germany, France, India, Indonesia, Italy, Japan, Mexico, the Russian Federation, Saudi Arabia, South Africa, South Korea, Turkey, the UK and the US."
   ]
  },
  {
   "cell_type": "markdown",
   "metadata": {},
   "source": [
    "# Table of Content\n",
    "***\n",
    "### Getting started:\n",
    "- Define the objective\n",
    "\n",
    "- Import necessary packages\n",
    "\n",
    "- Import the necessary data\n",
    "\n",
    "### Text Processing:\n",
    "- Normalizing Words (Removing punctuation, stop words)\n",
    "\n",
    "### Extraction information with Text:\n",
    "\n",
    "- Entity extraction\n",
    "\n",
    "- CountVectorizer, TF-IDF, LabelBinarizer\n",
    "\n",
    "- Search for direct country mentions\n",
    "\n",
    "- Get any indirect references from Wiki search on entities\n",
    "\n",
    "- Consolidating the information\n",
    "\n",
    "### Theme Extraction\n",
    "\n",
    "- Vectorize the data according to TF-IDF\n",
    "\n",
    "- Aply k-means clustering with different k to find optimal value\n",
    "\n",
    "- Inference of top n categories\n"
   ]
  },
  {
   "cell_type": "markdown",
   "metadata": {},
   "source": [
    "## Importing Relavant Packages"
   ]
  },
  {
   "cell_type": "code",
   "execution_count": 212,
   "metadata": {},
   "outputs": [],
   "source": [
    "# General Packages\n",
    "import numpy as np\n",
    "import pandas as pd\n",
    "from pandas import DataFrame\n",
    "import re\n",
    "import itertools\n",
    "from matplotlib import pyplot as plt\n",
    "import wikipedia\n",
    "\n",
    "# NLP packages\n",
    "from nltk.corpus import stopwords\n",
    "import spacy\n",
    "import en_core_web_sm\n",
    "nlp = en_core_web_sm.load()\n",
    "from nltk.tokenize import word_tokenize\n",
    "import nltk\n",
    "from sklearn.feature_extraction.text import TfidfVectorizer\n",
    "\n",
    "# Model building packages\n",
    "import warnings\n",
    "warnings.filterwarnings(\"ignore\")\n",
    "from tqdm import tqdm, tqdm_notebook\n",
    "from sklearn.cluster import MiniBatchKMeans, KMeans\n",
    "from sklearn.metrics import silhouette_score\n",
    "from sklearn.preprocessing import Normalizer"
   ]
  },
  {
   "cell_type": "markdown",
   "metadata": {},
   "source": [
    "### We had several text files as articles in a specific path, so each textfile can be pushed as single entity in a dataframe"
   ]
  },
  {
   "cell_type": "code",
   "execution_count": 218,
   "metadata": {},
   "outputs": [],
   "source": [
    "import os\n",
    "\n",
    "num=0\n",
    "business={}\n",
    "while True:\n",
    "    try:\n",
    "        num=num+1\n",
    "        file = open('business/'+str(num).zfill(3)+'.txt', \"r\")\n",
    "        business[num] = file.read()\n",
    "    except: break\n",
    "       "
   ]
  },
  {
   "cell_type": "markdown",
   "metadata": {},
   "source": [
    "### Example- A typical article"
   ]
  },
  {
   "cell_type": "code",
   "execution_count": 3,
   "metadata": {},
   "outputs": [
    {
     "name": "stdout",
     "output_type": "stream",
     "text": [
      "High fuel prices hit BA's profits\n",
      "\n",
      "British Airways has blamed high fuel prices for a 40% drop in profits.\n",
      "\n",
      "Reporting its results for the three months to 31 December 2004, the airline made a pre-tax profit of Â£75m ($141m) compared with Â£125m a year earlier. Rod Eddington, BA's chief executive, said the results were \"respectable\" in a third quarter when fuel costs rose by Â£106m or 47.3%. BA's profits were still better than market expectation of Â£59m, and it expects a rise in full-year revenues.\n",
      "\n",
      "To help offset the increased price of aviation fuel, BA last year introduced a fuel surcharge for passengers.\n",
      "\n",
      "In October, it increased this from Â£6 to Â£10 one-way for all long-haul flights, while the short-haul surcharge was raised from Â£2.50 to Â£4 a leg. Yet aviation analyst Mike Powell of Dresdner Kleinwort Wasserstein says BA's estimated annual surcharge revenues - Â£160m - will still be way short of its additional fuel costs - a predicted extra Â£250m. Turnover for the quarter was up 4.3% to Â£1.97bn, further benefiting from a rise in cargo revenue. Looking ahead to its full year results to March 2005, BA warned that yields - average revenues per passenger - were expected to decline as it continues to lower prices in the face of competition from low-cost carriers. However, it said sales would be better than previously forecast. \"For the year to March 2005, the total revenue outlook is slightly better than previous guidance with a 3% to 3.5% improvement anticipated,\" BA chairman Martin Broughton said. BA had previously forecast a 2% to 3% rise in full-year revenue.\n",
      "\n",
      "It also reported on Friday that passenger numbers rose 8.1% in January. Aviation analyst Nick Van den Brul of BNP Paribas described BA's latest quarterly results as \"pretty modest\". \"It is quite good on the revenue side and it shows the impact of fuel surcharges and a positive cargo development, however, operating margins down and cost impact of fuel are very strong,\" he said. Since the 11 September 2001 attacks in the United States, BA has cut 13,000 jobs as part of a major cost-cutting drive. \"Our focus remains on reducing controllable costs and debt whilst continuing to invest in our products,\" Mr Eddington said. \"For example, we have taken delivery of six Airbus A321 aircraft and next month we will start further improvements to our Club World flat beds.\" BA's shares closed up four pence at 274.5 pence.\n",
      "\n"
     ]
    }
   ],
   "source": [
    "print (business[4])"
   ]
  },
  {
   "cell_type": "code",
   "execution_count": 4,
   "metadata": {},
   "outputs": [],
   "source": [
    "pd.set_option('display.min_rows', 100)"
   ]
  },
  {
   "cell_type": "code",
   "execution_count": 5,
   "metadata": {},
   "outputs": [],
   "source": [
    "article_df = DataFrame.from_dict(business, orient = 'index', columns=['article'])"
   ]
  },
  {
   "cell_type": "code",
   "execution_count": 6,
   "metadata": {},
   "outputs": [
    {
     "data": {
      "text/html": [
       "<div>\n",
       "<style scoped>\n",
       "    .dataframe tbody tr th:only-of-type {\n",
       "        vertical-align: middle;\n",
       "    }\n",
       "\n",
       "    .dataframe tbody tr th {\n",
       "        vertical-align: top;\n",
       "    }\n",
       "\n",
       "    .dataframe thead th {\n",
       "        text-align: right;\n",
       "    }\n",
       "</style>\n",
       "<table border=\"1\" class=\"dataframe\">\n",
       "  <thead>\n",
       "    <tr style=\"text-align: right;\">\n",
       "      <th></th>\n",
       "      <th>article</th>\n",
       "    </tr>\n",
       "  </thead>\n",
       "  <tbody>\n",
       "    <tr>\n",
       "      <th>1</th>\n",
       "      <td>Ad sales boost Time Warner profit\\n\\nQuarterly...</td>\n",
       "    </tr>\n",
       "    <tr>\n",
       "      <th>2</th>\n",
       "      <td>Dollar gains on Greenspan speech\\n\\nThe dollar...</td>\n",
       "    </tr>\n",
       "    <tr>\n",
       "      <th>3</th>\n",
       "      <td>Yukos unit buyer faces loan claim\\n\\nThe owner...</td>\n",
       "    </tr>\n",
       "    <tr>\n",
       "      <th>4</th>\n",
       "      <td>High fuel prices hit BA's profits\\n\\nBritish A...</td>\n",
       "    </tr>\n",
       "    <tr>\n",
       "      <th>5</th>\n",
       "      <td>Pernod takeover talk lifts Domecq\\n\\nShares in...</td>\n",
       "    </tr>\n",
       "  </tbody>\n",
       "</table>\n",
       "</div>"
      ],
      "text/plain": [
       "                                             article\n",
       "1  Ad sales boost Time Warner profit\\n\\nQuarterly...\n",
       "2  Dollar gains on Greenspan speech\\n\\nThe dollar...\n",
       "3  Yukos unit buyer faces loan claim\\n\\nThe owner...\n",
       "4  High fuel prices hit BA's profits\\n\\nBritish A...\n",
       "5  Pernod takeover talk lifts Domecq\\n\\nShares in..."
      ]
     },
     "execution_count": 6,
     "metadata": {},
     "output_type": "execute_result"
    }
   ],
   "source": [
    "article_df.head(5)"
   ]
  },
  {
   "cell_type": "markdown",
   "metadata": {},
   "source": [
    "# Cleaning"
   ]
  },
  {
   "cell_type": "markdown",
   "metadata": {},
   "source": [
    "### Removing Punctuations and Symbols"
   ]
  },
  {
   "cell_type": "code",
   "execution_count": 7,
   "metadata": {},
   "outputs": [],
   "source": [
    "article_df[\"article\"] = article_df[\"article\"].apply(lambda x: re.sub(\"\\W+\",\" \",x))"
   ]
  },
  {
   "cell_type": "markdown",
   "metadata": {},
   "source": [
    "### Removing stopwords, numbers"
   ]
  },
  {
   "cell_type": "code",
   "execution_count": 8,
   "metadata": {},
   "outputs": [
    {
     "data": {
      "text/html": [
       "<div>\n",
       "<style scoped>\n",
       "    .dataframe tbody tr th:only-of-type {\n",
       "        vertical-align: middle;\n",
       "    }\n",
       "\n",
       "    .dataframe tbody tr th {\n",
       "        vertical-align: top;\n",
       "    }\n",
       "\n",
       "    .dataframe thead th {\n",
       "        text-align: right;\n",
       "    }\n",
       "</style>\n",
       "<table border=\"1\" class=\"dataframe\">\n",
       "  <thead>\n",
       "    <tr style=\"text-align: right;\">\n",
       "      <th></th>\n",
       "      <th>article</th>\n",
       "    </tr>\n",
       "  </thead>\n",
       "  <tbody>\n",
       "    <tr>\n",
       "      <th>1</th>\n",
       "      <td>Ad sales boost Time Warner profit Quarterly pr...</td>\n",
       "    </tr>\n",
       "    <tr>\n",
       "      <th>2</th>\n",
       "      <td>Dollar gains on Greenspan speech The dollar ha...</td>\n",
       "    </tr>\n",
       "    <tr>\n",
       "      <th>3</th>\n",
       "      <td>Yukos unit buyer faces loan claim The owners o...</td>\n",
       "    </tr>\n",
       "    <tr>\n",
       "      <th>4</th>\n",
       "      <td>High fuel prices hit BA s profits British Airw...</td>\n",
       "    </tr>\n",
       "    <tr>\n",
       "      <th>5</th>\n",
       "      <td>Pernod takeover talk lifts Domecq Shares in UK...</td>\n",
       "    </tr>\n",
       "  </tbody>\n",
       "</table>\n",
       "</div>"
      ],
      "text/plain": [
       "                                             article\n",
       "1  Ad sales boost Time Warner profit Quarterly pr...\n",
       "2  Dollar gains on Greenspan speech The dollar ha...\n",
       "3  Yukos unit buyer faces loan claim The owners o...\n",
       "4  High fuel prices hit BA s profits British Airw...\n",
       "5  Pernod takeover talk lifts Domecq Shares in UK..."
      ]
     },
     "execution_count": 8,
     "metadata": {},
     "output_type": "execute_result"
    }
   ],
   "source": [
    "article_df.head()"
   ]
  },
  {
   "cell_type": "code",
   "execution_count": 199,
   "metadata": {
    "scrolled": true
   },
   "outputs": [],
   "source": [
    "stop = stopwords.words('english')\n",
    "stop.append(\"said\")\n",
    "stop.append(\"mr\")\n",
    "stop.append(\"year\")\n",
    "\n",
    "def remove_stop(x):\n",
    "    \n",
    "    article = x['article']\n",
    "    \n",
    "    tokens = word_tokenize(article)\n",
    "    \n",
    "    stop = stopwords.words('english')\n",
    "    \n",
    "    tokens_without_sw= [word for word in tokens if word not in stop and word.isalpha() and len(word)>1]\n",
    "\n",
    "    return (\" \".join(tokens_without_sw))"
   ]
  },
  {
   "cell_type": "code",
   "execution_count": 200,
   "metadata": {},
   "outputs": [],
   "source": [
    "article_df[\"article\"] = article_df.apply(remove_stop, axis=1)"
   ]
  },
  {
   "cell_type": "code",
   "execution_count": 11,
   "metadata": {},
   "outputs": [
    {
     "data": {
      "text/plain": [
       "'High fuel prices hit BA profits British Airways blamed high fuel prices drop profits Reporting results three months December airline made pre tax profit compared year earlier Rod Eddington BA chief executive said results respectable third quarter fuel costs rose BA profits still better market expectation expects rise full year revenues To help offset increased price aviation fuel BA last year introduced fuel surcharge passengers In October increased one way long haul flights short haul surcharge raised leg Yet aviation analyst Mike Powell Dresdner Kleinwort Wasserstein says BA estimated annual surcharge revenues still way short additional fuel costs predicted extra Turnover quarter benefiting rise cargo revenue Looking ahead full year results March BA warned yields average revenues per passenger expected decline continues lower prices face competition low cost carriers However said sales would better previously forecast For year March total revenue outlook slightly better previous guidance improvement anticipated BA chairman Martin Broughton said BA previously forecast rise full year revenue It also reported Friday passenger numbers rose January Aviation analyst Nick Van den Brul BNP Paribas described BA latest quarterly results pretty modest It quite good revenue side shows impact fuel surcharges positive cargo development however operating margins cost impact fuel strong said Since September attacks United States BA cut jobs part major cost cutting drive Our focus remains reducing controllable costs debt whilst continuing invest products Mr Eddington said For example taken delivery six Airbus aircraft next month start improvements Club World flat beds BA shares closed four pence pence'"
      ]
     },
     "execution_count": 11,
     "metadata": {},
     "output_type": "execute_result"
    }
   ],
   "source": [
    "article_df[\"article\"][4]"
   ]
  },
  {
   "cell_type": "markdown",
   "metadata": {},
   "source": [
    "### Defining G20 Countries and Nationalities"
   ]
  },
  {
   "cell_type": "code",
   "execution_count": 12,
   "metadata": {},
   "outputs": [],
   "source": [
    "G20=[\"Argentina\", \"Australia\", \"Brazil\", \"Canada\", \"China\", \"Germany\", \"France\", \"India\", \"Indonesia\",\\\n",
    "      \"Japan\", \"Mexico\", \"Russia\", \\\n",
    "     \"Saudi Arabia\", \"Italy\",\"South Africa\", \"Korea\", \"Turkey\", \"UK\",\"US\",\"United States\",\"United Kingdom\",\"America\"]\n",
    "\n",
    "Europe=[\"Austria\",\"Belgium\",\"Latvia\",\\\n",
    "\"Bulgaria\",\"Lithuania\",\"Croatia\",\"Luxembourg\",\"Cyprus\",\"Malta\",\"Czechia\",\"Netherlands\",\\\n",
    "\"Denmark\",\"Poland\",\"Estonia\",\"Portugal\",\"Finland\",\"Romania\",\"France\",\"Slovakia\",\"Slovenia\",\\\n",
    "\"Greece\",\"Spain\",\"Hungary\",\"Sweden\",\"Ireland\",\"Europe\",\"French\",\\\n",
    "            \"Italian\",\"British\",\"Hungary\",\"Finland\",\"Finnish\",\"Sweden\",\n",
    "            \"Belgian\",\"Latvian\",\"Polish\",\"Czech\",\"Swedish\",\"Swiss\",\"Spanish\",\\\n",
    "             \"greek\",\"Dutch\",\"Croatian\"]\n",
    "\n",
    "UK=[\"England\", \"Scotland\", \"Wales\",\"Ireland\",\"Scottish\",\"Irish\"]"
   ]
  },
  {
   "cell_type": "code",
   "execution_count": 13,
   "metadata": {},
   "outputs": [],
   "source": [
    "Nationality=[\"Chinese\",\"Russian\",\"South African\",\"Korean\",\"Argentine\",\"Argentinean\",\"Australian\",\"Brazilian\",\"Canadian\",\\\n",
    "               \"Japanese\",\"Mexican\",\"American\",\"Turkish\",\"Indian\",\"Indonesian\",\"German\",\"Italian\"]"
   ]
  },
  {
   "cell_type": "code",
   "execution_count": 14,
   "metadata": {},
   "outputs": [],
   "source": [
    "Nationality_dict={\"Chinese\":\"China\",\"Russian\":\"Russia\",\\\n",
    "                  \"South African\":\"South African\",\"Korean\":\"Korea\",\\\n",
    "                  \"Argentine\":\"Argentina\",\"Argentinean\":\"Argentina\",\\\n",
    "                  \"Australian\":\"Australia\",\"Brazilian\":\"Brazil\",\"Canadian\":\"Canada\",\\\n",
    "               \"Japanese\":\"Japan\",\"Mexican\":\"Mexico\",\\\n",
    "                  \"American\":\"US\",\"Turkish\":\"Turkey\",\"Indian\":\"India\",\"Indonesian\":\"Indonesia\",\\\n",
    "                  \"German\":\"Germany\",\"Italian\":\"Italy\",\"America\":\"US\",\"American\":\"US\",\"United States\":\"US\",\\\n",
    "                  \"United Kingdom\":\"UK\",\"South African\":\"South Africa\"}"
   ]
  },
  {
   "cell_type": "markdown",
   "metadata": {},
   "source": [
    "### Entity Recognition using Spacy NLP"
   ]
  },
  {
   "cell_type": "code",
   "execution_count": 15,
   "metadata": {},
   "outputs": [],
   "source": [
    "def entityrec(article):\n",
    "    return list({ent.text for ent in nlp(article).ents if ent.label_ not in (\"DATE\",\"MONEY\",\"TIME\",\"PERCENT\",\\\n",
    "                                                                        \"QUANTITY\",\"ORDINAL\",\"CARDINAL\",\"PERSON\")})\n",
    "    "
   ]
  },
  {
   "cell_type": "markdown",
   "metadata": {},
   "source": [
    "### Example- For the above published article 4, the recognised entities are as follows"
   ]
  },
  {
   "cell_type": "code",
   "execution_count": 16,
   "metadata": {},
   "outputs": [
    {
     "data": {
      "text/plain": [
       "['Airbus',\n",
       " 'Club World',\n",
       " 'United States BA',\n",
       " 'Brul BNP Paribas',\n",
       " 'Reporting',\n",
       " 'British Airways',\n",
       " 'Mr Eddington',\n",
       " 'BA',\n",
       " 'January Aviation']"
      ]
     },
     "execution_count": 16,
     "metadata": {},
     "output_type": "execute_result"
    }
   ],
   "source": [
    "entityrec(article_df.loc[4][0])"
   ]
  },
  {
   "cell_type": "code",
   "execution_count": 17,
   "metadata": {},
   "outputs": [],
   "source": [
    "article_df[\"entities\"]=article_df[\"article\"].apply(entityrec)"
   ]
  },
  {
   "cell_type": "markdown",
   "metadata": {},
   "source": [
    "### Function for filtering direct Nationality mentions in entities"
   ]
  },
  {
   "cell_type": "code",
   "execution_count": 95,
   "metadata": {},
   "outputs": [],
   "source": [
    "def direct_countries(x):\n",
    "    entities = x['entities']\n",
    "    country_set = set()\n",
    "    for country in itertools.chain(G20,UK,Europe,Nationality):\n",
    "        if country in x['article']:\n",
    "            country_set.add(country)\n",
    "    \n",
    "    for country in country_set:\n",
    "        for entity in entities:\n",
    "            if country in entity:\n",
    "                entities.remove(entity)\n",
    "                \n",
    "    x['entities'] = entities\n",
    "    return list(country_set)"
   ]
  },
  {
   "cell_type": "markdown",
   "metadata": {},
   "source": [
    "### Example- in first article these are the countries directly mentioned"
   ]
  },
  {
   "cell_type": "code",
   "execution_count": 19,
   "metadata": {},
   "outputs": [],
   "source": [
    "article_df['direct'] = article_df.apply(direct_countries, axis=1)"
   ]
  },
  {
   "cell_type": "code",
   "execution_count": 21,
   "metadata": {},
   "outputs": [
    {
     "data": {
      "text/plain": [
       "article     High fuel prices hit BA profits British Airway...\n",
       "entities    [Airbus, Club World, Brul BNP Paribas, Reporti...\n",
       "direct                               [United States, British]\n",
       "Name: 4, dtype: object"
      ]
     },
     "execution_count": 21,
     "metadata": {},
     "output_type": "execute_result"
    }
   ],
   "source": [
    "article_df.loc[4]"
   ]
  },
  {
   "cell_type": "code",
   "execution_count": 22,
   "metadata": {},
   "outputs": [
    {
     "data": {
      "text/plain": [
       "1                     [US, Europe, German]\n",
       "2    [US, Chinese, Europe, America, China]\n",
       "3                             [US, Russia]\n",
       "4                 [United States, British]\n",
       "5       [US, French, Scotland, UK, France]\n",
       "Name: direct, dtype: object"
      ]
     },
     "execution_count": 22,
     "metadata": {},
     "output_type": "execute_result"
    }
   ],
   "source": [
    "article_df[\"direct\"].head()"
   ]
  },
  {
   "cell_type": "code",
   "execution_count": 23,
   "metadata": {},
   "outputs": [
    {
     "data": {
      "text/html": [
       "<div>\n",
       "<style scoped>\n",
       "    .dataframe tbody tr th:only-of-type {\n",
       "        vertical-align: middle;\n",
       "    }\n",
       "\n",
       "    .dataframe tbody tr th {\n",
       "        vertical-align: top;\n",
       "    }\n",
       "\n",
       "    .dataframe thead th {\n",
       "        text-align: right;\n",
       "    }\n",
       "</style>\n",
       "<table border=\"1\" class=\"dataframe\">\n",
       "  <thead>\n",
       "    <tr style=\"text-align: right;\">\n",
       "      <th></th>\n",
       "      <th>article</th>\n",
       "      <th>entities</th>\n",
       "      <th>direct</th>\n",
       "    </tr>\n",
       "  </thead>\n",
       "  <tbody>\n",
       "    <tr>\n",
       "      <th>1</th>\n",
       "      <td>Ad sales boost Time Warner profit Quarterly pr...</td>\n",
       "      <td>[TimeWarner, Warner Bros, Bertelsmann, SEC, AO...</td>\n",
       "      <td>[US, Europe, German]</td>\n",
       "    </tr>\n",
       "    <tr>\n",
       "      <th>2</th>\n",
       "      <td>Dollar gains Greenspan speech The dollar hit h...</td>\n",
       "      <td>[The White House, Federal Reserve, Beijing, Ne...</td>\n",
       "      <td>[US, Chinese, Europe, America, China]</td>\n",
       "    </tr>\n",
       "    <tr>\n",
       "      <th>3</th>\n",
       "      <td>Yukos unit buyer faces loan claim The owners e...</td>\n",
       "      <td>[Moscow, Reuters, Yugansk, Menatep Group, Rosn...</td>\n",
       "      <td>[US, Russia]</td>\n",
       "    </tr>\n",
       "    <tr>\n",
       "      <th>4</th>\n",
       "      <td>High fuel prices hit BA profits British Airway...</td>\n",
       "      <td>[Airbus, Club World, Brul BNP Paribas, Reporti...</td>\n",
       "      <td>[United States, British]</td>\n",
       "    </tr>\n",
       "    <tr>\n",
       "      <th>5</th>\n",
       "      <td>Pernod takeover talk lifts Domecq Shares UK dr...</td>\n",
       "      <td>[Stolichnaya, Havana Club, Paris, LVMH Pernod,...</td>\n",
       "      <td>[US, French, Scotland, UK, France]</td>\n",
       "    </tr>\n",
       "  </tbody>\n",
       "</table>\n",
       "</div>"
      ],
      "text/plain": [
       "                                             article  \\\n",
       "1  Ad sales boost Time Warner profit Quarterly pr...   \n",
       "2  Dollar gains Greenspan speech The dollar hit h...   \n",
       "3  Yukos unit buyer faces loan claim The owners e...   \n",
       "4  High fuel prices hit BA profits British Airway...   \n",
       "5  Pernod takeover talk lifts Domecq Shares UK dr...   \n",
       "\n",
       "                                            entities  \\\n",
       "1  [TimeWarner, Warner Bros, Bertelsmann, SEC, AO...   \n",
       "2  [The White House, Federal Reserve, Beijing, Ne...   \n",
       "3  [Moscow, Reuters, Yugansk, Menatep Group, Rosn...   \n",
       "4  [Airbus, Club World, Brul BNP Paribas, Reporti...   \n",
       "5  [Stolichnaya, Havana Club, Paris, LVMH Pernod,...   \n",
       "\n",
       "                                  direct  \n",
       "1                   [US, Europe, German]  \n",
       "2  [US, Chinese, Europe, America, China]  \n",
       "3                           [US, Russia]  \n",
       "4               [United States, British]  \n",
       "5     [US, French, Scotland, UK, France]  "
      ]
     },
     "execution_count": 23,
     "metadata": {},
     "output_type": "execute_result"
    }
   ],
   "source": [
    "article_df.head()"
   ]
  },
  {
   "cell_type": "markdown",
   "metadata": {},
   "source": [
    "### Using Wikipedia Web pages summary for extracting country"
   ]
  },
  {
   "cell_type": "markdown",
   "metadata": {},
   "source": [
    "### Examples- the number of wikipages with Trump as a keyword"
   ]
  },
  {
   "cell_type": "code",
   "execution_count": 24,
   "metadata": {},
   "outputs": [
    {
     "data": {
      "text/plain": [
       "['Donald Trump',\n",
       " 'Melania Trump',\n",
       " 'Trump',\n",
       " 'Fred Trump',\n",
       " 'Ivanka Trump',\n",
       " 'Tiffany Trump',\n",
       " 'Ivana Trump',\n",
       " 'Family of Donald Trump',\n",
       " 'Eric Trump',\n",
       " 'The Trump Organization']"
      ]
     },
     "execution_count": 24,
     "metadata": {},
     "output_type": "execute_result"
    }
   ],
   "source": [
    "wikipedia.search(\"trump\")"
   ]
  },
  {
   "cell_type": "code",
   "execution_count": 25,
   "metadata": {},
   "outputs": [
    {
     "data": {
      "text/plain": [
       "['Labour Party (UK)',\n",
       " 'Labour Party',\n",
       " '2020 Labour Party leadership election',\n",
       " 'Leader of the Labour Party (UK)',\n",
       " 'Labour Party (Norway)',\n",
       " 'Labour Party (Ireland)',\n",
       " 'New Zealand Labour Party',\n",
       " 'Deputy leader of the Labour Party (UK)',\n",
       " 'Labour Party (Malta)',\n",
       " 'Labour Party (Netherlands)']"
      ]
     },
     "execution_count": 25,
     "metadata": {},
     "output_type": "execute_result"
    }
   ],
   "source": [
    "(wikipedia.search(\"Labour party\"))"
   ]
  },
  {
   "cell_type": "code",
   "execution_count": 27,
   "metadata": {},
   "outputs": [
    {
     "name": "stdout",
     "output_type": "stream",
     "text": [
      "The Labour Party is a centre-left political party in the United Kingdom that has been described as an alliance of social democrats, democratic socialists and trade unionists. In all general elections \n"
     ]
    }
   ],
   "source": [
    "print(wikipedia.page((wikipedia.search(\"Labour Party\"))[0]).summary[:200])"
   ]
  },
  {
   "cell_type": "markdown",
   "metadata": {},
   "source": [
    "### Defining a function for knowing the nationality of an entity from wikipedia's first few lines of summary"
   ]
  },
  {
   "cell_type": "code",
   "execution_count": 33,
   "metadata": {},
   "outputs": [],
   "source": [
    "def search_wiki_for_country(x):\n",
    "    entities = x['entities']\n",
    "    search_results = \" \"\n",
    "    for entity in entities:\n",
    "        try:\n",
    "            first_page_summary = wikipedia.page((wikipedia.search(entity))[0]).summary[:200]\n",
    "            first_page_summary = re.sub(r'\\([^)].*\\)', '', first_page_summary)\n",
    "            search_results = search_results + first_page_summary\n",
    "        except:\n",
    "            continue\n",
    "    \n",
    "    wiki_search_entities = [(ent.text) for ent in nlp(search_results).ents if ent.label_ in (\"GPE\",\"LOC\") ]\n",
    "    countries=[]\n",
    "    \n",
    "    for nation in itertools.chain(G20,UK,Europe,Nationality):\n",
    "\n",
    "        if nation in wiki_search_entities:\n",
    "            countries.append(nation)\n",
    "    total = set(x['direct'] + countries)\n",
    "    return list(total)\n"
   ]
  },
  {
   "cell_type": "code",
   "execution_count": 37,
   "metadata": {},
   "outputs": [],
   "source": [
    "article_df[\"total\"] = article_df.apply(search_wiki_for_country, axis=1)"
   ]
  },
  {
   "cell_type": "code",
   "execution_count": 38,
   "metadata": {},
   "outputs": [
    {
     "data": {
      "text/html": [
       "<div>\n",
       "<style scoped>\n",
       "    .dataframe tbody tr th:only-of-type {\n",
       "        vertical-align: middle;\n",
       "    }\n",
       "\n",
       "    .dataframe tbody tr th {\n",
       "        vertical-align: top;\n",
       "    }\n",
       "\n",
       "    .dataframe thead th {\n",
       "        text-align: right;\n",
       "    }\n",
       "</style>\n",
       "<table border=\"1\" class=\"dataframe\">\n",
       "  <thead>\n",
       "    <tr style=\"text-align: right;\">\n",
       "      <th></th>\n",
       "      <th>article</th>\n",
       "      <th>entities</th>\n",
       "      <th>direct</th>\n",
       "      <th>total</th>\n",
       "    </tr>\n",
       "  </thead>\n",
       "  <tbody>\n",
       "    <tr>\n",
       "      <th>1</th>\n",
       "      <td>Ad sales boost Time Warner profit Quarterly pr...</td>\n",
       "      <td>[TimeWarner, Warner Bros, Bertelsmann, SEC, AO...</td>\n",
       "      <td>[US, Europe, German]</td>\n",
       "      <td>[Germany, US, Europe, German]</td>\n",
       "    </tr>\n",
       "    <tr>\n",
       "      <th>2</th>\n",
       "      <td>Dollar gains Greenspan speech The dollar hit h...</td>\n",
       "      <td>[The White House, Federal Reserve, Beijing, Ne...</td>\n",
       "      <td>[US, Chinese, Europe, America, China]</td>\n",
       "      <td>[US, Chinese, England, Europe, America, China]</td>\n",
       "    </tr>\n",
       "    <tr>\n",
       "      <th>3</th>\n",
       "      <td>Yukos unit buyer faces loan claim The owners e...</td>\n",
       "      <td>[Moscow, Reuters, Yugansk, Menatep Group, Rosn...</td>\n",
       "      <td>[US, Russia]</td>\n",
       "      <td>[US, Russia]</td>\n",
       "    </tr>\n",
       "    <tr>\n",
       "      <th>4</th>\n",
       "      <td>High fuel prices hit BA profits British Airway...</td>\n",
       "      <td>[Airbus, Club World, Brul BNP Paribas, Reporti...</td>\n",
       "      <td>[United States, British]</td>\n",
       "      <td>[England, Belgium, United States, British]</td>\n",
       "    </tr>\n",
       "    <tr>\n",
       "      <th>5</th>\n",
       "      <td>Pernod takeover talk lifts Domecq Shares UK dr...</td>\n",
       "      <td>[Stolichnaya, Havana Club, Paris, LVMH Pernod,...</td>\n",
       "      <td>[US, French, Scotland, UK, France]</td>\n",
       "      <td>[US, French, England, Scotland, UK, France]</td>\n",
       "    </tr>\n",
       "  </tbody>\n",
       "</table>\n",
       "</div>"
      ],
      "text/plain": [
       "                                             article  \\\n",
       "1  Ad sales boost Time Warner profit Quarterly pr...   \n",
       "2  Dollar gains Greenspan speech The dollar hit h...   \n",
       "3  Yukos unit buyer faces loan claim The owners e...   \n",
       "4  High fuel prices hit BA profits British Airway...   \n",
       "5  Pernod takeover talk lifts Domecq Shares UK dr...   \n",
       "\n",
       "                                            entities  \\\n",
       "1  [TimeWarner, Warner Bros, Bertelsmann, SEC, AO...   \n",
       "2  [The White House, Federal Reserve, Beijing, Ne...   \n",
       "3  [Moscow, Reuters, Yugansk, Menatep Group, Rosn...   \n",
       "4  [Airbus, Club World, Brul BNP Paribas, Reporti...   \n",
       "5  [Stolichnaya, Havana Club, Paris, LVMH Pernod,...   \n",
       "\n",
       "                                  direct  \\\n",
       "1                   [US, Europe, German]   \n",
       "2  [US, Chinese, Europe, America, China]   \n",
       "3                           [US, Russia]   \n",
       "4               [United States, British]   \n",
       "5     [US, French, Scotland, UK, France]   \n",
       "\n",
       "                                            total  \n",
       "1                   [Germany, US, Europe, German]  \n",
       "2  [US, Chinese, England, Europe, America, China]  \n",
       "3                                    [US, Russia]  \n",
       "4      [England, Belgium, United States, British]  \n",
       "5     [US, French, England, Scotland, UK, France]  "
      ]
     },
     "execution_count": 38,
     "metadata": {},
     "output_type": "execute_result"
    }
   ],
   "source": [
    "article_df.head()"
   ]
  },
  {
   "cell_type": "code",
   "execution_count": 157,
   "metadata": {},
   "outputs": [],
   "source": [
    "article_df = article_df[[\"article\",\"total\"]]"
   ]
  },
  {
   "cell_type": "code",
   "execution_count": 158,
   "metadata": {},
   "outputs": [
    {
     "data": {
      "text/html": [
       "<div>\n",
       "<style scoped>\n",
       "    .dataframe tbody tr th:only-of-type {\n",
       "        vertical-align: middle;\n",
       "    }\n",
       "\n",
       "    .dataframe tbody tr th {\n",
       "        vertical-align: top;\n",
       "    }\n",
       "\n",
       "    .dataframe thead th {\n",
       "        text-align: right;\n",
       "    }\n",
       "</style>\n",
       "<table border=\"1\" class=\"dataframe\">\n",
       "  <thead>\n",
       "    <tr style=\"text-align: right;\">\n",
       "      <th></th>\n",
       "      <th>article</th>\n",
       "      <th>total</th>\n",
       "    </tr>\n",
       "  </thead>\n",
       "  <tbody>\n",
       "    <tr>\n",
       "      <th>1</th>\n",
       "      <td>Ad sales boost Time Warner profit Quarterly pr...</td>\n",
       "      <td>[Germany, US, Europe, German]</td>\n",
       "    </tr>\n",
       "    <tr>\n",
       "      <th>2</th>\n",
       "      <td>Dollar gains Greenspan speech The dollar hit h...</td>\n",
       "      <td>[US, Chinese, England, Europe, America, China]</td>\n",
       "    </tr>\n",
       "    <tr>\n",
       "      <th>3</th>\n",
       "      <td>Yukos unit buyer faces loan claim The owners e...</td>\n",
       "      <td>[US, Russia]</td>\n",
       "    </tr>\n",
       "    <tr>\n",
       "      <th>4</th>\n",
       "      <td>High fuel prices hit BA profits British Airway...</td>\n",
       "      <td>[England, Belgium, United States, British]</td>\n",
       "    </tr>\n",
       "    <tr>\n",
       "      <th>5</th>\n",
       "      <td>Pernod takeover talk lifts Domecq Shares UK dr...</td>\n",
       "      <td>[US, French, England, Scotland, UK, France]</td>\n",
       "    </tr>\n",
       "  </tbody>\n",
       "</table>\n",
       "</div>"
      ],
      "text/plain": [
       "                                             article  \\\n",
       "1  Ad sales boost Time Warner profit Quarterly pr...   \n",
       "2  Dollar gains Greenspan speech The dollar hit h...   \n",
       "3  Yukos unit buyer faces loan claim The owners e...   \n",
       "4  High fuel prices hit BA profits British Airway...   \n",
       "5  Pernod takeover talk lifts Domecq Shares UK dr...   \n",
       "\n",
       "                                            total  \n",
       "1                   [Germany, US, Europe, German]  \n",
       "2  [US, Chinese, England, Europe, America, China]  \n",
       "3                                    [US, Russia]  \n",
       "4      [England, Belgium, United States, British]  \n",
       "5     [US, French, England, Scotland, UK, France]  "
      ]
     },
     "execution_count": 158,
     "metadata": {},
     "output_type": "execute_result"
    }
   ],
   "source": [
    "article_df.head()"
   ]
  },
  {
   "cell_type": "markdown",
   "metadata": {},
   "source": [
    "### Defining a function for dealing with similar words like Chinese and Chine, both refer to China"
   ]
  },
  {
   "cell_type": "code",
   "execution_count": 159,
   "metadata": {},
   "outputs": [
    {
     "data": {
      "text/plain": [
       "['US', 'Chinese', 'England', 'Europe', 'America', 'China']"
      ]
     },
     "execution_count": 159,
     "metadata": {},
     "output_type": "execute_result"
    }
   ],
   "source": [
    "article_df.total[2]"
   ]
  },
  {
   "cell_type": "code",
   "execution_count": 160,
   "metadata": {},
   "outputs": [],
   "source": [
    "def combine_nationalities(x):\n",
    "    total = x['total']\n",
    "    final_set = set()\n",
    "    for country in total:\n",
    "              \n",
    "        if country in list(Nationality_dict.keys()):\n",
    "            final_set.add(Nationality_dict[country])\n",
    "        elif country in G20:\n",
    "            final_set.add(country)  \n",
    "        elif country in Europe:\n",
    "            final_set.add(\"Europe\")\n",
    "        elif country in UK:\n",
    "            final_set.add(\"UK\")\n",
    "    return list(final_set)"
   ]
  },
  {
   "cell_type": "code",
   "execution_count": 161,
   "metadata": {},
   "outputs": [
    {
     "data": {
      "text/plain": [
       "['US', 'Europe', 'UK', 'China']"
      ]
     },
     "execution_count": 161,
     "metadata": {},
     "output_type": "execute_result"
    }
   ],
   "source": [
    "combine_nationalities(article_df.loc[2])"
   ]
  },
  {
   "cell_type": "code",
   "execution_count": 162,
   "metadata": {},
   "outputs": [],
   "source": [
    "article_df[\"final_total\"] = article_df.apply(combine_nationalities, axis=1)"
   ]
  },
  {
   "cell_type": "markdown",
   "metadata": {},
   "source": [
    "### 2 countries were referred in 141 articles, 1 country was referred in 152 articles and so on"
   ]
  },
  {
   "cell_type": "code",
   "execution_count": 163,
   "metadata": {},
   "outputs": [
    {
     "data": {
      "text/plain": [
       "1    152\n",
       "2    141\n",
       "3    103\n",
       "4     49\n",
       "0     26\n",
       "5     23\n",
       "7      7\n",
       "6      6\n",
       "8      2\n",
       "9      1\n",
       "Name: final_total, dtype: int64"
      ]
     },
     "execution_count": 163,
     "metadata": {},
     "output_type": "execute_result"
    }
   ],
   "source": [
    "article_df[\"final_total\"].str.len().value_counts()"
   ]
  },
  {
   "cell_type": "code",
   "execution_count": 164,
   "metadata": {},
   "outputs": [],
   "source": [
    "extracted_df = pd.get_dummies(article_df.final_total.apply(pd.Series).stack()).sum(level=0)"
   ]
  },
  {
   "cell_type": "code",
   "execution_count": 165,
   "metadata": {},
   "outputs": [
    {
     "data": {
      "text/plain": [
       "(484, 20)"
      ]
     },
     "execution_count": 165,
     "metadata": {},
     "output_type": "execute_result"
    }
   ],
   "source": [
    "extracted_df.shape"
   ]
  },
  {
   "cell_type": "code",
   "execution_count": 211,
   "metadata": {},
   "outputs": [
    {
     "data": {
      "text/plain": [
       "Argentina         7\n",
       "Australia        26\n",
       "Brazil           13\n",
       "Canada           19\n",
       "China            72\n",
       "Europe          215\n",
       "France           34\n",
       "Germany          76\n",
       "India            64\n",
       "Indonesia        15\n",
       "Italy            21\n",
       "Japan            57\n",
       "Korea            14\n",
       "Mexico            6\n",
       "Russia           50\n",
       "Saudi Arabia      7\n",
       "South Africa     16\n",
       "Turkey           10\n",
       "UK              166\n",
       "US              276\n",
       "dtype: int64"
      ]
     },
     "execution_count": 211,
     "metadata": {},
     "output_type": "execute_result"
    }
   ],
   "source": [
    "extracted_df.sum(axis = 0, skipna = True)"
   ]
  },
  {
   "cell_type": "markdown",
   "metadata": {},
   "source": [
    "### First article has references to 3 countries, 2nd article to 4 countries and so on"
   ]
  },
  {
   "cell_type": "code",
   "execution_count": 209,
   "metadata": {},
   "outputs": [
    {
     "data": {
      "text/plain": [
       "1    3\n",
       "2    4\n",
       "3    2\n",
       "4    3\n",
       "5    4\n",
       "dtype: int64"
      ]
     },
     "execution_count": 209,
     "metadata": {},
     "output_type": "execute_result"
    }
   ],
   "source": [
    "extracted_df.sum(axis=1).head()"
   ]
  },
  {
   "cell_type": "markdown",
   "metadata": {},
   "source": [
    "# Theme Extraction",
    "Acknowledgement: https://www.ahmedbesbes.com/blog/interactive-topic-mining"
   ]
  },
  {
   "cell_type": "markdown",
   "metadata": {},
   "source": [
    "There are different ways generally used for theme extraction. The most popular methods being k-means clustering and LDA (Latent Dirichlet Allocation). \n",
    "\n",
    "The k-means method works by assuming an number of clusters and it tries to segregate the data according to the Euclidean distance metric. For data such as this, the initialization of clusters might play a very important role. So, we run this several times with different starting points to fix a cluster centroid. Once the cluster centroids are fixed, we take the closest centroid to classify an article. \n",
    "\n",
    "LDA on the other hand assumes that each article is a mixture of different topics and tries to find the importance of words that attributes them to different clusters. We can then assume the document to be assigned to a cluster with maximium probability or decide it to be a combinatino of two topics by defining a threshold."
   ]
  },
  {
   "cell_type": "code",
   "execution_count": 205,
   "metadata": {},
   "outputs": [
    {
     "name": "stdout",
     "output_type": "stream",
     "text": [
      "(510, 1740)\n"
     ]
    }
   ],
   "source": [
    "vectorizer = TfidfVectorizer(min_df=10, analyzer='word', ngram_range=(1, 2), stop_words=stop)\n",
    "vectorized_df = vectorizer.fit_transform(article_df['article'])\n",
    "\n",
    "print(vectorized_df.shape)"
   ]
  },
  {
   "cell_type": "markdown",
   "metadata": {},
   "source": [
    "### Dividing the articles into Clusters"
   ]
  },
  {
   "cell_type": "code",
   "execution_count": 182,
   "metadata": {},
   "outputs": [
    {
     "data": {
      "application/vnd.jupyter.widget-view+json": {
       "model_id": "c3a3c2a599314cf89a8469f1955b5379",
       "version_major": 2,
       "version_minor": 0
      },
      "text/plain": [
       "HBox(children=(FloatProgress(value=0.0, max=78.0), HTML(value='')))"
      ]
     },
     "metadata": {},
     "output_type": "display_data"
    },
    {
     "name": "stdout",
     "output_type": "stream",
     "text": [
      "\n"
     ]
    },
    {
     "data": {
      "image/png": "[encoded data removed]",
      "text/plain": [
       "<Figure size 1080x720 with 2 Axes>"
      ]
     },
     "metadata": {
      "needs_background": "light"
     },
     "output_type": "display_data"
    }
   ],
   "source": [
    "distorsions = []\n",
    "sil_scores = []\n",
    "k_max = 80\n",
    "for k in tqdm_notebook(range(2, k_max)):\n",
    "    kmeans_model = MiniBatchKMeans(n_clusters=k, init='k-means++', n_init=1, random_state=42,  \n",
    "                         init_size=1000, verbose=False, max_iter=1000)\n",
    "    kmeans_model.fit(vectorized_df)\n",
    "    sil_score = silhouette_score(vectorized_df, kmeans_model.labels_)\n",
    "    sil_scores.append(sil_score)\n",
    "    distorsions.append(kmeans_model.inertia_)\n",
    "\n",
    "\n",
    "f, (ax1, ax2) = plt.subplots(2, 1, sharex=True, figsize=(15, 10))\n",
    "\n",
    "ax1.plot(range(2, k_max), distorsions)\n",
    "ax1.set_title('Distorsion vs num of clusters')\n",
    "ax1.grid(True)\n",
    "\n",
    "ax2.plot(range(2, k_max), sil_scores)\n",
    "ax2.set_title('Silhouette score vs num of clusters')\n",
    "ax2.grid(True)"
   ]
  },
  {
   "cell_type": "code",
   "execution_count": 206,
   "metadata": {},
   "outputs": [],
   "source": [
    "num_clusters = 10\n",
    "kmeans_model = MiniBatchKMeans(n_clusters=num_clusters, init='k-means++', n_init=1, random_state=42,                       \n",
    "                         init_size=1000, batch_size=1000, verbose=False, max_iter=1000, )\n",
    "kmeans = kmeans_model.fit(vectorized_df)\n",
    "kmeans_clusters = kmeans.predict(vectorized_df)\n",
    "kmeans_distances = kmeans.transform(vectorized_df)"
   ]
  },
  {
   "cell_type": "code",
   "execution_count": 207,
   "metadata": {},
   "outputs": [
    {
     "name": "stdout",
     "output_type": "stream",
     "text": [
      "Cluster 6: Ad sales boost Time Warner profit Quarterly profits US media giant TimeWarner jumped three months December year earlier The firm one biggest investors Google benefited sales high speed internet connections higher advert sales TimeWarner said fourth quarter sales rose Its profits buoyed one gains offset profit dip Warner Bros less users AOL Time Warner said Friday owns search engine Google But internet business AOL mixed fortunes It lost subscribers fourth quarter profits lower preceding three quarters However company said AOL underlying profit exceptional items rose back stronger internet advertising revenues It hopes increase subscribers offering online service free TimeWarner internet customers try sign AOL existing customers high speed broadband TimeWarner also restate results following probe US Securities Exchange Commission SEC close concluding Time Warner fourth quarter profits slightly better analysts expectations But film division saw profits slump helped box office flops Alexander Catwoman sharp contrast year earlier third final film Lord Rings trilogy boosted results For full year TimeWarner posted profit performance revenues grew Our financial performance strong meeting exceeding full year objectives greatly enhancing flexibility chairman chief executive Richard Parsons said For TimeWarner projecting operating earnings growth around also expects higher revenue wider profit margins TimeWarner restate accounts part efforts resolve inquiry AOL US market regulators It already offered pay settle charges deal review SEC The company said unable estimate amount needed set aside legal reserves previously set It intends adjust way accounts deal German music publisher Bertelsmann purchase stake AOL Europe reported advertising revenue It book sale stake AOL Europe loss value stake\n",
      "distance: 0.8632376536236871\n",
      "---\n",
      "\n",
      "Cluster 8: Dollar gains Greenspan speech The dollar hit highest level euro almost three months Federal Reserve head said US trade deficit set stabilise And Alan Greenspan highlighted US government willingness curb spending rising household savings factors may help reduce In late trading New York dollar reached euro Thursday Market concerns deficit hit greenback recent months On Friday Federal Reserve chairman Mr Greenspan speech London ahead meeting finance ministers sent dollar higher earlier tumbled back worse expected US jobs data think chairman taking much sanguine view current account deficit taken time said Robert Sinche head currency strategy Bank America New York He taking longer term view laying set conditions current account deficit improve year next Worries deficit concerns China however remain China currency remains pegged dollar US currency sharp falls recent months therefore made Chinese export prices highly competitive But calls shift Beijing policy fallen deaf ears despite recent comments major Chinese newspaper time ripe loosening peg The meeting thought unlikely produce meaningful movement Chinese policy In meantime US Federal Reserve decision February boost interest rates quarter point sixth move many months opened differential European rates The half point window believe could enough keep US assets looking attractive could help prop dollar The recent falls partly result big budget deficits well US yawning current account gap need funded buying US bonds assets foreign firms governments The White House announce budget Monday many commentators believe deficit remain close half trillion dollars\n",
      "distance: 0.9181357958282291\n",
      "---\n",
      "\n",
      "Cluster 1: Yukos unit buyer faces loan claim The owners embattled Russian oil giant Yukos ask buyer former production unit pay back loan State owned Rosneft bought Yugansk unit sale forced Russia part settle tax claim Yukos Yukos owner Menatep Group says ask Rosneft repay loan Yugansk secured assets Rosneft already faces similar repayment demand foreign banks Legal experts said Rosneft purchase Yugansk would include obligations The pledged assets Rosneft pay real money creditors avoid seizure Yugansk assets said Moscow based US lawyer Jamie Firestone connected case Menatep Group managing director Tim Osborne told Reuters news agency If default fight rule law exists international arbitration clauses credit Rosneft officials unavailable comment But company said intends take action Menatep recover tax claims debts owed Yugansk Yukos filed bankruptcy protection US court attempt prevent forced sale main production arm The sale went ahead December Yugansk sold little known shell company turn bought Rosneft Yukos claims downfall punishment political ambitions founder Mikhail Khodorkovsky vowed sue participant sale\n",
      "distance: 0.775770890748161\n",
      "---\n",
      "\n",
      "Cluster 6: High fuel prices hit BA profits British Airways blamed high fuel prices drop profits Reporting results three months December airline made pre tax profit compared year earlier Rod Eddington BA chief executive said results respectable third quarter fuel costs rose BA profits still better market expectation expects rise full year revenues To help offset increased price aviation fuel BA last year introduced fuel surcharge passengers In October increased one way long haul flights short haul surcharge raised leg Yet aviation analyst Mike Powell Dresdner Kleinwort Wasserstein says BA estimated annual surcharge revenues still way short additional fuel costs predicted extra Turnover quarter benefiting rise cargo revenue Looking ahead full year results March BA warned yields average revenues per passenger expected decline continues lower prices face competition low cost carriers However said sales would better previously forecast For year March total revenue outlook slightly better previous guidance improvement anticipated BA chairman Martin Broughton said BA previously forecast rise full year revenue It also reported Friday passenger numbers rose January Aviation analyst Nick Van den Brul BNP Paribas described BA latest quarterly results pretty modest It quite good revenue side shows impact fuel surcharges positive cargo development however operating margins cost impact fuel strong said Since September attacks United States BA cut jobs part major cost cutting drive Our focus remains reducing controllable costs debt whilst continuing invest products Mr Eddington said For example taken delivery six Airbus aircraft next month start improvements Club World flat beds BA shares closed four pence pence\n",
      "distance: 0.9126199714694396\n",
      "---\n",
      "\n",
      "Cluster 6: Pernod takeover talk lifts Domecq Shares UK drinks food firm Allied Domecq risen speculation could target takeover France Pernod Ricard Reports Wall Street Journal Financial Times suggested French spirits firm considering bid yet contact target Allied Domecq shares London rose GMT Pernod shares Paris slipped Pernod said seeking acquisitions refused comment specifics Pernod last major purchase third US giant Seagram move propelled global top three drinks firms The two thirds Seagram bought market leader Diageo In terms market value Pernod euros smaller Allied Domecq capitalisation euros Last year Pernod tried buy Glenmorangie one Scotland premier whisky firms lost luxury goods firm LVMH Pernod home brands including Chivas Regal Scotch whisky Havana Club rum Jacob Creek wine Allied Domecq big names include Malibu rum Courvoisier brandy Stolichnaya vodka Ballantine whisky well snack food chains Dunkin Donuts Baskin Robbins ice cream The WSJ said two ripe consolidation dealt problematic parts portfolio Pernod reduced debt took fund Seagram purchase euros Allied improved performance fast food chains\n",
      "distance: 0.9597332084476794\n",
      "---\n",
      "\n"
     ]
    }
   ],
   "source": [
    "for i, article in enumerate(article_df.article):\n",
    "    if i < 5:\n",
    "        print(\"Cluster \" + str(kmeans_clusters[i]) + \": \" + article) \n",
    "        print(\"distance: \" + str(kmeans_distances[i][kmeans_clusters[i]]) )\n",
    "        print('---\\n')"
   ]
  },
  {
   "cell_type": "code",
   "execution_count": 208,
   "metadata": {},
   "outputs": [
    {
     "data": {
      "text/html": [
       "<div>\n",
       "<style scoped>\n",
       "    .dataframe tbody tr th:only-of-type {\n",
       "        vertical-align: middle;\n",
       "    }\n",
       "\n",
       "    .dataframe tbody tr th {\n",
       "        vertical-align: top;\n",
       "    }\n",
       "\n",
       "    .dataframe thead th {\n",
       "        text-align: right;\n",
       "    }\n",
       "</style>\n",
       "<table border=\"1\" class=\"dataframe\">\n",
       "  <thead>\n",
       "    <tr style=\"text-align: right;\">\n",
       "      <th></th>\n",
       "      <th>keyword 1</th>\n",
       "      <th>keyword 2</th>\n",
       "      <th>keyword 3</th>\n",
       "      <th>keyword 4</th>\n",
       "      <th>keyword 5</th>\n",
       "      <th>keyword 6</th>\n",
       "      <th>keyword 7</th>\n",
       "      <th>keyword 8</th>\n",
       "      <th>keyword 9</th>\n",
       "      <th>keyword 10</th>\n",
       "      <th>keyword 11</th>\n",
       "      <th>keyword 12</th>\n",
       "      <th>keyword 13</th>\n",
       "      <th>keyword 14</th>\n",
       "      <th>keyword 15</th>\n",
       "    </tr>\n",
       "  </thead>\n",
       "  <tbody>\n",
       "    <tr>\n",
       "      <th>Topic 1</th>\n",
       "      <td>prices</td>\n",
       "      <td>crude</td>\n",
       "      <td>oil</td>\n",
       "      <td>house</td>\n",
       "      <td>mortgage</td>\n",
       "      <td>housing</td>\n",
       "      <td>barrel</td>\n",
       "      <td>house prices</td>\n",
       "      <td>market</td>\n",
       "      <td>lending</td>\n",
       "      <td>price</td>\n",
       "      <td>figures</td>\n",
       "      <td>uk</td>\n",
       "      <td>us</td>\n",
       "      <td>rose</td>\n",
       "    </tr>\n",
       "    <tr>\n",
       "      <th>Topic 2</th>\n",
       "      <td>yukos</td>\n",
       "      <td>russian</td>\n",
       "      <td>gazprom</td>\n",
       "      <td>oil</td>\n",
       "      <td>yugansk</td>\n",
       "      <td>russia</td>\n",
       "      <td>rosneft</td>\n",
       "      <td>court</td>\n",
       "      <td>khodorkovsky</td>\n",
       "      <td>tax</td>\n",
       "      <td>auction</td>\n",
       "      <td>bankruptcy</td>\n",
       "      <td>yuganskneftegas</td>\n",
       "      <td>sale</td>\n",
       "      <td>unit</td>\n",
       "    </tr>\n",
       "    <tr>\n",
       "      <th>Topic 3</th>\n",
       "      <td>economy</td>\n",
       "      <td>growth</td>\n",
       "      <td>rates</td>\n",
       "      <td>rate</td>\n",
       "      <td>sales</td>\n",
       "      <td>consumer</td>\n",
       "      <td>economic</td>\n",
       "      <td>figures</td>\n",
       "      <td>quarter</td>\n",
       "      <td>interest</td>\n",
       "      <td>spending</td>\n",
       "      <td>bank</td>\n",
       "      <td>manufacturing</td>\n",
       "      <td>rise</td>\n",
       "      <td>interest rates</td>\n",
       "    </tr>\n",
       "    <tr>\n",
       "      <th>Topic 4</th>\n",
       "      <td>gm</td>\n",
       "      <td>car</td>\n",
       "      <td>cars</td>\n",
       "      <td>vehicles</td>\n",
       "      <td>motors</td>\n",
       "      <td>car maker</td>\n",
       "      <td>maker</td>\n",
       "      <td>sales</td>\n",
       "      <td>factory</td>\n",
       "      <td>production</td>\n",
       "      <td>market</td>\n",
       "      <td>motor</td>\n",
       "      <td>plant</td>\n",
       "      <td>general motors</td>\n",
       "      <td>auto</td>\n",
       "    </tr>\n",
       "    <tr>\n",
       "      <th>Topic 5</th>\n",
       "      <td>imf</td>\n",
       "      <td>sri</td>\n",
       "      <td>lanka</td>\n",
       "      <td>sri lanka</td>\n",
       "      <td>tsunami</td>\n",
       "      <td>directors</td>\n",
       "      <td>thailand</td>\n",
       "      <td>damage</td>\n",
       "      <td>disaster</td>\n",
       "      <td>economic</td>\n",
       "      <td>reconstruction</td>\n",
       "      <td>tourism</td>\n",
       "      <td>indonesia</td>\n",
       "      <td>affected</td>\n",
       "      <td>members</td>\n",
       "    </tr>\n",
       "    <tr>\n",
       "      <th>Topic 6</th>\n",
       "      <td>shares</td>\n",
       "      <td>company</td>\n",
       "      <td>us</td>\n",
       "      <td>firm</td>\n",
       "      <td>deal</td>\n",
       "      <td>market</td>\n",
       "      <td>financial</td>\n",
       "      <td>new</td>\n",
       "      <td>ebbers</td>\n",
       "      <td>worldcom</td>\n",
       "      <td>companies</td>\n",
       "      <td>would</td>\n",
       "      <td>insurance</td>\n",
       "      <td>stock</td>\n",
       "      <td>group</td>\n",
       "    </tr>\n",
       "    <tr>\n",
       "      <th>Topic 7</th>\n",
       "      <td>profits</td>\n",
       "      <td>sales</td>\n",
       "      <td>euros</td>\n",
       "      <td>profit</td>\n",
       "      <td>firm</td>\n",
       "      <td>company</td>\n",
       "      <td>shares</td>\n",
       "      <td>quarter</td>\n",
       "      <td>market</td>\n",
       "      <td>results</td>\n",
       "      <td>executive</td>\n",
       "      <td>chief executive</td>\n",
       "      <td>net</td>\n",
       "      <td>growth</td>\n",
       "      <td>rise</td>\n",
       "    </tr>\n",
       "    <tr>\n",
       "      <th>Topic 8</th>\n",
       "      <td>china</td>\n",
       "      <td>countries</td>\n",
       "      <td>india</td>\n",
       "      <td>trade</td>\n",
       "      <td>world</td>\n",
       "      <td>air</td>\n",
       "      <td>us</td>\n",
       "      <td>nations</td>\n",
       "      <td>developing</td>\n",
       "      <td>oil</td>\n",
       "      <td>also</td>\n",
       "      <td>one</td>\n",
       "      <td>government</td>\n",
       "      <td>economic</td>\n",
       "      <td>people</td>\n",
       "    </tr>\n",
       "    <tr>\n",
       "      <th>Topic 9</th>\n",
       "      <td>government</td>\n",
       "      <td>us</td>\n",
       "      <td>dollar</td>\n",
       "      <td>budget</td>\n",
       "      <td>eu</td>\n",
       "      <td>deficit</td>\n",
       "      <td>economic</td>\n",
       "      <td>economy</td>\n",
       "      <td>bank</td>\n",
       "      <td>president</td>\n",
       "      <td>country</td>\n",
       "      <td>would</td>\n",
       "      <td>bush</td>\n",
       "      <td>boeing</td>\n",
       "      <td>european</td>\n",
       "    </tr>\n",
       "    <tr>\n",
       "      <th>Topic 10</th>\n",
       "      <td>bid</td>\n",
       "      <td>lse</td>\n",
       "      <td>offer</td>\n",
       "      <td>boerse</td>\n",
       "      <td>deutsche boerse</td>\n",
       "      <td>deutsche</td>\n",
       "      <td>club</td>\n",
       "      <td>united</td>\n",
       "      <td>takeover</td>\n",
       "      <td>euronext</td>\n",
       "      <td>manchester</td>\n",
       "      <td>shareholders</td>\n",
       "      <td>board</td>\n",
       "      <td>london</td>\n",
       "      <td>shares</td>\n",
       "    </tr>\n",
       "  </tbody>\n",
       "</table>\n",
       "</div>"
      ],
      "text/plain": [
       "           keyword 1  keyword 2 keyword 3  keyword 4        keyword 5  \\\n",
       "Topic 1       prices      crude       oil      house         mortgage   \n",
       "Topic 2        yukos    russian   gazprom        oil          yugansk   \n",
       "Topic 3      economy     growth     rates       rate            sales   \n",
       "Topic 4           gm        car      cars   vehicles           motors   \n",
       "Topic 5          imf        sri     lanka  sri lanka          tsunami   \n",
       "Topic 6       shares    company        us       firm             deal   \n",
       "Topic 7      profits      sales     euros     profit             firm   \n",
       "Topic 8        china  countries     india      trade            world   \n",
       "Topic 9   government         us    dollar     budget               eu   \n",
       "Topic 10         bid        lse     offer     boerse  deutsche boerse   \n",
       "\n",
       "          keyword 6  keyword 7     keyword 8     keyword 9  keyword 10  \\\n",
       "Topic 1     housing     barrel  house prices        market     lending   \n",
       "Topic 2      russia    rosneft         court  khodorkovsky         tax   \n",
       "Topic 3    consumer   economic       figures       quarter    interest   \n",
       "Topic 4   car maker      maker         sales       factory  production   \n",
       "Topic 5   directors   thailand        damage      disaster    economic   \n",
       "Topic 6      market  financial           new        ebbers    worldcom   \n",
       "Topic 7     company     shares       quarter        market     results   \n",
       "Topic 8         air         us       nations    developing         oil   \n",
       "Topic 9     deficit   economic       economy          bank   president   \n",
       "Topic 10   deutsche       club        united      takeover    euronext   \n",
       "\n",
       "              keyword 11       keyword 12       keyword 13      keyword 14  \\\n",
       "Topic 1            price          figures               uk              us   \n",
       "Topic 2          auction       bankruptcy  yuganskneftegas            sale   \n",
       "Topic 3         spending             bank    manufacturing            rise   \n",
       "Topic 4           market            motor            plant  general motors   \n",
       "Topic 5   reconstruction          tourism        indonesia        affected   \n",
       "Topic 6        companies            would        insurance           stock   \n",
       "Topic 7        executive  chief executive              net          growth   \n",
       "Topic 8             also              one       government        economic   \n",
       "Topic 9          country            would             bush          boeing   \n",
       "Topic 10      manchester     shareholders            board          london   \n",
       "\n",
       "              keyword 15  \n",
       "Topic 1             rose  \n",
       "Topic 2             unit  \n",
       "Topic 3   interest rates  \n",
       "Topic 4             auto  \n",
       "Topic 5          members  \n",
       "Topic 6            group  \n",
       "Topic 7             rise  \n",
       "Topic 8           people  \n",
       "Topic 9         european  \n",
       "Topic 10          shares  "
      ]
     },
     "execution_count": 208,
     "metadata": {},
     "output_type": "execute_result"
    }
   ],
   "source": [
    "sorted_centroids = kmeans.cluster_centers_.argsort()[:, ::-1]\n",
    "terms = vectorizer.get_feature_names()\n",
    "all_keywords = []\n",
    "for i in range(num_clusters):\n",
    "    topic_keywords = []\n",
    "    for j in sorted_centroids[i, :15]:\n",
    "        topic_keywords.append(terms[j])\n",
    "    all_keywords.append(topic_keywords)\n",
    "\n",
    "keywords_df = pd.DataFrame(index=['Topic {0}'.format(i+1) for i in range(num_clusters)], \n",
    "                           columns=['keyword {0}'.format(i+1) for i in range(15)],\n",
    "                           data=all_keywords)\n",
    "keywords_df"
   ]
  },
  {
   "cell_type": "markdown",
   "metadata": {},
   "source": [
    "### 10 probable categories"
   ]
  },
  {
   "cell_type": "markdown",
   "metadata": {},
   "source": [
    "Topic-1\n",
    "Oil prices, house prices\n",
    "\n",
    "Topic-2\n",
    "Russia's Oil Production\n",
    "\n",
    "Topic-3\n",
    "Overall economic scenario and earning reports\n",
    "\n",
    "Topic-4\n",
    "Automotive industry \n",
    "\n",
    "Topic-5\n",
    "Economy of South Asian countries \n",
    "\n",
    "Topic-6\n",
    "US stock market and news\n",
    "\n",
    "Topic-7\n",
    "European stock market and news\n",
    "\n",
    "Topic-8\n",
    "India, US and China relations and economy\n",
    "\n",
    "Topic-9\n",
    "US economy\n",
    "\n",
    "Topic-10\n",
    "Germantrade and economy"
   ]
  }
 ],
 "metadata": {
  "kernelspec": {
   "display_name": "Python 3",
   "language": "python",
   "name": "python3"
  },
  "language_info": {
   "codemirror_mode": {
    "name": "ipython",
    "version": 3
   },
   "file_extension": ".py",
   "mimetype": "text/x-python",
   "name": "python",
   "nbconvert_exporter": "python",
   "pygments_lexer": "ipython3",
   "version": "3.7.4"
  }
 },
 "nbformat": 4,
 "nbformat_minor": 2
}
